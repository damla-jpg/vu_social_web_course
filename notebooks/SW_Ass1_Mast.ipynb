{
 "cells": [
  {
   "cell_type": "markdown",
   "metadata": {},
   "source": [
    "*****************************************************************\n",
    "#  The Social Web \n",
    "- Instructors: Davide Ceolin, Emma Beauxis-Aussalet.\n",
    "- TAs: Zubaria Inayat, Maxim Sergeev, Zhuofan Mei, Alexander Schmatz, Ling Jin.\n",
    "- Exercises for Hands-on session 1\n",
    "*****************************************************************"
   ]
  },
  {
   "cell_type": "markdown",
   "metadata": {},
   "source": [
    "Prerequisites:\n",
    "- Python 3.8\n",
    "- Python packages: mastodon.py, prettytable, matplotlib, ipython, re\n",
    "\n",
    "First you need to know how to retrieve some social web data. Exercises 1 and 2 will show you how to retrieve trends and search results from Mastodon. \n",
    "\n",
    "But let's check first if we're running a sufficiently new version of Python:"
   ]
  },
  {
   "cell_type": "code",
   "execution_count": 1,
   "metadata": {
    "tags": []
   },
   "outputs": [
   ],
   "source": [
    "import platform\n",
    "import sys\n",
    "print(\"This jupyter notebook is running on Python \" + platform.python_version())\n",
    "# It's good practice to assert packages requirements at the beginning of a script:\n",
    "assert sys.version_info >= (3, 6)"
   ]
  },
  {
   "cell_type": "markdown",
   "metadata": {},
   "source": [
    "Let's install now the required packages for this hands-on session:"
   ]
  },
  {
   "cell_type": "markdown",
   "metadata": {},
   "source": [
    "## Part 1: Setting up your Mastodon API in python:\n",
    "\n",
    "If you do not have an account already.\n",
    "1. Go to https://joinmastodon.org/ and create a Mastodon account. Unlike Twitter \"Mastodon is not a single website. To use it, you need to make an account with a provider — we call them servers — that lets you connect with other people across Mastodon\" (from their website). Pick a general one and find a server/instance that suits you on https://instances.social/. \n",
    "2. You will receive an Email to confirm your account.\n",
    "3. Confirm your account.\n",
    "\n",
    "We will use Mastodon.py in this assignment. It is a Python wrapper of the Mastodon API. This makes it possible to interact with Mastodon servers through Python. For the documentation, check https://mastodonpy.readthedocs.io/en/stable/.\n",
    " "
   ]
  },
  {
   "cell_type": "markdown",
   "metadata": {},
   "source": [
    "Register your app. This only needs to be done once. Uncomment the code and substitute in your information. The outputs are confidential. Delete them before submitting this notebook."
   ]
  },
  {
   "cell_type": "code",
   "execution_count": 10,
   "metadata": {
    "tags": []
   },
   "outputs": [
   ],
   "source": [
    "from mastodon import Mastodon\n",
    "\n",
    "Mastodon.create_app(\n",
    "    'your_app_name',\n",
    "    api_base_url = 'https://mastodon.social', #this is determined by your chosen server, if you picked the general server, dont change this line\n",
    "    to_file = 'your_client_crediential_file_name.secret'\n",
    ")\n"
   ]
  },
  {
   "cell_type": "markdown",
   "metadata": {},
   "source": [
    "Then, log in. This can be done every time your application starts (e.g. when writing a simple bot), or you can use the persisted information:\n",
    "(Note that this won’t work when using 2FA - you’ll have to use OAuth, in that case.)"
   ]
  },
  {
   "cell_type": "code",
   "execution_count": 9,
   "metadata": {
    "collapsed": true,
    "jupyter": {
     "outputs_hidden": true
    },
    "tags": []
   },
   "outputs": [
    {
     "ename": "MastodonIllegalArgumentError",
     "evalue": "Invalid user name, password, or redirect_uris: ('Mastodon API returned error', 400, 'Bad Request', 'invalid_grant')",
     "output_type": "error",
     "traceback": [
      "\u001b[1;31m---------------------------------------------------------------------------\u001b[0m",
      "\u001b[1;31mMastodonAPIError\u001b[0m                          Traceback (most recent call last)",
      "File \u001b[1;32m~\\anaconda3\\envs\\SW\\lib\\site-packages\\mastodon\\authentication.py:322\u001b[0m, in \u001b[0;36mMastodon.log_in\u001b[1;34m(self, username, password, code, redirect_uri, refresh_token, scopes, to_file)\u001b[0m\n\u001b[0;32m    321\u001b[0m \u001b[38;5;28;01mtry\u001b[39;00m:\n\u001b[1;32m--> 322\u001b[0m     response \u001b[38;5;241m=\u001b[39m \u001b[38;5;28;43mself\u001b[39;49m\u001b[38;5;241;43m.\u001b[39;49m\u001b[43m__api_request\u001b[49m\u001b[43m(\u001b[49m\u001b[38;5;124;43m'\u001b[39;49m\u001b[38;5;124;43mPOST\u001b[39;49m\u001b[38;5;124;43m'\u001b[39;49m\u001b[43m,\u001b[49m\u001b[43m \u001b[49m\u001b[38;5;124;43m'\u001b[39;49m\u001b[38;5;124;43m/oauth/token\u001b[39;49m\u001b[38;5;124;43m'\u001b[39;49m\u001b[43m,\u001b[49m\u001b[43m \u001b[49m\u001b[43mparams\u001b[49m\u001b[43m,\u001b[49m\u001b[43m \u001b[49m\u001b[43mdo_ratelimiting\u001b[49m\u001b[38;5;241;43m=\u001b[39;49m\u001b[38;5;28;43;01mFalse\u001b[39;49;00m\u001b[43m)\u001b[49m\n\u001b[0;32m    323\u001b[0m     \u001b[38;5;28mself\u001b[39m\u001b[38;5;241m.\u001b[39maccess_token \u001b[38;5;241m=\u001b[39m response[\u001b[38;5;124m'\u001b[39m\u001b[38;5;124maccess_token\u001b[39m\u001b[38;5;124m'\u001b[39m]\n",
      "File \u001b[1;32m~\\anaconda3\\envs\\SW\\lib\\site-packages\\mastodon\\internals.py:299\u001b[0m, in \u001b[0;36mMastodon.__api_request\u001b[1;34m(self, method, endpoint, params, files, headers, access_token_override, base_url_override, do_ratelimiting, use_json, parse, return_response_object, skip_error_check, lang_override)\u001b[0m\n\u001b[0;32m    297\u001b[0m             ex_type \u001b[38;5;241m=\u001b[39m MastodonAPIError\n\u001b[1;32m--> 299\u001b[0m         \u001b[38;5;28;01mraise\u001b[39;00m ex_type(\u001b[38;5;124m'\u001b[39m\u001b[38;5;124mMastodon API returned error\u001b[39m\u001b[38;5;124m'\u001b[39m, response_object\u001b[38;5;241m.\u001b[39mstatus_code, response_object\u001b[38;5;241m.\u001b[39mreason, error_msg)\n\u001b[0;32m    301\u001b[0m \u001b[38;5;28;01mif\u001b[39;00m return_response_object:\n",
      "\u001b[1;31mMastodonAPIError\u001b[0m: ('Mastodon API returned error', 400, 'Bad Request', 'invalid_grant')",
      "\nDuring handling of the above exception, another exception occurred:\n",
      "\u001b[1;31mMastodonIllegalArgumentError\u001b[0m              Traceback (most recent call last)",
      "Cell \u001b[1;32mIn[9], line 2\u001b[0m\n\u001b[0;32m      1\u001b[0m API \u001b[38;5;241m=\u001b[39m Mastodon(client_id \u001b[38;5;241m=\u001b[39m \u001b[38;5;124m'\u001b[39m\u001b[38;5;124myour_client_crediential_file_name.secret\u001b[39m\u001b[38;5;124m'\u001b[39m,)\n\u001b[1;32m----> 2\u001b[0m \u001b[43mAPI\u001b[49m\u001b[38;5;241;43m.\u001b[39;49m\u001b[43mlog_in\u001b[49m\u001b[43m(\u001b[49m\n\u001b[0;32m      3\u001b[0m \u001b[43m    \u001b[49m\u001b[38;5;124;43m'\u001b[39;49m\u001b[38;5;124;43myour_email@adress.nl\u001b[39;49m\u001b[38;5;124;43m'\u001b[39;49m\u001b[43m,\u001b[49m\n\u001b[0;32m      4\u001b[0m \u001b[43m    \u001b[49m\u001b[38;5;124;43m'\u001b[39;49m\u001b[38;5;124;43mverysecretpassword\u001b[39;49m\u001b[38;5;124;43m'\u001b[39;49m\u001b[43m,\u001b[49m\n\u001b[0;32m      5\u001b[0m \u001b[43m    \u001b[49m\u001b[43mto_file\u001b[49m\u001b[43m \u001b[49m\u001b[38;5;241;43m=\u001b[39;49m\u001b[43m \u001b[49m\u001b[38;5;124;43m'\u001b[39;49m\u001b[38;5;124;43musercred.secret\u001b[39;49m\u001b[38;5;124;43m'\u001b[39;49m\n\u001b[0;32m      6\u001b[0m \u001b[43m)\u001b[49m\n",
      "File \u001b[1;32m~\\anaconda3\\envs\\SW\\lib\\site-packages\\mastodon\\authentication.py:328\u001b[0m, in \u001b[0;36mMastodon.log_in\u001b[1;34m(self, username, password, code, redirect_uri, refresh_token, scopes, to_file)\u001b[0m\n\u001b[0;32m    326\u001b[0m \u001b[38;5;28;01mexcept\u001b[39;00m \u001b[38;5;167;01mException\u001b[39;00m \u001b[38;5;28;01mas\u001b[39;00m e:\n\u001b[0;32m    327\u001b[0m     \u001b[38;5;28;01mif\u001b[39;00m username \u001b[38;5;129;01mis\u001b[39;00m \u001b[38;5;129;01mnot\u001b[39;00m \u001b[38;5;28;01mNone\u001b[39;00m \u001b[38;5;129;01mor\u001b[39;00m password \u001b[38;5;129;01mis\u001b[39;00m \u001b[38;5;129;01mnot\u001b[39;00m \u001b[38;5;28;01mNone\u001b[39;00m:\n\u001b[1;32m--> 328\u001b[0m         \u001b[38;5;28;01mraise\u001b[39;00m MastodonIllegalArgumentError(\u001b[38;5;124m'\u001b[39m\u001b[38;5;124mInvalid user name, password, or redirect_uris: \u001b[39m\u001b[38;5;132;01m%s\u001b[39;00m\u001b[38;5;124m'\u001b[39m \u001b[38;5;241m%\u001b[39m e)\n\u001b[0;32m    329\u001b[0m     \u001b[38;5;28;01melif\u001b[39;00m code \u001b[38;5;129;01mis\u001b[39;00m \u001b[38;5;129;01mnot\u001b[39;00m \u001b[38;5;28;01mNone\u001b[39;00m:\n\u001b[0;32m    330\u001b[0m         \u001b[38;5;28;01mraise\u001b[39;00m MastodonIllegalArgumentError(\u001b[38;5;124m'\u001b[39m\u001b[38;5;124mInvalid access token or redirect_uris: \u001b[39m\u001b[38;5;132;01m%s\u001b[39;00m\u001b[38;5;124m'\u001b[39m \u001b[38;5;241m%\u001b[39m e)\n",
      "\u001b[1;31mMastodonIllegalArgumentError\u001b[0m: Invalid user name, password, or redirect_uris: ('Mastodon API returned error', 400, 'Bad Request', 'invalid_grant')"
     ]
    }
   ],
   "source": [
    "API = Mastodon(client_id = 'your_client_crediential_file_name.secret',)\n",
    "API.log_in(\n",
    "    'your_email@adress.nl', #no caps\n",
    "    'verysecretpassword',\n",
    "    to_file = 'your_user_crediential_file_name.secret'\n",
    ")"
   ]
  },
  {
   "cell_type": "markdown",
   "metadata": {},
   "source": [
    "### 1.1: Retrieving information about instance (your server)"
   ]
  },
  {
   "cell_type": "markdown",
   "metadata": {},
   "source": [
    "API.instance() returns a dictionary with a lot of information about your instance.\n",
    "Look at the dictionary and see what kind of information is being returned?\n",
    "Can you see how many users populate your server?\n",
    "How long can Toots (Mastodon tweets) become?"
   ]
  },
  {
   "cell_type": "code",
   "execution_count": 18,
   "metadata": {
    "collapsed": true,
    "jupyter": {
     "outputs_hidden": true
    },
    "tags": []
   },
   "outputs": [
   ],
   "source": [
    "API.instance()"
   ]
  },
  {
   "cell_type": "markdown",
   "metadata": {
    "tags": []
   },
   "source": [
    "You can also retrieve dictionaries containing information about trending hashtags or trending statuses (toots).\n",
    "Below you can see code to print the currently most trending status.\n",
    "Check the documentation on how to get the trending hashtags."
   ]
  },
  {
   "cell_type": "code",
   "execution_count": 22,
   "metadata": {
    "tags": []
   },
   "outputs": [],
   "source": [
    "from IPython.display import HTML #for formatting HTML script\n",
    "HTML(API.trending_statuses()[0][\"content\"])"
   ]
  },
  {
   "cell_type": "markdown",
   "metadata": {},
   "source": [
    "### Task 1 \n",
    "Write code that prints out the first 3 trending hashtags."
   ]
  },
  {
   "cell_type": "code",
   "execution_count": 24,
   "metadata": {},
   "outputs": [],
   "source": [
    "#Your Code"
   ]
  },
  {
   "cell_type": "code",
   "execution_count": 23,
   "metadata": {},
   "outputs": [],
   "source": [
    "\"\"\"possible solution\"\"\"\n",
    "n=3\n",
    "for i in range(n):\n",
    "    \n",
    "    print(API.trending_tags(limit=n, lang=None)[i][\"name\"])"
   ]
  },
  {
   "cell_type": "markdown",
   "metadata": {},
   "source": [
    "### 1.2: Retrieving recent Toots"
   ]
  },
  {
   "cell_type": "code",
   "execution_count": 39,
   "metadata": {
    "tags": []
   },
   "outputs": [
     ]
    },
    {
     "data": {
      "text/html": [
       "Little <a href=\"https://metapixl.com/discover/tags/Meme?src=hash\" class=\"u-url hashtag\" rel=\"nofollow noopener noreferrer\" target=\"_blank\">#Meme</a> the Kitten, 2020<br>\n",
       "<br>\n",
       "🇧🇷 Memeuzinho, o Gatinho, 2020<br>\n",
       "<br>\n",
       "<a href=\"https://metapixl.com/discover/tags/tbt?src=hash\" class=\"u-url hashtag\" rel=\"nofollow noopener noreferrer\" target=\"_blank\">#tbt</a> <a href=\"https://metapixl.com/discover/tags/throwbackthursday?src=hash\" class=\"u-url hashtag\" rel=\"nofollow noopener noreferrer\" target=\"_blank\">#throwbackthursday</a> <a href=\"https://metapixl.com/discover/tags/cat?src=hash\" class=\"u-url hashtag\" rel=\"nofollow noopener noreferrer\" target=\"_blank\">#cat</a> <a href=\"https://metapixl.com/discover/tags/kitten?src=hash\" class=\"u-url hashtag\" rel=\"nofollow noopener noreferrer\" target=\"_blank\">#kitten</a> <a href=\"https://metapixl.com/discover/tags/tuxedoCat?src=hash\" class=\"u-url hashtag\" rel=\"nofollow noopener noreferrer\" target=\"_blank\">#tuxedoCat</a> <a href=\"https://metapixl.com/discover/tags/tuxedoCats?src=hash\" class=\"u-url hashtag\" rel=\"nofollow noopener noreferrer\" target=\"_blank\">#tuxedoCats</a> <a href=\"https://metapixl.com/discover/tags/catsOfPixelfed?src=hash\" class=\"u-url hashtag\" rel=\"nofollow noopener noreferrer\" target=\"_blank\">#catsOfPixelfed</a> <a href=\"https://metapixl.com/discover/tags/catsOfMastodon?src=hash\" class=\"u-url hashtag\" rel=\"nofollow noopener noreferrer\" target=\"_blank\">#catsOfMastodon</a> <a href=\"https://metapixl.com/discover/tags/gatosDoFedi?src=hash\" class=\"u-url hashtag\" rel=\"nofollow noopener noreferrer\" target=\"_blank\">#gatosDoFedi</a> <a href=\"https://metapixl.com/discover/tags/gatosDoMasto?src=hash\" class=\"u-url hashtag\" rel=\"nofollow noopener noreferrer\" target=\"_blank\">#gatosDoMasto</a> <a href=\"https://metapixl.com/discover/tags/cats?src=hash\" class=\"u-url hashtag\" rel=\"nofollow noopener noreferrer\" target=\"_blank\">#cats</a> <a href=\"https://metapixl.com/discover/tags/gatinho?src=hash\" class=\"u-url hashtag\" rel=\"nofollow noopener noreferrer\" target=\"_blank\">#gatinho</a> <a href=\"https://metapixl.com/discover/tags/gatinhos?src=hash\" class=\"u-url hashtag\" rel=\"nofollow noopener noreferrer\" target=\"_blank\">#gatinhos</a>"
      ],
      "text/plain": [
       "<IPython.core.display.HTML object>"
      ]
     },
     "metadata": {},
     "output_type": "display_data"
    },
    {
     "name": "stdout",
     "output_type": "stream",
     "text": [
      "____________________________________________________________________________________________________\n",
      "Toot 10\n",
      "\n",
      "\n"
     ]
    },
    {
     "data": {
      "text/html": [
       "<p>We don&#39;t live where many children are, so <a href=\"https://mastodon.social/tags/Halloween\" class=\"mention hashtag\" rel=\"tag\">#<span>Halloween</span></a> isn&#39;t really a thing here. But <a href=\"https://mastodon.social/tags/ThrowbackThursday\" class=\"mention hashtag\" rel=\"tag\">#<span>ThrowbackThursday</span></a> to 2 years ago when I attempted to dress up Moxxi as a bat. Now this year with <a href=\"https://mastodon.social/tags/Mastodon\" class=\"mention hashtag\" rel=\"tag\">#<span>Mastodon</span></a> and the <a href=\"https://mastodon.social/tags/Fediverse\" class=\"mention hashtag\" rel=\"tag\">#<span>Fediverse</span></a> I&#39;m excited for <a href=\"https://mastodon.social/tags/SpookySeason\" class=\"mention hashtag\" rel=\"tag\">#<span>SpookySeason</span></a> again!</p><p><a href=\"https://mastodon.social/tags/TBT\" class=\"mention hashtag\" rel=\"tag\">#<span>TBT</span></a><br /><a href=\"https://mastodon.social/tags/Dog\" class=\"mention hashtag\" rel=\"tag\">#<span>Dog</span></a> <a href=\"https://mastodon.social/tags/Dogs\" class=\"mention hashtag\" rel=\"tag\">#<span>Dogs</span></a> <a href=\"https://mastodon.social/tags/DogsOfMastodon\" class=\"mention hashtag\" rel=\"tag\">#<span>DogsOfMastodon</span></a> <a href=\"https://mastodon.social/tags/Corgi\" class=\"mention hashtag\" rel=\"tag\">#<span>Corgi</span></a> <a href=\"https://mastodon.social/tags/CorgisOfMastodon\" class=\"mention hashtag\" rel=\"tag\">#<span>CorgisOfMastodon</span></a> <a href=\"https://mastodon.social/tags/Mastodogs\" class=\"mention hashtag\" rel=\"tag\">#<span>Mastodogs</span></a> <a href=\"https://mastodon.social/tags/Mastodog\" class=\"mention hashtag\" rel=\"tag\">#<span>Mastodog</span></a> <a href=\"https://mastodon.social/tags/DogsOfFediverse\" class=\"mention hashtag\" rel=\"tag\">#<span>DogsOfFediverse</span></a> <a href=\"https://mastodon.social/tags/FediDogs\" class=\"mention hashtag\" rel=\"tag\">#<span>FediDogs</span></a> <a href=\"https://mastodon.social/tags/Thursdog\" class=\"mention hashtag\" rel=\"tag\">#<span>Thursdog</span></a> <a href=\"https://mastodon.social/tags/PetsOfMastodon\" class=\"mention hashtag\" rel=\"tag\">#<span>PetsOfMastodon</span></a> <a href=\"https://mastodon.social/tags/Fursday\" class=\"mention hashtag\" rel=\"tag\">#<span>Fursday</span></a></p>"
      ],
      "text/plain": [
       "<IPython.core.display.HTML object>"
      ]
     },
     "metadata": {},
     "output_type": "display_data"
    },
    {
     "name": "stdout",
     "output_type": "stream",
     "text": [
      "____________________________________________________________________________________________________\n"
     ]
    }
   ],
   "source": [
    "from IPython.display import HTML #via the api we get raw html scripts, so  use this function to format it nicely\n",
    "\n",
    "q = \"#tbt\"\n",
    "search_results = API.search_v2(q)\n",
    "for n in range(10):\n",
    "    print(f\"Toot {n+1}\\n\\n\")\n",
    "    html = search_results[\"statuses\"][n][\"content\"]\n",
    "    display(HTML(html))\n",
    "    print(\"_\"*100)"
   ]
  },
  {
   "cell_type": "markdown",
   "metadata": {
    "tags": []
   },
   "source": [
    "### Task 2\n",
    "\n",
    "In the cell below, create a second variable (e.g. `search_results2`) that holds the results of a query other than the one presented above. Think about a query that would yield very different results than the first one, for example one that may yield a shorter output or about a different topic."
   ]
  },
  {
   "cell_type": "code",
   "execution_count": 1,
   "metadata": {},
   "outputs": [],
   "source": [
    "#Your Code"
   ]
  },
  {
   "cell_type": "code",
   "execution_count": 30,
   "metadata": {
    "tags": []
   },
   "outputs": [],
   "source": [
    "\"\"\"possible solution\"\"\"\n",
    "q = \"#Israel\"\n",
    "search_results2 = API.search_v2(q)"
   ]
  },
  {
   "cell_type": "markdown",
   "metadata": {},
   "source": [
    "## Part 2: Extracting text, screen names, and hashtags from tweets \n",
    "\n",
    "Simply printing all the search results to screen is nice, but to really start analysing them, it is handy to select the interesting parts and store them in a different structure such as a list. \n",
    "\n",
    "In this example you are using a thing called \"List Comprehension\".\n",
    "\n",
    "### 2.1 List Comprehensions\n",
    "List comprehension is a powerful construct that allows to succinctly build a list.\n",
    "With it you can process items from any iterable (e.g. dictionaries, lists, tuples, iterators...) and output a list while optionally performing an operation on each value.\n",
    "\n",
    "Here's a few examples from Mining the Social Web:"
   ]
  },
  {
   "cell_type": "code",
   "execution_count": 31,
   "metadata": {},
   "outputs": [ ],
   "source": [
    "# double all values from 0 to 9\n",
    "double_list = [i*2 for i in range(10)]\n",
    "\n",
    "# raise to the power of 2, but only if the number is uneven\n",
    "power_even_list = [i**2 for i in range(10) if i%2!=0]\n",
    "\n",
    "# clean strings in a tuple\n",
    "stripped_lines = [x.strip() for x in ('The\\n', 'Social\\n', 'Web\\n')]\n",
    "\n",
    "# return length of each string in stripped_lines\n",
    "len_str_lines = [len(s) for s in stripped_lines]\n",
    "\n",
    "# finally, we can nest list comprehensions to flatten a list of lists:\n",
    "list_of_lists = [[1, 2, 3], [4, 5, 6], [7, 8, 9]]\n",
    "range_9 = [x for y in list_of_lists for x in y]\n",
    "\n",
    "print(double_list)\n",
    "print(power_even_list)\n",
    "print(stripped_lines)\n",
    "print(len_str_lines)\n",
    "print(range_9)"
   ]
  },
  {
   "cell_type": "markdown",
   "metadata": {
    "tags": []
   },
   "source": [
    "### 2.2 Parsing text, screen names and hashtags from tweets\n",
    "*(from Example 1-6 in Mining the Social Web)*\n",
    "\n",
    "Hereafter, we'll be creating a variable `toots` of type list. \\\n",
    "The list will be filled with the `content` elements from each `toot`, whereas `toot` comes from looping through all `statuses` in the `search_results` dict. \\\n",
    "Look up the list comprehensions in your Python reference materials to make sure you understand what's happening here. "
   ]
  },
  {
   "cell_type": "code",
   "execution_count": 40,
   "metadata": {
    "collapsed": true,
    "jupyter": {
     "outputs_hidden": true
    },
    "tags": []
   },
   "outputs": [
     ]
    }
   ],
   "source": [
    "ids = [ toot[\"id\"] for toot in \\\n",
    "       search_results[\"statuses\"] ]\n",
    "\n",
    "# the escape character \"\\\" allows for the list comprehension to continue\n",
    "# on a new line. While not strictly necessary, it makes code more readable\n",
    "# for your fellow programmers.\n",
    "\n",
    "toots = [ toot['content'] for toot in search_results[\"statuses\"] ]\n",
    "\n",
    "# Compute a collection of all words from all tweets\n",
    "words = [ w for t in toots for w in t.split() ]\n",
    "\n",
    "import json\n",
    "print(json.dumps(toots, indent=1))\n",
    "print(json.dumps(words, indent=1))"
   ]
  },
  {
   "cell_type": "markdown",
   "metadata": {},
   "source": [
    "What happened here?\n",
    "When extracting the toots from your instance, they are in HTML format. While these markers may be valuable for certain types of analysis, they may not be necessary for text-based analysis alone. Remove the HTML-tags by applying the follwowing function to make it more readable."
   ]
  },
  {
   "cell_type": "code",
   "execution_count": 41,
   "metadata": {
    "collapsed": true,
    "jupyter": {
     "outputs_hidden": true
    },
    "tags": []
   },
   "outputs": []
    }
   ],
   "source": [
    "import re\n",
    "\n",
    "def strip_html_tags(html_text):\n",
    "    plain_text = re.sub(r'<.*?>', '', html_text)\n",
    "    return plain_text\n",
    "\n",
    "toots = [ strip_html_tags(toot['content']) for toot in search_results[\"statuses\"] ]\n",
    "\n",
    "# Compute a collection of all words from all tweets\n",
    "words = [ w for t in toots for w in t.split() ]\n",
    "\n",
    "import json\n",
    "print(json.dumps(toots, indent=1))\n",
    "print(json.dumps(words, indent=1))"
   ]
  },
  {
   "cell_type": "markdown",
   "metadata": {
    "tags": []
   },
   "source": [
    "### Task 3\n",
    "\n",
    "You are now ready to parse usernames, hashtags and text from the results you previously obtained in Task 2 (e.g. `statuses_2`). While doing it, make sure to leave the variables created in 2.2 untouched. Instead, create your own variable names, which you'll be using soon.\n"
   ]
  },
  {
   "cell_type": "code",
   "execution_count": null,
   "metadata": {},
   "outputs": [],
   "source": [
    "#Your Code"
   ]
  },
  {
   "cell_type": "code",
   "execution_count": 42,
   "metadata": {
    "tags": []
   },
   "outputs": [],
   "source": [
    "\"\"\"possible solution\"\"\"\n",
    "user_names2 = [ toot['account'][\"username\"] for toot in search_results2[\"statuses\"] ]\n",
    "tags2 = [tag[\"name\"] for toot in search_results2[\"statuses\"] for tag in toot[\"tags\"]]\n",
    "toots2 = [ strip_html_tags(toot['content']) for toot in search_results2[\"statuses\"] ]\n",
    "words2 = [ w for t in toots2 for w in t.split() ]"
   ]
  },
  {
   "cell_type": "markdown",
   "metadata": {
    "tags": []
   },
   "source": [
    "## Part 3: Creating a basic frequency distribution from words in tweets\n",
    "*(from Examples 1-7 in Mining the Social Web)* \n",
    "\n",
    "\n",
    "In the cell below we display the 10 most common hashtag instances:"
   ]
  },
  {
   "cell_type": "code",
   "execution_count": 43,
   "metadata": {
    "tags": []
   },
   "outputs": [
   ],
   "source": [
    "from collections import Counter\n",
    "\n",
    "for item in [words]:\n",
    "    c = Counter(item)\n",
    "    \n",
    "print(c.most_common()[:10]) # top 10"
   ]
  },
  {
   "cell_type": "markdown",
   "metadata": {
    "tags": []
   },
   "source": [
    "Your output should look something like this: \\\n",
    "`[('ThrowbackThursday', 34), ('throwbackthursday', 11), ('TBT', 6), ('ThrowBackThursday', 6), ('Trivia', 3), ('madoka_magica', 2), ('New', 2), ('EURO2020', 2), ('artists', 2)]`\n",
    "\n",
    "### Task 4\n",
    "Show hashtags frequency for results that you obtained in Task 3. Think about possible explanations for the different results you get from the analyses for the different queries.\n"
   ]
  },
  {
   "cell_type": "code",
   "execution_count": 44,
   "metadata": {
    "tags": []
   },
   "outputs": [],
   "source": [
    "#Your Code"
   ]
  },
  {
   "cell_type": "code",
   "execution_count": 45,
   "metadata": {
    "tags": []
   },
   "outputs": [
    {
     "name": "stdout",
     "output_type": "stream",
     "text": [
      "[('israel', 20), ('gaza', 6), ('liveblog', 6), ('tagesschau', 6), ('palestine', 6), ('hamas', 5), ('zelensky', 2), ('ukraine', 2), ('hezbollah', 2), ('putin', 2)]\n"
     ]
    }
   ],
   "source": [
    "\"\"\"possible solution\"\"\"\n",
    "for item in [tags2]:\n",
    "    c = Counter(item)\n",
    "print(c.most_common()[:10]) # top 10"
   ]
  },
  {
   "cell_type": "markdown",
   "metadata": {},
   "source": [
    "### 3.1 Storing your results\n",
    "So far, we have been storing the data in working memory. Often it's handy to store your data to disk so you can retrieve it in a next session. \n",
    "\n",
    "The pickle module lets you do exactly that, by serializing data in a binary format.\n"
   ]
  },
  {
   "cell_type": "code",
   "execution_count": 46,
   "metadata": {
    "tags": []
   },
   "outputs": [],
   "source": [
    "import pickle\n",
    "\n",
    "filepath = \"my_data.pickle\"\n",
    "# this indented python syntax is broadly defined as \"context manager\".\n",
    "# This means that everything happening under its indentation will use f\n",
    "# as file handle to filepath. The Shortand `wb` stands for \"write binary\",\n",
    "# which is how we serialize data to disk.\n",
    "with open(filepath, \"wb\") as f:\n",
    "    pickle.dump(words2, f) # write the contents of list 'words' to file 'f'\n",
    "    \n",
    "# Note that, after the end of the indented block, the file is automatically closed.\n",
    "# Hence, no memory resource on your system is wasted idly."
   ]
  },
  {
   "cell_type": "markdown",
   "metadata": {},
   "source": [
    "If you browse to your working directory, you should find a file there named \"myData.pickle\". You can open this in a text editor, or load its contents back into a variable to do some more analyses on.\n"
   ]
  },
  {
   "cell_type": "code",
   "execution_count": 47,
   "metadata": {
    "collapsed": true,
    "jupyter": {
     "outputs_hidden": true
    },
    "tags": []
   },
   "outputs": [
    
   ],
   "source": [
    "# open the myData.pickle file and store its contents into variable 'words'\n",
    "\n",
    "with open(filepath, \"rb\") as f:\n",
    "    words = pickle.load(f)\n",
    "print(words)"
   ]
  },
  {
   "cell_type": "markdown",
   "metadata": {},
   "source": [
    "### 3.2 Using prettytable to display tuples in a nice way\n",
    "\n"
   ]
  },
  {
   "cell_type": "code",
   "execution_count": 48,
   "metadata": {
    "tags": []
   },
   "outputs": [
   ],
   "source": [
    "from prettytable import PrettyTable\n",
    "\n",
    "\n",
    "pt = PrettyTable(field_names=['Words', 'Count'])\n",
    "c = Counter(words2)\n",
    "[ pt.add_row(kv) for kv in c.most_common()[:10] ]\n",
    "pt.align[\"Words\"], pt.align['Count'] = 'l', 'r' # Set column alignment\n",
    "print(pt) "
   ]
  },
  {
   "cell_type": "markdown",
   "metadata": {},
   "source": [
    "### 3.3 Calculating lexical diversity for tweets \n",
    "*(from Example 1-9 in Mining the Social Web)*:"
   ]
  },
  {
   "cell_type": "code",
   "execution_count": 52,
   "metadata": {
    "tags": []
   },
   "outputs": [
   ],
   "source": [
    "# Define a function for computing lexical diversity\n",
    "def lexical_diversity(tokens):\n",
    "    return 1.0*len(set(tokens))/len(tokens)\n",
    "\n",
    "# Define a function for computing the average number of words per tweet\n",
    "def average_words(statuses):\n",
    "    total_words = sum([ len(s.split()) for s in statuses ])\n",
    "    return 1.0*total_words/len(statuses) \n",
    "\n",
    "# Let's use these functions:\n",
    "print(lexical_diversity(words))\n",
    "print(average_words(toots))"
   ]
  },
  {
   "cell_type": "markdown",
   "metadata": {},
   "source": [
    "### Task 5: What do the printed numbers indicate? Try to explain them.\n",
    "\n",
    "(*Double click this cell to write your answer*)"
   ]
  },
  {
   "cell_type": "markdown",
   "metadata": {
    "tags": []
   },
   "source": [
    "### 3.4 Looking up users who have retweeted a status \n",
    "*(from Example 1-11 in Mining the Social Web):*"
   ]
  },
  {
   "cell_type": "code",
   "execution_count": 54,
   "metadata": {
    "tags": []
   },
   "outputs": [
   ],
   "source": [
    "retooter = [user[\"username\"] for user in API.status_reblogged_by(111222929039002402)] #might need to insert a different toot id if on different server\n",
    "print(\"Users who've reblogged the toot:\\n\")\n",
    "print(retooter)"
   ]
  },
  {
   "cell_type": "markdown",
   "metadata": {},
   "source": [
    "### Task 6 (advanced)\n",
    "\n",
    "If you have a Toot account with a nontrivial number of tweets you can do some analysis of your own account.\n",
    "Check the documentation on how to access your toots.\n",
    "\n",
    "\n",
    "\n",
    "What are the most common terms that appear in your toot? \\\n",
    "Which toot was replied the most?\\\n",
    "How many of your toots are retweeted (and why do you think this is the case)?"
   ]
  },
  {
   "cell_type": "code",
   "execution_count": 72,
   "metadata": {
    "tags": []
   },
   "outputs": [],
   "source": [
    "#Your Code"
   ]
  },
  {
   "cell_type": "code",
   "execution_count": 71,
   "metadata": {
    "tags": []
   },
   "outputs": [
   ],
   "source": [
    "\n",
    "\"\"\"possible solution\"\"\"\n",
    "my_id = API.me()[\"id\"]\n",
    "my_statuses = API.account_statuses(my_id)\n",
    "my_toots = [ strip_html_tags(status[\"content\"]) for status in my_statuses]\n",
    "my_words = [ w for t in my_toots for w in t.split() ]\n",
    "print(\"Top 10 terms\")\n",
    "for item in [my_words]:\n",
    "    c = Counter(item)\n",
    "print(c.most_common()[:10]) # top 10\n",
    "\n",
    "toot_most_rep = None\n",
    "replies = -1\n",
    "toot_dicts = [status for status in my_statuses]\n",
    "for toot_dict in toot_dicts:\n",
    "    if toot_dict[\"replies_count\"] > replies:\n",
    "        toot_most_rep = toot_dict[\"content\"]\n",
    "print(\"most replied to:\")\n",
    "display(HTML(toot_most_rep))\n",
    "\n",
    "count_retweeted = 0\n",
    "for toot_dict in toot_dicts:\n",
    "    if toot_dict[\"reblogged\"]:\n",
    "        count_retweeted +=1\n",
    "print(\"reblogged toots: \",count_retweeted)"
   ]
  },
  {
   "cell_type": "markdown",
   "metadata": {},
   "source": [
    "### 3.6 Plotting frequencies of words \n",
    "*(from Example 1-12 in Mining the Social Web)*"
   ]
  },
  {
   "cell_type": "code",
   "execution_count": 73,
   "metadata": {
    "tags": []
   },
   "outputs": [],
   "source": [
    "word_counts = sorted(Counter(words).values(), reverse=True)\n",
    "import matplotlib.pyplot as plt\n",
    "plt.loglog(word_counts)\n",
    "plt.ylabel(\"Freq\")\n",
    "plt.xlabel(\"Word Rank\")\n",
    "plt.show()"
   ]
  },
  {
   "cell_type": "markdown",
   "metadata": {},
   "source": [
    "### Generating histograms of words, screen names, and hashtags \n",
    "*(from Example 1-13 in Mining the Social Web):*"
   ]
  },
  {
   "cell_type": "code",
   "execution_count": 74,
   "metadata": {
    "tags": []
   },
   "outputs": [
   ],
   "source": [
    "c = Counter(words)\n",
    "plt.hist(c.values())\n",
    "    \n",
    "plt.title(\"\")\n",
    "plt.ylabel(\"Number of items in bin\")\n",
    "plt.xlabel(\"Bins (number of times an item appeared)\")\n",
    "    \n",
    "plt.figure()"
   ]
  },
  {
   "cell_type": "code",
   "execution_count": 75,
   "metadata": {
    "tags": []
   },
   "outputs": [ ]
    },
    {
     "data": {
      "text/plain": [
       "<Axes: >"
      ]
     },
     "execution_count": 75,
     "metadata": {},
     "output_type": "execute_result"
    },
    {
     "data": {
      "image/png": "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",
      "text/plain": [
       "<Figure size 640x480 with 1 Axes>"
      ]
     },
     "metadata": {},
     "output_type": "display_data"
    }
   ],
   "source": [
    "# extra: seaborn plots with a one-liner.\n",
    "#!pip install seaborn\n",
    "import seaborn as sns\n",
    "\n",
    "sns.distplot(word_counts, kde=False, rug=True)\n"
   ]
  }
 ],
 "metadata": {
  "kernelspec": {
   "display_name": "Python 3 (ipykernel)",
   "language": "python",
   "name": "python3"
  },
  "language_info": {
   "codemirror_mode": {
    "name": "ipython",
    "version": 3
   },
   "file_extension": ".py",
   "mimetype": "text/x-python",
   "name": "python",
   "nbconvert_exporter": "python",
   "pygments_lexer": "ipython3",
   "version": "3.8.18"
  }
 },
 "nbformat": 4,
 "nbformat_minor": 4
}

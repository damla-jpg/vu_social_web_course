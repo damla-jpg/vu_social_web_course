{
 "cells": [
  {
   "cell_type": "markdown",
   "metadata": {},
   "source": [
    "*****************************************************************\n",
    "#  The Social Web \n",
    "- Instructors: Davide Ceolin.\n",
    "- TAs: Jacco van Ossenbruggen, Elena Beretta, Mirthe Dankloff.\n",
    "- Exercises for Hands-on session 1- TAs: Jacco van Ossenbruggen, Elena Beretta, Mirthe Dankloff.\n",
    "*****************************************************************"
   ]
  },
  {
   "cell_type": "markdown",
   "metadata": {},
   "source": [
    "Prerequisites:\n",
    "- Python 3.8\n",
    "- Python packages: twitter, prettytable, matplotlib\n",
    "\n",
    "First you need to know how to retrieve some social web data. Exercises 1 and 2 will show you how to retrieve trends and search results from Twitter. \n",
    "\n",
    "But let's check first if we're running a sufficiently new version of Python:"
   ]
  },
  {
   "cell_type": "code",
   "execution_count": 1,
   "metadata": {},
   "outputs": [
    {
     "name": "stdout",
     "output_type": "stream",
     "text": [
      "This jupyter notebook is running on Python 3.9.13\n"
     ]
    }
   ],
   "source": [
    "import platform\n",
    "import sys\n",
    "print(\"This jupyter notebook is running on Python \" + platform.python_version())\n",
    "# It's good practice to assert packages requirements at the beginning of a script:\n",
    "assert sys.version_info >= (3, 6)"
   ]
  },
  {
   "cell_type": "markdown",
   "metadata": {},
   "source": [
    "Let's install now the required packages for this hands on session:"
   ]
  },
  {
   "cell_type": "code",
   "execution_count": 58,
   "metadata": {},
   "outputs": [
    {
     "name": "stdout",
     "output_type": "stream",
     "text": [
      "Requirement already satisfied: python-twitter-v2 in ./miniconda3/envs/py39/lib/python3.9/site-packages (0.7.9)\n",
      "Requirement already satisfied: PrettyTable in ./miniconda3/envs/py39/lib/python3.9/site-packages (3.5.0)\n",
      "Requirement already satisfied: matplotlib in ./miniconda3/envs/py39/lib/python3.9/site-packages (3.6.2)\n",
      "Requirement already satisfied: geocoder in ./miniconda3/envs/py39/lib/python3.9/site-packages (1.38.1)\n",
      "Collecting ppretty\n",
      "  Downloading ppretty-1.3.zip (3.9 kB)\n",
      "  Preparing metadata (setup.py) ... \u001b[?25ldone\n",
      "\u001b[?25hRequirement already satisfied: requests<3.0,>=2.24 in ./miniconda3/envs/py39/lib/python3.9/site-packages (from python-twitter-v2) (2.28.1)\n",
      "Requirement already satisfied: Authlib<0.16.0,>=0.15.4 in ./miniconda3/envs/py39/lib/python3.9/site-packages (from python-twitter-v2) (0.15.6)\n",
      "Requirement already satisfied: dataclasses-json<0.6.0,>=0.5.2 in ./miniconda3/envs/py39/lib/python3.9/site-packages (from python-twitter-v2) (0.5.7)\n",
      "Requirement already satisfied: wcwidth in ./miniconda3/envs/py39/lib/python3.9/site-packages (from PrettyTable) (0.2.5)\n",
      "Requirement already satisfied: cycler>=0.10 in ./miniconda3/envs/py39/lib/python3.9/site-packages (from matplotlib) (0.11.0)\n",
      "Requirement already satisfied: packaging>=20.0 in ./miniconda3/envs/py39/lib/python3.9/site-packages (from matplotlib) (21.3)\n",
      "Requirement already satisfied: fonttools>=4.22.0 in ./miniconda3/envs/py39/lib/python3.9/site-packages (from matplotlib) (4.38.0)\n",
      "Requirement already satisfied: kiwisolver>=1.0.1 in ./miniconda3/envs/py39/lib/python3.9/site-packages (from matplotlib) (1.4.4)\n",
      "Requirement already satisfied: pyparsing>=2.2.1 in ./miniconda3/envs/py39/lib/python3.9/site-packages (from matplotlib) (3.0.9)\n",
      "Requirement already satisfied: contourpy>=1.0.1 in ./miniconda3/envs/py39/lib/python3.9/site-packages (from matplotlib) (1.0.6)\n",
      "Requirement already satisfied: python-dateutil>=2.7 in ./miniconda3/envs/py39/lib/python3.9/site-packages (from matplotlib) (2.8.2)\n",
      "Requirement already satisfied: numpy>=1.19 in ./miniconda3/envs/py39/lib/python3.9/site-packages (from matplotlib) (1.23.4)\n",
      "Requirement already satisfied: pillow>=6.2.0 in ./miniconda3/envs/py39/lib/python3.9/site-packages (from matplotlib) (9.3.0)\n",
      "Requirement already satisfied: future in ./miniconda3/envs/py39/lib/python3.9/site-packages (from geocoder) (0.18.2)\n",
      "Requirement already satisfied: six in ./miniconda3/envs/py39/lib/python3.9/site-packages (from geocoder) (1.16.0)\n",
      "Requirement already satisfied: ratelim in ./miniconda3/envs/py39/lib/python3.9/site-packages (from geocoder) (0.1.6)\n",
      "Requirement already satisfied: click in ./miniconda3/envs/py39/lib/python3.9/site-packages (from geocoder) (8.1.3)\n",
      "Requirement already satisfied: cryptography in ./miniconda3/envs/py39/lib/python3.9/site-packages (from Authlib<0.16.0,>=0.15.4->python-twitter-v2) (38.0.3)\n",
      "Requirement already satisfied: typing-inspect>=0.4.0 in ./miniconda3/envs/py39/lib/python3.9/site-packages (from dataclasses-json<0.6.0,>=0.5.2->python-twitter-v2) (0.8.0)\n",
      "Requirement already satisfied: marshmallow-enum<2.0.0,>=1.5.1 in ./miniconda3/envs/py39/lib/python3.9/site-packages (from dataclasses-json<0.6.0,>=0.5.2->python-twitter-v2) (1.5.1)\n",
      "Requirement already satisfied: marshmallow<4.0.0,>=3.3.0 in ./miniconda3/envs/py39/lib/python3.9/site-packages (from dataclasses-json<0.6.0,>=0.5.2->python-twitter-v2) (3.18.0)\n",
      "Requirement already satisfied: charset-normalizer<3,>=2 in ./miniconda3/envs/py39/lib/python3.9/site-packages (from requests<3.0,>=2.24->python-twitter-v2) (2.1.1)\n",
      "Requirement already satisfied: urllib3<1.27,>=1.21.1 in ./miniconda3/envs/py39/lib/python3.9/site-packages (from requests<3.0,>=2.24->python-twitter-v2) (1.26.11)\n",
      "Requirement already satisfied: certifi>=2017.4.17 in ./miniconda3/envs/py39/lib/python3.9/site-packages (from requests<3.0,>=2.24->python-twitter-v2) (2022.9.24)\n",
      "Requirement already satisfied: idna<4,>=2.5 in ./miniconda3/envs/py39/lib/python3.9/site-packages (from requests<3.0,>=2.24->python-twitter-v2) (3.4)\n",
      "Requirement already satisfied: decorator in ./miniconda3/envs/py39/lib/python3.9/site-packages (from ratelim->geocoder) (5.1.1)\n",
      "Requirement already satisfied: mypy-extensions>=0.3.0 in ./miniconda3/envs/py39/lib/python3.9/site-packages (from typing-inspect>=0.4.0->dataclasses-json<0.6.0,>=0.5.2->python-twitter-v2) (0.4.3)\n",
      "Requirement already satisfied: typing-extensions>=3.7.4 in ./miniconda3/envs/py39/lib/python3.9/site-packages (from typing-inspect>=0.4.0->dataclasses-json<0.6.0,>=0.5.2->python-twitter-v2) (4.4.0)\n",
      "Requirement already satisfied: cffi>=1.12 in ./miniconda3/envs/py39/lib/python3.9/site-packages (from cryptography->Authlib<0.16.0,>=0.15.4->python-twitter-v2) (1.15.1)\n",
      "Requirement already satisfied: pycparser in ./miniconda3/envs/py39/lib/python3.9/site-packages (from cffi>=1.12->cryptography->Authlib<0.16.0,>=0.15.4->python-twitter-v2) (2.21)\n",
      "Building wheels for collected packages: ppretty\n",
      "  Building wheel for ppretty (setup.py) ... \u001b[?25ldone\n",
      "\u001b[?25h  Created wheel for ppretty: filename=ppretty-1.3-py3-none-any.whl size=3993 sha256=14f0ade4d887aa1e05afc59fd757e132b296289a654c38c6cecc631e95b4e147\n",
      "  Stored in directory: /home/davide/.cache/pip/wheels/81/49/ce/4414a544ac9ea8b16cc1ad9d11f2085d746275781bf1d14650\n",
      "Successfully built ppretty\n",
      "Installing collected packages: ppretty\n",
      "Successfully installed ppretty-1.3\n"
     ]
    }
   ],
   "source": [
    "# If you're using a virtualenv, make sure its activated before running \n",
    "# this cell!\n",
    "!pip install python-twitter-v2 PrettyTable matplotlib geocoder"
   ]
  },
  {
   "cell_type": "markdown",
   "metadata": {},
   "source": [
    "## Part 1: Authorizing an application to access Twitter account data:\n",
    "\n",
    "1. Make sure to add your mobile phone number to your private twitter profile.\n",
    "2. Go to https://developer.twitter.com/en/portal/dashboard and click on \"create an app\". Twitter will prompt you to create a *developer account*.\n",
    "3. You'll receive an *account confirmation* email with a link. Follow it and create an app. \n",
    "4. Once the app is created, you'll see a \"Keys and Token\" item on the top right tab of the webpage. These values will be needed to fill in the next cell.\n",
    "5. Please delete all your keys before submission.\n",
    "\n",
    "NOTE: This notebook is based on the API functionalities \"Essential\" license. Check the \"Academic Research\" license (right menu, \"Twitter API v2\", \"Academic Research\") if you need a broader set of functionalities.\n",
    "\n",
    "In this notebook, you can use the official Twitter V2 API:"
   ]
  },
  {
   "cell_type": "code",
   "execution_count": 42,
   "metadata": {},
   "outputs": [],
   "source": [
    "from pytwitter import Api \n",
    "\n",
    "CONSUMER_KEY = \n",
    "CONSUMER_SECRET = \n",
    "# to get the oauth credential you need to click on the 'Generate access token' button:\n",
    "OAUTH_TOKEN = \n",
    "OAUTH_TOKEN_SECRET = \n",
    "\n",
    "api = Api(\n",
    "        consumer_key=CONSUMER_KEY,\n",
    "        consumer_secret=CONSUMER_SECRET,\n",
    "        access_token=OAUTH_TOKEN,\n",
    "        access_secret=OAUTH_TOKEN_SECRET\n",
    "    )\n"
   ]
  },
  {
   "cell_type": "markdown",
   "metadata": {},
   "source": [
    "or the Tweepy API:"
   ]
  },
  {
   "cell_type": "code",
   "execution_count": 43,
   "metadata": {},
   "outputs": [],
   "source": [
    "import tweepy\n",
    "\n",
    "client = tweepy.Client(bearer_token=)\n",
    "\n",
    "auth = tweepy.OAuthHandler(CONSUMER_KEY, CONSUMER_SECRET)\n",
    "auth.set_access_token(OAUTH_TOKEN, OAUTH_TOKEN_SECRET)\n",
    "\n",
    "twapi = tweepy.API(auth)"
   ]
  },
  {
   "cell_type": "markdown",
   "metadata": {},
   "source": [
    "### 1.1: Retrieving twitter search trends [Only with Academic Research License]"
   ]
  },
  {
   "cell_type": "code",
   "execution_count": 44,
   "metadata": {},
   "outputs": [
    {
     "ename": "Unauthorized",
     "evalue": "401 Unauthorized\n32 - Could not authenticate you.",
     "output_type": "error",
     "traceback": [
      "\u001b[0;31m---------------------------------------------------------------------------\u001b[0m",
      "\u001b[0;31mUnauthorized\u001b[0m                              Traceback (most recent call last)",
      "Cell \u001b[0;32mIn [44], line 6\u001b[0m\n\u001b[1;32m      3\u001b[0m loc \u001b[38;5;241m=\u001b[39m \u001b[38;5;124m\"\u001b[39m\u001b[38;5;124mAmsterdam\u001b[39m\u001b[38;5;124m\"\u001b[39m\n\u001b[1;32m      5\u001b[0m g \u001b[38;5;241m=\u001b[39m geocoder\u001b[38;5;241m.\u001b[39mosm(loc)\n\u001b[0;32m----> 6\u001b[0m closest_loc \u001b[38;5;241m=\u001b[39m \u001b[43mtwapi\u001b[49m\u001b[38;5;241;43m.\u001b[39;49m\u001b[43mclosest_trends\u001b[49m\u001b[43m(\u001b[49m\u001b[43mg\u001b[49m\u001b[38;5;241;43m.\u001b[39;49m\u001b[43mlat\u001b[49m\u001b[43m,\u001b[49m\u001b[43m \u001b[49m\u001b[43mg\u001b[49m\u001b[38;5;241;43m.\u001b[39;49m\u001b[43mlng\u001b[49m\u001b[43m)\u001b[49m\n\u001b[1;32m      7\u001b[0m trends \u001b[38;5;241m=\u001b[39m twapi\u001b[38;5;241m.\u001b[39mget_place_trends(closest_loc[\u001b[38;5;241m0\u001b[39m][\u001b[38;5;124m\"\u001b[39m\u001b[38;5;124mwoeid\u001b[39m\u001b[38;5;124m\"\u001b[39m])\n\u001b[1;32m      9\u001b[0m \u001b[38;5;28mprint\u001b[39m(trends[\u001b[38;5;241m0\u001b[39m][\u001b[38;5;124m\"\u001b[39m\u001b[38;5;124mtrends\u001b[39m\u001b[38;5;124m\"\u001b[39m])\n",
      "File \u001b[0;32m~/miniconda3/envs/py39/lib/python3.9/site-packages/tweepy/api.py:46\u001b[0m, in \u001b[0;36mpayload.<locals>.decorator.<locals>.wrapper\u001b[0;34m(*args, **kwargs)\u001b[0m\n\u001b[1;32m     44\u001b[0m kwargs[\u001b[38;5;124m'\u001b[39m\u001b[38;5;124mpayload_list\u001b[39m\u001b[38;5;124m'\u001b[39m] \u001b[38;5;241m=\u001b[39m payload_list\n\u001b[1;32m     45\u001b[0m kwargs[\u001b[38;5;124m'\u001b[39m\u001b[38;5;124mpayload_type\u001b[39m\u001b[38;5;124m'\u001b[39m] \u001b[38;5;241m=\u001b[39m payload_type\n\u001b[0;32m---> 46\u001b[0m \u001b[38;5;28;01mreturn\u001b[39;00m \u001b[43mmethod\u001b[49m\u001b[43m(\u001b[49m\u001b[38;5;241;43m*\u001b[39;49m\u001b[43margs\u001b[49m\u001b[43m,\u001b[49m\u001b[43m \u001b[49m\u001b[38;5;241;43m*\u001b[39;49m\u001b[38;5;241;43m*\u001b[39;49m\u001b[43mkwargs\u001b[49m\u001b[43m)\u001b[49m\n",
      "File \u001b[0;32m~/miniconda3/envs/py39/lib/python3.9/site-packages/tweepy/api.py:3866\u001b[0m, in \u001b[0;36mAPI.closest_trends\u001b[0;34m(self, lat, long, **kwargs)\u001b[0m\n\u001b[1;32m   3828\u001b[0m \u001b[38;5;129m@payload\u001b[39m(\u001b[38;5;124m'\u001b[39m\u001b[38;5;124mjson\u001b[39m\u001b[38;5;124m'\u001b[39m)\n\u001b[1;32m   3829\u001b[0m \u001b[38;5;28;01mdef\u001b[39;00m \u001b[38;5;21mclosest_trends\u001b[39m(\u001b[38;5;28mself\u001b[39m, lat, long, \u001b[38;5;241m*\u001b[39m\u001b[38;5;241m*\u001b[39mkwargs):\n\u001b[1;32m   3830\u001b[0m     \u001b[38;5;124;03m\"\"\"closest_trends(lat, long)\u001b[39;00m\n\u001b[1;32m   3831\u001b[0m \n\u001b[1;32m   3832\u001b[0m \u001b[38;5;124;03m    Returns the locations that Twitter has trending topic information for,\u001b[39;00m\n\u001b[0;32m   (...)\u001b[0m\n\u001b[1;32m   3864\u001b[0m \u001b[38;5;124;03m    https://developer.twitter.com/en/docs/twitter-api/v1/trends/locations-with-trending-topics/api-reference/get-trends-closest\u001b[39;00m\n\u001b[1;32m   3865\u001b[0m \u001b[38;5;124;03m    \"\"\"\u001b[39;00m\n\u001b[0;32m-> 3866\u001b[0m     \u001b[38;5;28;01mreturn\u001b[39;00m \u001b[38;5;28;43mself\u001b[39;49m\u001b[38;5;241;43m.\u001b[39;49m\u001b[43mrequest\u001b[49m\u001b[43m(\u001b[49m\n\u001b[1;32m   3867\u001b[0m \u001b[43m        \u001b[49m\u001b[38;5;124;43m'\u001b[39;49m\u001b[38;5;124;43mGET\u001b[39;49m\u001b[38;5;124;43m'\u001b[39;49m\u001b[43m,\u001b[49m\u001b[43m \u001b[49m\u001b[38;5;124;43m'\u001b[39;49m\u001b[38;5;124;43mtrends/closest\u001b[39;49m\u001b[38;5;124;43m'\u001b[39;49m\u001b[43m,\u001b[49m\u001b[43m \u001b[49m\u001b[43mendpoint_parameters\u001b[49m\u001b[38;5;241;43m=\u001b[39;49m\u001b[43m(\u001b[49m\n\u001b[1;32m   3868\u001b[0m \u001b[43m            \u001b[49m\u001b[38;5;124;43m'\u001b[39;49m\u001b[38;5;124;43mlat\u001b[39;49m\u001b[38;5;124;43m'\u001b[39;49m\u001b[43m,\u001b[49m\u001b[43m \u001b[49m\u001b[38;5;124;43m'\u001b[39;49m\u001b[38;5;124;43mlong\u001b[39;49m\u001b[38;5;124;43m'\u001b[39;49m\n\u001b[1;32m   3869\u001b[0m \u001b[43m        \u001b[49m\u001b[43m)\u001b[49m\u001b[43m,\u001b[49m\u001b[43m \u001b[49m\u001b[43mlat\u001b[49m\u001b[38;5;241;43m=\u001b[39;49m\u001b[43mlat\u001b[49m\u001b[43m,\u001b[49m\u001b[43m \u001b[49m\u001b[43mlong\u001b[49m\u001b[38;5;241;43m=\u001b[39;49m\u001b[43mlong\u001b[49m\u001b[43m,\u001b[49m\u001b[43m \u001b[49m\u001b[38;5;241;43m*\u001b[39;49m\u001b[38;5;241;43m*\u001b[39;49m\u001b[43mkwargs\u001b[49m\n\u001b[1;32m   3870\u001b[0m \u001b[43m    \u001b[49m\u001b[43m)\u001b[49m\n",
      "File \u001b[0;32m~/miniconda3/envs/py39/lib/python3.9/site-packages/tweepy/api.py:263\u001b[0m, in \u001b[0;36mAPI.request\u001b[0;34m(self, method, endpoint, endpoint_parameters, params, headers, json_payload, parser, payload_list, payload_type, post_data, files, require_auth, return_cursors, upload_api, use_cache, **kwargs)\u001b[0m\n\u001b[1;32m    261\u001b[0m     \u001b[38;5;28;01mraise\u001b[39;00m BadRequest(resp)\n\u001b[1;32m    262\u001b[0m \u001b[38;5;28;01mif\u001b[39;00m resp\u001b[38;5;241m.\u001b[39mstatus_code \u001b[38;5;241m==\u001b[39m \u001b[38;5;241m401\u001b[39m:\n\u001b[0;32m--> 263\u001b[0m     \u001b[38;5;28;01mraise\u001b[39;00m Unauthorized(resp)\n\u001b[1;32m    264\u001b[0m \u001b[38;5;28;01mif\u001b[39;00m resp\u001b[38;5;241m.\u001b[39mstatus_code \u001b[38;5;241m==\u001b[39m \u001b[38;5;241m403\u001b[39m:\n\u001b[1;32m    265\u001b[0m     \u001b[38;5;28;01mraise\u001b[39;00m Forbidden(resp)\n",
      "\u001b[0;31mUnauthorized\u001b[0m: 401 Unauthorized\n32 - Could not authenticate you."
     ]
    }
   ],
   "source": [
    "import geocoder\n",
    "\n",
    "loc = \"Amsterdam\"\n",
    "\n",
    "g = geocoder.osm(loc)\n",
    "closest_loc = twapi.closest_trends(g.lat, g.lng)\n",
    "trends = twapi.get_place_trends(closest_loc[0][\"woeid\"])\n",
    "\n",
    "print(trends[0][\"trends\"])\n"
   ]
  },
  {
   "cell_type": "markdown",
   "metadata": {},
   "source": [
    "### Task 1 [Only with Academic Research License]\n",
    "Twitter uses WOEIDs. Find out how WORLD_WOE_IDs were originally defined by Yahoo! and try to use others in a query. What kind of differences do you find between the worldwide trends and the local trends? \n"
   ]
  },
  {
   "cell_type": "code",
   "execution_count": null,
   "metadata": {},
   "outputs": [],
   "source": [
    "# Your code here\n",
    "#\n",
    "#\n",
    "#\n",
    "#\n",
    "#"
   ]
  },
  {
   "cell_type": "markdown",
   "metadata": {},
   "source": [
    "### 1.2: Retrieving recent Tweets [Any license]"
   ]
  },
  {
   "cell_type": "code",
   "execution_count": 65,
   "metadata": {},
   "outputs": [
    {
     "name": "stdout",
     "output_type": "stream",
     "text": [
      "Response(data=[<Tweet id=1589252346625679362 text='RT @A_GayBoy: #ThrowbackThursday\\n\\n😈💪 @Baxxxbox \\n\\n➡️ https://t.co/N8nTrhOpDV\\n\\n📸 @ZackZerbe https://t.co/Pt398eWGNn'>, <Tweet id=1589252290917302272 text=\"RT @EliteTrends1: Don't miss the latest in our event listings via https://t.co/ikbqpMpxDv\\n#ThrowbackThursday #tbt #TGIF #NewMusicFriday #Fr…\">, <Tweet id=1589252243907579907 text='RT @EliteTrends1: Enjoy an evening out  \"New Year HiphopReggaeSocaRnB Night\" https://t.co/DI4h882UBJ #ThrowbackThursday #tbt #TGIF #NewMusi…'>, <Tweet id=1589252173644566529 text='RT @Chellelovesu: a hot throwback for #throwbackthursday https://t.co/162ZCl0w9j'>, <Tweet id=1589251871008382977 text='RT @Speedangels: #tbt 2015 Speed Angel Ivy at the Wynwood Walls. \\nIG at Ivy_inked\\nPhotography IG at Miami_sins\\n#speedangels #teamspeedangel…'>, <Tweet id=1589251810505940997 text='RT @A_GayBoy: #ThrowbackThursday 😈😈🇧🇷\\n\\n@superboy_AV &amp; @tiagomarza \\n\\n➡️ https://t.co/18xNqOB6nq\\n➡️ https://t.co/b5GoZyxsFh https://t.co/HsWj…'>, <Tweet id=1589251575562014724 text='RT @EliteTrends1: https://t.co/ikbqpM7WLX offers world-class events and experiences #ThrowbackThursday #tbt #TGIF #NewMusicFriday #FridayFe…'>, <Tweet id=1589251532532617216 text='RT @Speedangels: #tbt 2013 Speed Angel Suarez .. 100%body painted!\\nIG Iamthesuarez\\nBody Painted by IG Jessie_melero\\n#speedangels #teamspeed…'>, <Tweet id=1589251139534716930 text='RT @AndiDev_: Was man alles so beim Aufräumen findet. #ThrowbackThursday #gamedev https://t.co/AIgDYyUIQo'>, <Tweet id=1589251083989573632 text='RT @Anambrasocials: This is a house in Onitsha, Anambra state that survived the Biafran War.\\n\\n It is located at 2 Jideofor Nzeogwu Street,…'>], includes={}, errors=[], meta={'newest_id': '1589252346625679362', 'oldest_id': '1589251083989573632', 'result_count': 10, 'next_token': 'b26v89c19zqg8o3fpzen89al4gbh53fsxkkg6oof3o5tp'})\n"
     ]
    }
   ],
   "source": [
    "import pprint\n",
    "\n",
    "pp = pprint.PrettyPrinter(indent=4)\n",
    "\n",
    "q = '#ThrowbackThursday' # XXX: Set this variable to a trending topic, or anything else you like. \n",
    "\n",
    "search_results = client.search_recent_tweets(q) \n",
    "\n",
    "# The following code allows you to print in a nice format the contents of search_results\n",
    "pprint.pprint(search_results, depth=1, width=60)"
   ]
  },
  {
   "cell_type": "markdown",
   "metadata": {},
   "source": [
    "### Task 2\n",
    "\n",
    "In the cell below, create a second variable (e.g. `statuses2`) that holds the results of a query other than the one presented above. Think about a query that would yield very different results than the first one, for example one that may yield a shorter output or about a different topic."
   ]
  },
  {
   "cell_type": "code",
   "execution_count": null,
   "metadata": {},
   "outputs": [],
   "source": [
    "# your code here\n",
    "#\n",
    "#\n",
    "#\n",
    "#\n",
    "#\n",
    "#\n",
    "print()"
   ]
  },
  {
   "cell_type": "markdown",
   "metadata": {},
   "source": [
    "## Part 2: Extracting text, screen names, and hashtags from tweets \n",
    "\n",
    "Simply printing all the search results to screen is nice, but to really start analysing them, it is handy to select the interesting parts and store them in a different structure such as a list. \n",
    "\n",
    "In this example you are using a thing called \"List Comprehension\".\n",
    "\n",
    "### 2.1 List Comprehensions\n",
    "List comprehension is a powerful construct that allows to succinctly build a list.\n",
    "With it you can process items from any iterable (e.g. dictionaries, lists, tuples, iterators...) and output a list while optionally performing an operation on each value.\n",
    "\n",
    "Here's a few examples from Mining the Social Web:"
   ]
  },
  {
   "cell_type": "code",
   "execution_count": 67,
   "metadata": {},
   "outputs": [
    {
     "name": "stdout",
     "output_type": "stream",
     "text": [
      "[0, 2, 4, 6, 8, 10, 12, 14, 16, 18]\n",
      "[1, 9, 25, 49, 81]\n",
      "['The', 'Social', 'Web']\n",
      "[3, 6, 3]\n",
      "[1, 2, 3, 4, 5, 6, 7, 8, 9]\n"
     ]
    }
   ],
   "source": [
    "# double all values from 0 to 9\n",
    "double_list = [i*2 for i in range(10)]\n",
    "\n",
    "# raise to the power of 2, but only if the number is uneven\n",
    "power_even_list = [i**2 for i in range(10) if i%2!=0]\n",
    "\n",
    "# clean strings in a tuple\n",
    "stripped_lines = [x.strip() for x in ('The\\n', 'Social\\n', 'Web\\n')]\n",
    "\n",
    "# return length of each string in stripped_lines\n",
    "len_str_lines = [len(s) for s in stripped_lines]\n",
    "\n",
    "# finally, we can nest list comprehensions to flatten a list of lists:\n",
    "list_of_lists = [[1, 2, 3], [4, 5, 6], [7, 8, 9]]\n",
    "range_9 = [x for y in list_of_lists for x in y]\n",
    "\n",
    "print(double_list)\n",
    "print(power_even_list)\n",
    "print(stripped_lines)\n",
    "print(len_str_lines)\n",
    "print(range_9)"
   ]
  },
  {
   "cell_type": "markdown",
   "metadata": {},
   "source": [
    "### 2.2 Parsing text, screen names and hashtags from tweets\n",
    "*(from Example 1-6 in Mining the Social Web)*\n",
    "\n",
    "Hereafter, we'll be creating a variable `status_texts` of type list. \\\n",
    "The list will be filled with the `text` elements from each `status`, whereas `status` comes from looping through all `statuses` in the `search_results` list (1.2). \\\n",
    "Look up the list comprehensions in your Python reference materials to make sure you understand what's happening here. "
   ]
  },
  {
   "cell_type": "code",
   "execution_count": 77,
   "metadata": {},
   "outputs": [
    {
     "name": "stdout",
     "output_type": "stream",
     "text": [
      "[\n",
      " \"RT @A_GayBoy: #ThrowbackThursday\\n\\n\\ud83d\\ude08\\ud83d\\udcaa @Baxxxbox \\n\\n\\u27a1\\ufe0f https://t.co/N8nTrhOpDV\\n\\n\\ud83d\\udcf8 @ZackZerbe https://t.co/Pt398eWGNn\",\n",
      " \"RT @EliteTrends1: Don't miss the latest in our event listings via https://t.co/ikbqpMpxDv\\n#ThrowbackThursday #tbt #TGIF #NewMusicFriday #Fr\\u2026\",\n",
      " \"RT @EliteTrends1: Enjoy an evening out  \\\"New Year HiphopReggaeSocaRnB Night\\\" https://t.co/DI4h882UBJ #ThrowbackThursday #tbt #TGIF #NewMusi\\u2026\",\n",
      " \"RT @Chellelovesu: a hot throwback for #throwbackthursday https://t.co/162ZCl0w9j\",\n",
      " \"RT @Speedangels: #tbt 2015 Speed Angel Ivy at the Wynwood Walls. \\nIG at Ivy_inked\\nPhotography IG at Miami_sins\\n#speedangels #teamspeedangel\\u2026\",\n",
      " \"RT @A_GayBoy: #ThrowbackThursday \\ud83d\\ude08\\ud83d\\ude08\\ud83c\\udde7\\ud83c\\uddf7\\n\\n@superboy_AV &amp; @tiagomarza \\n\\n\\u27a1\\ufe0f https://t.co/18xNqOB6nq\\n\\u27a1\\ufe0f https://t.co/b5GoZyxsFh https://t.co/HsWj\\u2026\",\n",
      " \"RT @EliteTrends1: https://t.co/ikbqpM7WLX offers world-class events and experiences #ThrowbackThursday #tbt #TGIF #NewMusicFriday #FridayFe\\u2026\",\n",
      " \"RT @Speedangels: #tbt 2013 Speed Angel Suarez .. 100%body painted!\\nIG Iamthesuarez\\nBody Painted by IG Jessie_melero\\n#speedangels #teamspeed\\u2026\",\n",
      " \"RT @AndiDev_: Was man alles so beim Aufr\\u00e4umen findet. #ThrowbackThursday #gamedev https://t.co/AIgDYyUIQo\",\n",
      " \"RT @Anambrasocials: This is a house in Onitsha, Anambra state that survived the Biafran War.\\n\\n It is located at 2 Jideofor Nzeogwu Street,\\u2026\"\n",
      "]\n",
      "[\n",
      " \"RT\",\n",
      " \"@A_GayBoy:\",\n",
      " \"#ThrowbackThursday\",\n",
      " \"\\ud83d\\ude08\\ud83d\\udcaa\",\n",
      " \"@Baxxxbox\",\n",
      " \"\\u27a1\\ufe0f\",\n",
      " \"https://t.co/N8nTrhOpDV\",\n",
      " \"\\ud83d\\udcf8\",\n",
      " \"@ZackZerbe\",\n",
      " \"https://t.co/Pt398eWGNn\",\n",
      " \"RT\",\n",
      " \"@EliteTrends1:\",\n",
      " \"Don't\",\n",
      " \"miss\",\n",
      " \"the\",\n",
      " \"latest\",\n",
      " \"in\",\n",
      " \"our\",\n",
      " \"event\",\n",
      " \"listings\",\n",
      " \"via\",\n",
      " \"https://t.co/ikbqpMpxDv\",\n",
      " \"#ThrowbackThursday\",\n",
      " \"#tbt\",\n",
      " \"#TGIF\",\n",
      " \"#NewMusicFriday\",\n",
      " \"#Fr\\u2026\",\n",
      " \"RT\",\n",
      " \"@EliteTrends1:\",\n",
      " \"Enjoy\",\n",
      " \"an\",\n",
      " \"evening\",\n",
      " \"out\",\n",
      " \"\\\"New\",\n",
      " \"Year\",\n",
      " \"HiphopReggaeSocaRnB\",\n",
      " \"Night\\\"\",\n",
      " \"https://t.co/DI4h882UBJ\",\n",
      " \"#ThrowbackThursday\",\n",
      " \"#tbt\",\n",
      " \"#TGIF\",\n",
      " \"#NewMusi\\u2026\",\n",
      " \"RT\",\n",
      " \"@Chellelovesu:\",\n",
      " \"a\",\n",
      " \"hot\",\n",
      " \"throwback\",\n",
      " \"for\",\n",
      " \"#throwbackthursday\",\n",
      " \"https://t.co/162ZCl0w9j\",\n",
      " \"RT\",\n",
      " \"@Speedangels:\",\n",
      " \"#tbt\",\n",
      " \"2015\",\n",
      " \"Speed\",\n",
      " \"Angel\",\n",
      " \"Ivy\",\n",
      " \"at\",\n",
      " \"the\",\n",
      " \"Wynwood\",\n",
      " \"Walls.\",\n",
      " \"IG\",\n",
      " \"at\",\n",
      " \"Ivy_inked\",\n",
      " \"Photography\",\n",
      " \"IG\",\n",
      " \"at\",\n",
      " \"Miami_sins\",\n",
      " \"#speedangels\",\n",
      " \"#teamspeedangel\\u2026\",\n",
      " \"RT\",\n",
      " \"@A_GayBoy:\",\n",
      " \"#ThrowbackThursday\",\n",
      " \"\\ud83d\\ude08\\ud83d\\ude08\\ud83c\\udde7\\ud83c\\uddf7\",\n",
      " \"@superboy_AV\",\n",
      " \"&amp;\",\n",
      " \"@tiagomarza\",\n",
      " \"\\u27a1\\ufe0f\",\n",
      " \"https://t.co/18xNqOB6nq\",\n",
      " \"\\u27a1\\ufe0f\",\n",
      " \"https://t.co/b5GoZyxsFh\",\n",
      " \"https://t.co/HsWj\\u2026\",\n",
      " \"RT\",\n",
      " \"@EliteTrends1:\",\n",
      " \"https://t.co/ikbqpM7WLX\",\n",
      " \"offers\",\n",
      " \"world-class\",\n",
      " \"events\",\n",
      " \"and\",\n",
      " \"experiences\",\n",
      " \"#ThrowbackThursday\",\n",
      " \"#tbt\",\n",
      " \"#TGIF\",\n",
      " \"#NewMusicFriday\",\n",
      " \"#FridayFe\\u2026\",\n",
      " \"RT\",\n",
      " \"@Speedangels:\",\n",
      " \"#tbt\",\n",
      " \"2013\",\n",
      " \"Speed\",\n",
      " \"Angel\",\n",
      " \"Suarez\",\n",
      " \"..\",\n",
      " \"100%body\",\n",
      " \"painted!\",\n",
      " \"IG\",\n",
      " \"Iamthesuarez\",\n",
      " \"Body\",\n",
      " \"Painted\",\n",
      " \"by\",\n",
      " \"IG\",\n",
      " \"Jessie_melero\",\n",
      " \"#speedangels\",\n",
      " \"#teamspeed\\u2026\",\n",
      " \"RT\",\n",
      " \"@AndiDev_:\",\n",
      " \"Was\",\n",
      " \"man\",\n",
      " \"alles\",\n",
      " \"so\",\n",
      " \"beim\",\n",
      " \"Aufr\\u00e4umen\",\n",
      " \"findet.\",\n",
      " \"#ThrowbackThursday\",\n",
      " \"#gamedev\",\n",
      " \"https://t.co/AIgDYyUIQo\",\n",
      " \"RT\",\n",
      " \"@Anambrasocials:\",\n",
      " \"This\",\n",
      " \"is\",\n",
      " \"a\",\n",
      " \"house\",\n",
      " \"in\",\n",
      " \"Onitsha,\",\n",
      " \"Anambra\",\n",
      " \"state\",\n",
      " \"that\",\n",
      " \"survived\",\n",
      " \"the\",\n",
      " \"Biafran\",\n",
      " \"War.\",\n",
      " \"It\",\n",
      " \"is\",\n",
      " \"located\",\n",
      " \"at\",\n",
      " \"2\",\n",
      " \"Jideofor\",\n",
      " \"Nzeogwu\",\n",
      " \"Street,\\u2026\"\n",
      "]\n"
     ]
    }
   ],
   "source": [
    "status_texts = [ search_result['id'] for search_result in search_results.data ]\n",
    "# the escape character \"\\\" allows for the list comprehension to continue\n",
    "# on a new line. While not strictly necessary, it makes code more readable\n",
    "# for your fellow programmers.\n",
    "\n",
    "status_texts = [ search_result['text'] for search_result in search_results.data ]\n",
    "\n",
    "#hashtags = [ hashtag['text'] for status in statuses \\\n",
    "#        for hashtag in status['entities']['hashtags'] ]\n",
    "\n",
    "# Compute a collection of all words from all tweets\n",
    "words = [ w for t in status_texts for w in t.split() ] #split the string on the empty spaces\n",
    "\n",
    "# Explore the first 5 items for each...\n",
    "print(json.dumps(status_texts, indent=1))\n",
    "print(json.dumps(words, indent=1))"
   ]
  },
  {
   "cell_type": "markdown",
   "metadata": {},
   "source": [
    "### Task 3\n",
    "\n",
    "You are now ready to parse usernames, hashtags and text from the results you previously obtained in Task 2 (e.g. `statuses_2`). While doing it, make sure to leave the variables created in 2.2 untouched. Instead, create your own variable names, which you'll be using soon.\n"
   ]
  },
  {
   "cell_type": "code",
   "execution_count": null,
   "metadata": {},
   "outputs": [],
   "source": [
    "# your code here\n",
    "#\n",
    "#\n",
    "#\n",
    "#"
   ]
  },
  {
   "cell_type": "markdown",
   "metadata": {},
   "source": [
    "## Part 3: Creating a basic frequency distribution from words in tweets\n",
    "*(from Examples 1-7 in Mining the Social Web)* \n",
    "\n",
    "\n",
    "In the cell below we display the 10 most common hashtag instances:"
   ]
  },
  {
   "cell_type": "code",
   "execution_count": 78,
   "metadata": {},
   "outputs": [
    {
     "name": "stdout",
     "output_type": "stream",
     "text": [
      "[('RT', 10), ('#ThrowbackThursday', 6), ('#tbt', 5), ('at', 4), ('IG', 4), ('➡️', 3), ('@EliteTrends1:', 3), ('the', 3), ('#TGIF', 3), ('@A_GayBoy:', 2)]\n"
     ]
    }
   ],
   "source": [
    "from collections import Counter\n",
    "\n",
    "for item in [words]:\n",
    "    c = Counter(item)\n",
    "    \n",
    "print(c.most_common()[:10]) # top 10"
   ]
  },
  {
   "cell_type": "markdown",
   "metadata": {},
   "source": [
    "Your output should look something like this: \\\n",
    "`[('ThrowbackThursday', 34), ('throwbackthursday', 11), ('TBT', 6), ('ThrowBackThursday', 6), ('Trivia', 3), ('madoka_magica', 2), ('New', 2), ('EURO2020', 2), ('artists', 2)]`\n",
    "\n",
    "### Task 4\n",
    "Show hashtags frequency for results that you obtained in Task 3. Think about possible explanations for the different results you get from the analyses for the different queries.\n"
   ]
  },
  {
   "cell_type": "code",
   "execution_count": null,
   "metadata": {},
   "outputs": [],
   "source": [
    "# You code here\n",
    "#\n",
    "#\n",
    "#\n",
    "#\n",
    "#"
   ]
  },
  {
   "cell_type": "markdown",
   "metadata": {},
   "source": [
    "### 3.1 Storing your results\n",
    "So far, we have been storing the data in working memory. Often it's handy to store your data to disk so you can retrieve it in a next session. \n",
    "\n",
    "The pickle module lets you do exactly that, by serializing data in a binary format.\n"
   ]
  },
  {
   "cell_type": "code",
   "execution_count": 79,
   "metadata": {},
   "outputs": [],
   "source": [
    "import pickle\n",
    "\n",
    "filepath = \"my_data.pickle\"\n",
    "# this indented python syntax is broadly defined as \"context manager\".\n",
    "# This means that everything happening under its indentation will use f\n",
    "# as file handle to filepath. The Shortand `wb` stands for \"write binary\",\n",
    "# which is how we serialize data to disk.\n",
    "with open(filepath, \"wb\") as f:\n",
    "    pickle.dump(words, f) # write the contents of list 'words' to file 'f'\n",
    "    \n",
    "# Note that, after the end of the indented block, the file is automatically closed.\n",
    "# Hence, no memory resource on your system is wasted idly."
   ]
  },
  {
   "cell_type": "markdown",
   "metadata": {},
   "source": [
    "If you browse to your working directory, you should find a file there named \"myData.pickle\". You can open this in a text editor, or load its contents back into a variable to do some more analyses on.\n"
   ]
  },
  {
   "cell_type": "code",
   "execution_count": 80,
   "metadata": {},
   "outputs": [
    {
     "name": "stdout",
     "output_type": "stream",
     "text": [
      "['RT', '@A_GayBoy:', '#ThrowbackThursday', '😈💪', '@Baxxxbox', '➡️', 'https://t.co/N8nTrhOpDV', '📸', '@ZackZerbe', 'https://t.co/Pt398eWGNn', 'RT', '@EliteTrends1:', \"Don't\", 'miss', 'the', 'latest', 'in', 'our', 'event', 'listings', 'via', 'https://t.co/ikbqpMpxDv', '#ThrowbackThursday', '#tbt', '#TGIF', '#NewMusicFriday', '#Fr…', 'RT', '@EliteTrends1:', 'Enjoy', 'an', 'evening', 'out', '\"New', 'Year', 'HiphopReggaeSocaRnB', 'Night\"', 'https://t.co/DI4h882UBJ', '#ThrowbackThursday', '#tbt', '#TGIF', '#NewMusi…', 'RT', '@Chellelovesu:', 'a', 'hot', 'throwback', 'for', '#throwbackthursday', 'https://t.co/162ZCl0w9j', 'RT', '@Speedangels:', '#tbt', '2015', 'Speed', 'Angel', 'Ivy', 'at', 'the', 'Wynwood', 'Walls.', 'IG', 'at', 'Ivy_inked', 'Photography', 'IG', 'at', 'Miami_sins', '#speedangels', '#teamspeedangel…', 'RT', '@A_GayBoy:', '#ThrowbackThursday', '😈😈🇧🇷', '@superboy_AV', '&amp;', '@tiagomarza', '➡️', 'https://t.co/18xNqOB6nq', '➡️', 'https://t.co/b5GoZyxsFh', 'https://t.co/HsWj…', 'RT', '@EliteTrends1:', 'https://t.co/ikbqpM7WLX', 'offers', 'world-class', 'events', 'and', 'experiences', '#ThrowbackThursday', '#tbt', '#TGIF', '#NewMusicFriday', '#FridayFe…', 'RT', '@Speedangels:', '#tbt', '2013', 'Speed', 'Angel', 'Suarez', '..', '100%body', 'painted!', 'IG', 'Iamthesuarez', 'Body', 'Painted', 'by', 'IG', 'Jessie_melero', '#speedangels', '#teamspeed…', 'RT', '@AndiDev_:', 'Was', 'man', 'alles', 'so', 'beim', 'Aufräumen', 'findet.', '#ThrowbackThursday', '#gamedev', 'https://t.co/AIgDYyUIQo', 'RT', '@Anambrasocials:', 'This', 'is', 'a', 'house', 'in', 'Onitsha,', 'Anambra', 'state', 'that', 'survived', 'the', 'Biafran', 'War.', 'It', 'is', 'located', 'at', '2', 'Jideofor', 'Nzeogwu', 'Street,…']\n"
     ]
    }
   ],
   "source": [
    "# open the myData.pickle file and store its contents into variable 'words'\n",
    "\n",
    "with open(filepath, \"rb\") as f:\n",
    "    words = pickle.load(f)\n",
    "print(words)"
   ]
  },
  {
   "cell_type": "markdown",
   "metadata": {},
   "source": [
    "### 3.2 Using prettytable to display tuples in a nice way\n",
    "\n"
   ]
  },
  {
   "cell_type": "code",
   "execution_count": 85,
   "metadata": {},
   "outputs": [
    {
     "name": "stdout",
     "output_type": "stream",
     "text": [
      "+--------------------+-------+\n",
      "| Words              | Count |\n",
      "+--------------------+-------+\n",
      "| RT                 |    10 |\n",
      "| #ThrowbackThursday |     6 |\n",
      "| #tbt               |     5 |\n",
      "| at                 |     4 |\n",
      "| IG                 |     4 |\n",
      "| ➡️                  |     3 |\n",
      "| @EliteTrends1:     |     3 |\n",
      "| the                |     3 |\n",
      "| #TGIF              |     3 |\n",
      "| @A_GayBoy:         |     2 |\n",
      "+--------------------+-------+\n"
     ]
    }
   ],
   "source": [
    "from prettytable import PrettyTable\n",
    "\n",
    "\n",
    "pt = PrettyTable(field_names=['Words', 'Count'])\n",
    "c = Counter(words)\n",
    "[ pt.add_row(kv) for kv in c.most_common()[:10] ]\n",
    "pt.align[\"Words\"], pt.align['Count'] = 'l', 'r' # Set column alignment\n",
    "print(pt) "
   ]
  },
  {
   "cell_type": "markdown",
   "metadata": {},
   "source": [
    "### 3.3 Calculating lexical diversity for tweets \n",
    "*(from Example 1-9 in Mining the Social Web)*:"
   ]
  },
  {
   "cell_type": "code",
   "execution_count": 89,
   "metadata": {},
   "outputs": [
    {
     "name": "stdout",
     "output_type": "stream",
     "text": [
      "0.7248322147651006\n",
      "1.0\n"
     ]
    }
   ],
   "source": [
    "# Define a function for computing lexical diversity\n",
    "def lexical_diversity(tokens):\n",
    "    return 1.0*len(set(tokens))/len(tokens)\n",
    "\n",
    "# Define a function for computing the average number of words per tweet\n",
    "def average_words(statuses):\n",
    "    total_words = sum([ len(s.split()) for s in status_texts ])\n",
    "    return 1.0*total_words/len(statuses) \n",
    "\n",
    "# Let's use these functions:\n",
    "\n",
    "print(lexical_diversity(words))\n",
    "print(average_words(words))"
   ]
  },
  {
   "cell_type": "markdown",
   "metadata": {},
   "source": [
    "### Task 5: What do the printed numbers indicate? Try to explain them.\n",
    "\n",
    "(*Double click this cell to write your answer*)"
   ]
  },
  {
   "cell_type": "markdown",
   "metadata": {},
   "source": [
    "### 3.4 Looking up users who have retweeted a status \n",
    "*(from Example 1-11 in Mining the Social Web):*"
   ]
  },
  {
   "cell_type": "code",
   "execution_count": 97,
   "metadata": {},
   "outputs": [
    {
     "name": "stdout",
     "output_type": "stream",
     "text": [
      "Users who've retweeted the tweet:\n",
      "\n",
      "[Response(data=[<User id=289180596 name=mattias username=mblandnc>, <User id=1225532665849405448 name=connor username=Connormccoolman>, <User id=1198130211226898432 name=\"Robert Mueller\" username=DarnMilk>, <User id=2382629469 name=Coy Holt username=coy_holt>, <User id=1184868443679526913 name=HarleyBee 🐝 username=QueenHarleyBee>, <User id=54946944 name=Marko ⭐️⭐️⭐️⭐️⭐️⭐️ username=MARKOPOLO100>, <User id=4061282055 name=Samuel Kutzer username=SHAK_08>, <User id=279634273 name=Sebastian username=saabooboo>, <User id=15712221 name=smirnoff ice enjoyer username=notJacksonfish>, <User id=329920551 name=Martinez username=MartinFaced>, <User id=3883486521 name=Haha Lexis username=cestkisa>, <User id=263972455 name=Ernesto Garza username=elchivo72>, <User id=2263463959 name=elon’s musk 🏳️‍🌈 username=abrewer18>, <User id=57758833 name=Smitty Werbenmanjensen username=ChrEEstosK>, <User id=1516575908 name=c🦃rm🎄c username=McCormacSpices>, <User id=776049844582363137 name=Trent Mahomie username=MahomieTrent>, <User id=909228187 name=chris Mcelfresh username=ChrisMcElfresh1>, <User id=315356135 name=honest caruso fan username=Deonpurpkoolaid>, <User id=3344925987 name=𖤐 Head Honcho 𖤐 username=headhonchoeyad>, <User id=3177249038 name=DELL username=dellwonj>, <User id=451321010 name=John_Titor username=_Philosophried>, <User id=2412605557 name=Moleezy🍩💐❤️ username=MoleezyTweets>, <User id=2612883028 name=Miguel Rodriguez username=miguelfinally>, <User id=912515976 name=Anthony username=apleasant24>, <User id=1543951860 name=Box Carbonie username=westys_wang>, <User id=911899652 name=German Acosta 🐝 username=german10239>, <User id=872856216 name=Smoketsu username=TheDrtyCount420>, <User id=434415503 name=Handsome Bartender username=ZAKM8>, <User id=409378122 name=mr.milton username=FantasticMrAlba>, <User id=751040934566096896 name=no para no para username=beerreunno>, <User id=1281691740 name=alex username=yeahokayalex>, <User id=490685287 name=rick rolled piss boy username=Anthony__Eaton>, <User id=263357010 name=Jordan Lavender username=JordFro>, <User id=50721811 name=Ignacio Alcuri username=ignacioalcuri>, <User id=1048811233321930753 name=Jer\"Z\"Boi username=Marty_McSwag>, <User id=1181408011 name=Mako Mori username=makomori0>, <User id=437507293 name=oliver smith username=oliversmith36>, <User id=804125353878769664 name=Authoritarian Regime Admirer username=serge_gainsbrah>, <User id=2256991345 name=Jake username=henkemcspanky>, <User id=584811469 name=Angelica Hernandez username=SillyNerd14>, <User id=40436554 name=Marc username=DongQuixote>, <User id=787763047 name=Ali Amiri username=expritel>, <User id=3127684577 name=Netan Sansara DSC username=SkroSalah>, <User id=3379085104 name=Dennis username=Dennis_BurnHall>, <User id=1166811230511587328 name=Lagrange 5 username=06rPilot>, <User id=262562037 name=SHANE WATSON username=TheShaneWatson>, <User id=710604361815236608 name=I WILL KILL YOU JARED LETO username=t0nyahard0n>, <User id=1075081591 name=avon username=avonwoodgrain>, <User id=902384485 name=Alex username=ajsplaine>, <User id=928406268217348096 name=. username=colddude123>, <User id=141866886 name=Jim “Butters” Swanson username=konstamadianos>, <User id=1376958812 name=MohZuluFree🐝 username=Mohzulufree>, <User id=711153763 name=balrog username=GrapeEnjoyer>, <User id=1208579779328385024 name=Timothy username=somee_person>, <User id=64822720 name=Kip Dynamite username=kevinThoyt>, <User id=2457934788 name=użytkownik username=dubspl>, <User id=1105764978 name=Chris Wolfe username=chrisdwolfe>, <User id=1003331170010951680 name=jonny snows username=jjjoro_>, <User id=741494134674853888 name=dude, username=lemonist666>, <User id=54817454 name=( •_•) username=iSayDumbShit>, <User id=729125465529552897 name=SoConfuse username=SoConfuse>, <User id=482393835 name=ivan username=ivnxnuno>, <User id=56500975 name=D username=realnamedick>, <User id=706926134953385984 name=GUILLEN⚡️ username=aquillen95>, <User id=2569680346 name=Jaime Daniel username=jayvillawolf>, <User id=2565335717 name=michael m penis username=michaelmpenis>, <User id=511955089 name=B username=djbighugz>, <User id=3045031701 name=Rev. Rictor Von Poofton 🇺🇦 🇵🇸 🇦🇲 username=R_VonPoofton>, <User id=981902629 name=Danny 🌹 username=Invaderfrog1347>, <User id=309305950 name=Michael Southern username=M_Southern_>, <User id=909604438322458626 name=🚬 username=lilsmokebreak>, <User id=382502868 name=Chuck Finley username=DigitalJedi2173>, <User id=1166839757864701954 name=Mark username=markis_maximus>, <User id=904086082546843648 name=Tyler Gibbons username=Gibbowns>, <User id=177324152 name=Joey Albanese username=Joey_Albs>, <User id=61652409 name=Alejandra♡🥀 username=Hello_Allieee>, <User id=116328631 name=lil succubus username=antisuccubus>, <User id=1180180745601597445 name=sir prize username=RudyAzcona>, <User id=457298402 name=1/1 Capital 🅿️ 👨🏻‍🚀 username=_PleasureP>, <User id=515094479 name=Joe username=JabroniMurph>], includes={}, errors=[], meta={'result_count': 80, 'next_token': '7140dibdnow9c7btw452fmh8ost58unnv5eyuor56q2bb'})]\n"
     ]
    }
   ],
   "source": [
    "retweets = client.get_retweeters(id=1224140327688249349) # Get the original tweet id for a tweet from its retweeted_status node and insert it here\n",
    "print(\"Users who've retweeted the tweet:\\n\")\n",
    "print([retweets])"
   ]
  },
  {
   "cell_type": "markdown",
   "metadata": {},
   "source": [
    "### Task 6 (advanced)\n",
    "\n",
    "If you have a Twitter account with a nontrivial number of tweets, request your historical tweet archive from your account settings and analyze it. \\\n",
    "The export of your account data includes files organized by time period in a convenient JSON format. See the README.txt file included in the downloaded archive for more details. \n",
    "\n",
    "\n",
    "\n",
    "What are the most common terms that appear in your tweets? \\\n",
    "Who do you retweet the most often? \\\n",
    "How many of your tweets are retweeted (and why do you think this is the case)?"
   ]
  },
  {
   "cell_type": "markdown",
   "metadata": {},
   "source": [
    "### 3.6 Plotting frequencies of words \n",
    "*(from Example 1-12 in Mining the Social Web)*\n",
    "\n",
    "\n",
    "In the previous exercises we have been looking at the text from the tweets, but when you retrieved the results, you retrieved much more information about the tweets, such as the username of the person who shared this tweet with the world. \n",
    "\n",
    "\n",
    "You can use this information to find out who retweets whom in our examples. "
   ]
  },
  {
   "cell_type": "code",
   "execution_count": 98,
   "metadata": {},
   "outputs": [
    {
     "data": {
      "image/png": "[encoded data removed]",
      "text/plain": [
       "<Figure size 640x480 with 1 Axes>"
      ]
     },
     "metadata": {},
     "output_type": "display_data"
    }
   ],
   "source": [
    "word_counts = sorted(Counter(words).values(), reverse=True)\n",
    "import matplotlib.pyplot as plt\n",
    "plt.loglog(word_counts)\n",
    "plt.ylabel(\"Freq\")\n",
    "plt.xlabel(\"Word Rank\")\n",
    "plt.show()"
   ]
  },
  {
   "cell_type": "markdown",
   "metadata": {},
   "source": [
    "### Generating histograms of words, screen names, and hashtags \n",
    "*(from Example 1-13 in Mining the Social Web):*"
   ]
  },
  {
   "cell_type": "code",
   "execution_count": 102,
   "metadata": {},
   "outputs": [
    {
     "ename": "ValueError",
     "evalue": "too many values to unpack (expected 2)",
     "output_type": "error",
     "traceback": [
      "\u001b[0;31m---------------------------------------------------------------------------\u001b[0m",
      "\u001b[0;31mValueError\u001b[0m                                Traceback (most recent call last)",
      "Cell \u001b[0;32mIn [102], line 1\u001b[0m\n\u001b[0;32m----> 1\u001b[0m \u001b[38;5;28;01mfor\u001b[39;00m label, data \u001b[38;5;129;01min\u001b[39;00m ((\u001b[38;5;124m'\u001b[39m\u001b[38;5;124mWord\u001b[39m\u001b[38;5;124m'\u001b[39m, words)):\n\u001b[1;32m      2\u001b[0m     c \u001b[38;5;241m=\u001b[39m Counter(data)\n\u001b[1;32m      3\u001b[0m     plt\u001b[38;5;241m.\u001b[39mhist(c\u001b[38;5;241m.\u001b[39mvalues())\n",
      "\u001b[0;31mValueError\u001b[0m: too many values to unpack (expected 2)"
     ]
    }
   ],
   "source": [
    "c = Counter(words)\n",
    "plt.hist(c.values())\n",
    "    \n",
    "plt.title(\"\")\n",
    "plt.ylabel(\"Number of items in bin\")\n",
    "plt.xlabel(\"Bins (number of times an item appeared)\")\n",
    "    \n",
    "plt.figure()"
   ]
  },
  {
   "cell_type": "code",
   "execution_count": null,
   "metadata": {},
   "outputs": [],
   "source": [
    "# extra: seaborn plots with a one-liner.\n",
    "!pip install seaborn\n",
    "import seaborn as sns\n",
    "\n",
    "sns.distplot(word_counts, kde=False, rug=True)\n"
   ]
  }
 ],
 "metadata": {
  "kernelspec": {
   "display_name": "Python 3 (ipykernel)",
   "language": "python",
   "name": "python3"
  },
  "language_info": {
   "codemirror_mode": {
    "name": "ipython",
    "version": 3
   },
   "file_extension": ".py",
   "mimetype": "text/x-python",
   "name": "python",
   "nbconvert_exporter": "python",
   "pygments_lexer": "ipython3",
   "version": "3.9.13"
  }
 },
 "nbformat": 4,
 "nbformat_minor": 2
}

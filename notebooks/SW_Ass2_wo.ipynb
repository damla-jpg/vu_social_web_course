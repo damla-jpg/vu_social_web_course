{
 "cells": [
  {
   "cell_type": "markdown",
   "metadata": {
    "id": "dcMf4aubeMI9"
   },
   "source": [
    "*****************************************************************\n",
    "#  The Social Web: data representation\n",
    "- Instructors: Davide Ceolin, Emma Beauxis-Aussalet.\n",
    "- TAs: Zubaria Inayat, Maxim Sergeev, Zhuofan Mei, Alexander Schmatz, Ling Jin.\n",
    "- Exercises for Hands-on session 2\n",
    "*****************************************************************"
   ]
  },
  {
   "cell_type": "markdown",
   "metadata": {
    "id": "Zhts5HMzeMI-"
   },
   "source": [
    "In this session you are going to mine data in various microformats. You will see the differences in what each of the formats can contain and what purpose they serve. We will start by looking at geographical data.\n",
    "\n",
    "Prerequisites:\n",
    "- Python 3.8\n",
    "- Python packages: requests, BeautifulSoup4, HTMLParser, rdflib\n"
   ]
  },
  {
   "cell_type": "code",
   "execution_count": 1,
   "metadata": {
    "colab": {
     "base_uri": "https://localhost:8080/",
     "height": 204
    },
    "id": "6f-OtFPPeMJA",
    "outputId": "9bcb836f-4204-4fac-d133-99e81a0b2884"
   },
   "outputs": [
    {
     "name": "stdout",
     "output_type": "stream",
     "text": [
      "Collecting requests\n",
      "  Obtaining dependency information for requests from https://files.pythonhosted.org/packages/70/8e/0e2d847013cb52cd35b38c009bb167a1a26b2ce6cd6965bf26b47bc0bf44/requests-2.31.0-py3-none-any.whl.metadata\n",
      "  Downloading requests-2.31.0-py3-none-any.whl.metadata (4.6 kB)\n",
      "Collecting charset-normalizer<4,>=2 (from requests)\n",
      "  Obtaining dependency information for charset-normalizer<4,>=2 from https://files.pythonhosted.org/packages/57/ec/80c8d48ac8b1741d5b963797b7c0c869335619e13d4744ca2f67fc11c6fc/charset_normalizer-3.3.2-cp311-cp311-win_amd64.whl.metadata\n",
      "  Downloading charset_normalizer-3.3.2-cp311-cp311-win_amd64.whl.metadata (34 kB)\n",
      "Collecting idna<4,>=2.5 (from requests)\n",
      "  Downloading idna-3.4-py3-none-any.whl (61 kB)\n",
      "     ---------------------------------------- 0.0/61.5 kB ? eta -:--:--\n",
      "     ---------------------------------------- 0.0/61.5 kB ? eta -:--:--\n",
      "     ---------------------------------------  61.4/61.5 kB 3.2 MB/s eta 0:00:01\n",
      "     ---------------------------------------- 61.5/61.5 kB 1.6 MB/s eta 0:00:00\n",
      "Collecting urllib3<3,>=1.21.1 (from requests)\n",
      "  Obtaining dependency information for urllib3<3,>=1.21.1 from https://files.pythonhosted.org/packages/d2/b2/b157855192a68541a91ba7b2bbcb91f1b4faa51f8bae38d8005c034be524/urllib3-2.0.7-py3-none-any.whl.metadata\n",
      "  Downloading urllib3-2.0.7-py3-none-any.whl.metadata (6.6 kB)\n",
      "Collecting certifi>=2017.4.17 (from requests)\n",
      "  Obtaining dependency information for certifi>=2017.4.17 from https://files.pythonhosted.org/packages/4c/dd/2234eab22353ffc7d94e8d13177aaa050113286e93e7b40eae01fbf7c3d9/certifi-2023.7.22-py3-none-any.whl.metadata\n",
      "  Downloading certifi-2023.7.22-py3-none-any.whl.metadata (2.2 kB)\n",
      "Downloading requests-2.31.0-py3-none-any.whl (62 kB)\n",
      "   ---------------------------------------- 0.0/62.6 kB ? eta -:--:--\n",
      "   ---------------------------------------- 62.6/62.6 kB ? eta 0:00:00\n",
      "Downloading certifi-2023.7.22-py3-none-any.whl (158 kB)\n",
      "   ---------------------------------------- 0.0/158.3 kB ? eta -:--:--\n",
      "   ---------------------------------------- 158.3/158.3 kB 9.9 MB/s eta 0:00:00\n",
      "Downloading charset_normalizer-3.3.2-cp311-cp311-win_amd64.whl (99 kB)\n",
      "   ---------------------------------------- 0.0/99.9 kB ? eta -:--:--\n",
      "   ---------------------------------------- 99.9/99.9 kB ? eta 0:00:00\n",
      "Downloading urllib3-2.0.7-py3-none-any.whl (124 kB)\n",
      "   ---------------------------------------- 0.0/124.2 kB ? eta -:--:--\n",
      "   ---------------------------------------  122.9/124.2 kB 3.6 MB/s eta 0:00:01\n",
      "   ---------------------------------------- 124.2/124.2 kB 3.7 MB/s eta 0:00:00\n",
      "Installing collected packages: urllib3, idna, charset-normalizer, certifi, requests\n",
      "Successfully installed certifi-2023.7.22 charset-normalizer-3.3.2 idna-3.4 requests-2.31.0 urllib3-2.0.7\n"
     ]
    },
    {
     "name": "stderr",
     "output_type": "stream",
     "text": [
      "\n",
      "[notice] A new release of pip is available: 23.2.1 -> 23.3.1\n",
      "[notice] To update, run: python.exe -m pip install --upgrade pip\n"
     ]
    },
    {
     "name": "stdout",
     "output_type": "stream",
     "text": [
      "Collecting BeautifulSoup4\n",
      "  Downloading beautifulsoup4-4.12.2-py3-none-any.whl (142 kB)\n",
      "     ---------------------------------------- 0.0/143.0 kB ? eta -:--:--\n",
      "     ---------------------------------------- 0.0/143.0 kB ? eta -:--:--\n",
      "     ---------------------------------------- 0.0/143.0 kB ? eta -:--:--\n",
      "     -- ------------------------------------- 10.2/143.0 kB ? eta -:--:--\n",
      "     ------- ----------------------------- 30.7/143.0 kB 660.6 kB/s eta 0:00:01\n",
      "     ---------- -------------------------- 41.0/143.0 kB 330.3 kB/s eta 0:00:01\n",
      "     ---------------------------- ------- 112.6/143.0 kB 656.4 kB/s eta 0:00:01\n",
      "     --------------------------------- -- 133.1/143.0 kB 718.6 kB/s eta 0:00:01\n",
      "     ------------------------------------ 143.0/143.0 kB 608.9 kB/s eta 0:00:00\n",
      "Collecting soupsieve>1.2 (from BeautifulSoup4)\n",
      "  Obtaining dependency information for soupsieve>1.2 from https://files.pythonhosted.org/packages/4c/f3/038b302fdfbe3be7da016777069f26ceefe11a681055ea1f7817546508e3/soupsieve-2.5-py3-none-any.whl.metadata\n",
      "  Downloading soupsieve-2.5-py3-none-any.whl.metadata (4.7 kB)\n",
      "Downloading soupsieve-2.5-py3-none-any.whl (36 kB)\n",
      "Installing collected packages: soupsieve, BeautifulSoup4\n",
      "Successfully installed BeautifulSoup4-4.12.2 soupsieve-2.5\n"
     ]
    },
    {
     "name": "stderr",
     "output_type": "stream",
     "text": [
      "\n",
      "[notice] A new release of pip is available: 23.2.1 -> 23.3.1\n",
      "[notice] To update, run: python.exe -m pip install --upgrade pip\n"
     ]
    },
    {
     "name": "stdout",
     "output_type": "stream",
     "text": [
      "Collecting HTMLParser\n",
      "  Downloading HTMLParser-0.0.2.tar.gz (6.0 kB)\n",
      "  Installing build dependencies: started\n",
      "  Installing build dependencies: finished with status 'done'\n",
      "  Getting requirements to build wheel: started\n",
      "  Getting requirements to build wheel: finished with status 'done'\n",
      "  Preparing metadata (pyproject.toml): started\n",
      "  Preparing metadata (pyproject.toml): finished with status 'done'\n",
      "Building wheels for collected packages: HTMLParser\n",
      "  Building wheel for HTMLParser (pyproject.toml): started\n",
      "  Building wheel for HTMLParser (pyproject.toml): finished with status 'done'\n",
      "  Created wheel for HTMLParser: filename=HTMLParser-0.0.2-py3-none-any.whl size=5992 sha256=de3808e7f60b2482b9a7edb102afb7766af607ce4c2eb207cf5c394c39048291\n",
      "  Stored in directory: c:\\users\\radua\\appdata\\local\\pip\\cache\\wheels\\a4\\3b\\1a\\c6cf6093dcb4a243bebf253c48acd3ffa93c8c48685a4fbb05\n",
      "Successfully built HTMLParser\n",
      "Installing collected packages: HTMLParser\n",
      "Successfully installed HTMLParser-0.0.2\n"
     ]
    },
    {
     "name": "stderr",
     "output_type": "stream",
     "text": [
      "\n",
      "[notice] A new release of pip is available: 23.2.1 -> 23.3.1\n",
      "[notice] To update, run: python.exe -m pip install --upgrade pip\n"
     ]
    },
    {
     "name": "stdout",
     "output_type": "stream",
     "text": [
      "Collecting rdflib\n",
      "  Obtaining dependency information for rdflib from https://files.pythonhosted.org/packages/d4/b0/7b7d8b5b0d01f1a0b12cc2e5038a868ef3a15825731b8a0d776cf47566c0/rdflib-7.0.0-py3-none-any.whl.metadata\n",
      "  Downloading rdflib-7.0.0-py3-none-any.whl.metadata (11 kB)\n",
      "Collecting isodate<0.7.0,>=0.6.0 (from rdflib)\n",
      "  Downloading isodate-0.6.1-py2.py3-none-any.whl (41 kB)\n",
      "     ---------------------------------------- 0.0/41.7 kB ? eta -:--:--\n",
      "     ---------------------------------------- 0.0/41.7 kB ? eta -:--:--\n",
      "     --------------------------- ---------- 30.7/41.7 kB 435.7 kB/s eta 0:00:01\n",
      "     -------------------------------------  41.0/41.7 kB 653.6 kB/s eta 0:00:01\n",
      "     -------------------------------------- 41.7/41.7 kB 288.8 kB/s eta 0:00:00\n",
      "Collecting pyparsing<4,>=2.1.0 (from rdflib)\n",
      "  Obtaining dependency information for pyparsing<4,>=2.1.0 from https://files.pythonhosted.org/packages/39/92/8486ede85fcc088f1b3dba4ce92dd29d126fd96b0008ea213167940a2475/pyparsing-3.1.1-py3-none-any.whl.metadata\n",
      "  Downloading pyparsing-3.1.1-py3-none-any.whl.metadata (5.1 kB)\n",
      "Requirement already satisfied: six in c:\\users\\radua\\appdata\\roaming\\python\\python311\\site-packages (from isodate<0.7.0,>=0.6.0->rdflib) (1.16.0)\n",
      "Downloading rdflib-7.0.0-py3-none-any.whl (531 kB)\n",
      "   ---------------------------------------- 0.0/531.9 kB ? eta -:--:--\n",
      "   ------ --------------------------------- 81.9/531.9 kB 2.3 MB/s eta 0:00:01\n",
      "   ------------------- -------------------- 256.0/531.9 kB 4.0 MB/s eta 0:00:01\n",
      "   ---------------------------------------  522.2/531.9 kB 4.7 MB/s eta 0:00:01\n",
      "   ---------------------------------------- 531.9/531.9 kB 3.3 MB/s eta 0:00:00\n",
      "Downloading pyparsing-3.1.1-py3-none-any.whl (103 kB)\n",
      "   ---------------------------------------- 0.0/103.1 kB ? eta -:--:--\n",
      "   ---------------------------------------- 103.1/103.1 kB 2.9 MB/s eta 0:00:00\n",
      "Installing collected packages: pyparsing, isodate, rdflib\n",
      "Successfully installed isodate-0.6.1 pyparsing-3.1.1 rdflib-7.0.0\n"
     ]
    },
    {
     "name": "stderr",
     "output_type": "stream",
     "text": [
      "\n",
      "[notice] A new release of pip is available: 23.2.1 -> 23.3.1\n",
      "[notice] To update, run: python.exe -m pip install --upgrade pip\n"
     ]
    },
    {
     "name": "stdout",
     "output_type": "stream",
     "text": [
      "Collecting cloudscraper\n",
      "  Downloading cloudscraper-1.2.71-py2.py3-none-any.whl (99 kB)\n",
      "     ---------------------------------------- 0.0/99.7 kB ? eta -:--:--\n",
      "     ---------------------------------------- 0.0/99.7 kB ? eta -:--:--\n",
      "     ---- ----------------------------------- 10.2/99.7 kB ? eta -:--:--\n",
      "     ----------- -------------------------- 30.7/99.7 kB 262.6 kB/s eta 0:00:01\n",
      "     --------------- ---------------------- 41.0/99.7 kB 245.8 kB/s eta 0:00:01\n",
      "     ----------------------- -------------- 61.4/99.7 kB 297.7 kB/s eta 0:00:01\n",
      "     ----------------------------------- -- 92.2/99.7 kB 403.5 kB/s eta 0:00:01\n",
      "     -------------------------------------- 99.7/99.7 kB 357.6 kB/s eta 0:00:00\n",
      "Requirement already satisfied: pyparsing>=2.4.7 in c:\\users\\radua\\appdata\\local\\programs\\python\\python311\\lib\\site-packages (from cloudscraper) (3.1.1)\n",
      "Requirement already satisfied: requests>=2.9.2 in c:\\users\\radua\\appdata\\local\\programs\\python\\python311\\lib\\site-packages (from cloudscraper) (2.31.0)\n",
      "Collecting requests-toolbelt>=0.9.1 (from cloudscraper)\n",
      "  Downloading requests_toolbelt-1.0.0-py2.py3-none-any.whl (54 kB)\n",
      "     ---------------------------------------- 0.0/54.5 kB ? eta -:--:--\n",
      "     ---------------------------------------- 54.5/54.5 kB ? eta 0:00:00\n",
      "Requirement already satisfied: charset-normalizer<4,>=2 in c:\\users\\radua\\appdata\\local\\programs\\python\\python311\\lib\\site-packages (from requests>=2.9.2->cloudscraper) (3.3.2)\n",
      "Requirement already satisfied: idna<4,>=2.5 in c:\\users\\radua\\appdata\\local\\programs\\python\\python311\\lib\\site-packages (from requests>=2.9.2->cloudscraper) (3.4)\n",
      "Requirement already satisfied: urllib3<3,>=1.21.1 in c:\\users\\radua\\appdata\\local\\programs\\python\\python311\\lib\\site-packages (from requests>=2.9.2->cloudscraper) (2.0.7)\n",
      "Requirement already satisfied: certifi>=2017.4.17 in c:\\users\\radua\\appdata\\local\\programs\\python\\python311\\lib\\site-packages (from requests>=2.9.2->cloudscraper) (2023.7.22)\n",
      "Installing collected packages: requests-toolbelt, cloudscraper\n",
      "Successfully installed cloudscraper-1.2.71 requests-toolbelt-1.0.0\n"
     ]
    },
    {
     "name": "stderr",
     "output_type": "stream",
     "text": [
      "\n",
      "[notice] A new release of pip is available: 23.2.1 -> 23.3.1\n",
      "[notice] To update, run: python.exe -m pip install --upgrade pip\n"
     ]
    }
   ],
   "source": [
    "# If you're using a virtualenv, make sure it's activated before running\n",
    "# this cell!\n",
    "!pip install requests\n",
    "!pip install BeautifulSoup4\n",
    "!pip install HTMLParser\n",
    "!pip install rdflib\n",
    "!pip install cloudscraper"
   ]
  },
  {
   "cell_type": "markdown",
   "metadata": {
    "id": "irPnmIK4eMJd"
   },
   "source": [
    "##  Exercise 1\n",
    "\n",
    "Even if web pages do not use microformat, interesting data can often be extracted from the HTML. You may use packages such as BeautifulSoup to extract arbitrary pieces of data from any HTML page.\n",
    "The example below shows how we can find the URL of first image in the infobox table of the wikipedia page on Amsterdam. Tip: compare the code below with HTML source code of the wikipedia page: the image url is in the \"src\" attribute of the \"img\" element of in the \"table\" element with class=\"infobox\"."
   ]
  },
  {
   "cell_type": "code",
   "execution_count": null,
   "metadata": {
    "colab": {
     "base_uri": "https://localhost:8080/",
     "height": 34
    },
    "id": "9gpHw90keMJf",
    "outputId": "7ae1fe64-8d85-4a47-cfdf-422284954d81"
   },
   "outputs": [],
   "source": [
    "# -*- coding: utf-8 -*-\n",
    "\n",
    "import requests\n",
    "from bs4 import BeautifulSoup\n",
    "\n",
    "# This script requires you to add a url of a page with geotags to the commandline, e.g.\n",
    "# python geo.py 'http://en.wikipedia.org/wiki/Amsterdam'\n",
    "URL = 'https://en.wikipedia.org/wiki/Amsterdam'\n",
    "\n",
    "req = requests.get(URL, headers={'User-Agent' : \"Social Web Course Student\"})\n",
    "soup = BeautifulSoup(req.text)\n",
    "# print(req.text)\n",
    "image1 = soup.findAll('table', class_='infobox')[0].find('img')\n",
    "print(image1['src'])  \n"
   ]
  },
  {
   "cell_type": "markdown",
   "metadata": {},
   "source": [
    "Extracting coordinates from a webpage and reformatting them in the geo microformat (based on Example 8-1 in Mining the Social Web). Note that wikipages may encode long/lat information in different ways. On of the ways used by the Amsterdam wikipedia page is in a span element that is not shown to the user: \n",
    "<span class=\"geo\">52.367; 4.900</span>\n",
    "This span element has a single child: len(geoTag == 1) and no further structure, we have to manually get the long/lat by splitting the string on the ';' semicolon."
   ]
  },
  {
   "cell_type": "code",
   "execution_count": null,
   "metadata": {
    "colab": {
     "base_uri": "https://localhost:8080/",
     "height": 34
    },
    "id": "LtHtQT9PeMJl",
    "outputId": "8a7f7b52-cdb2-409f-b3f0-ee7adf60a9f7"
   },
   "outputs": [],
   "source": [
    "\n",
    "geoTag = soup.find(True, 'geo')\n",
    "print(geoTag)\n",
    "\n",
    "if geoTag and len(geoTag) > 1:\n",
    "        lat = geoTag.find(True, 'latitude').string\n",
    "        lon = geoTag.find(True, 'longitude').string\n",
    "        print ('Location is at'), lat, lon\n",
    "elif geoTag and len(geoTag) == 1:\n",
    "        (lat, lon) = geoTag.string.split(';')\n",
    "        (lat, lon) = (lat.strip(), lon.strip())\n",
    "        print (('Location is at'), lat, lon)\n",
    "else:\n",
    "        print ('Location not found')\n"
   ]
  },
  {
   "cell_type": "markdown",
   "metadata": {
    "id": "8S_bXnjveMJp"
   },
   "source": [
    "### Task 1\n",
    "\n",
    "Can you convert the output of Exercise 1 into KML? Here is the KML documentation: https://developers.google.com/kml/documentation/?csw=1 and here you can find a simple example of how it is used: https://renenyffenegger.ch/notes/tools/Google-Earth/kml/index\n",
    "\n",
    "Visualise the point in Google Maps using the following code example: https://developers.google.com/maps/documentation/javascript/examples/layer-kml-features\n",
    "You will have to create your own KML file for the custom map layer, and provide a URL to the KML file inside the JavaScript code, which means that you have to upload the file somewhere. You can use a service like http://pastebin.com/ to obtain a URL for your KML file —> paste the code there and request the RAW format URL; use this one in this Task1. If it fails to work you can also use KML viewer websites like https://kmzview.com/.\n",
    "\n",
    "Is KML a microformat, why (not)?"
   ]
  },
  {
   "cell_type": "markdown",
   "metadata": {
    "id": "kUnka7EyeMJp"
   },
   "source": [
    "## Exercise 2 \n",
    "In order to find information in the web we can use microformats such as [hRecipe](https://microformats.org/wiki/hrecipe) or Schema.org's [Recipe](https://schema.org/Recipe). But first, we'll show you how to find arbitrary tags in a webpage.\n"
   ]
  },
  {
   "cell_type": "markdown",
   "metadata": {
    "id": "b0pBs-PVeMJq"
   },
   "source": [
    "### Task 2 \n",
    "Parsing data for a <sub><sup>veggie</sup></sub> spaghetti alla carbonara recipe (from Example 2-7 in Mining the Social Web)."
   ]
  },
  {
   "cell_type": "code",
   "execution_count": 1,
   "metadata": {
    "tags": []
   },
   "outputs": [],
   "source": [
    "import cloudscraper\n",
    "import json\n",
    "from bs4 import BeautifulSoup\n",
    "\n",
    "# A yummy webpage (feel free to change to your likings.)\n",
    "URL = \"https://www.acouplecooks.com/spring-vegetarian-spaghetti-carbonara\"\n",
    "\n",
    "# Create a CloudScraper object\n",
    "scraper = cloudscraper.create_scraper()\n",
    "\n",
    "# Use the CloudScraper object to fetch the HTML content\n",
    "response = scraper.get(URL)\n",
    "\n",
    "# Parse the HTML content with BeautifulSoup\n",
    "soup = BeautifulSoup(response.text, 'html.parser')\n",
    "\n",
    "# Now you can work with the 'soup' object as you did before\n",
    "listchildren = list(soup.children)\n",
    "#print(listchildren)\n"
   ]
  },
  {
   "cell_type": "markdown",
   "metadata": {
    "id": "IhdMwqykeMJt"
   },
   "source": [
    "We can find any element in the page through *css tag selectors*\n",
    "You can find them all [here](https://www.w3schools.com/cssref/css_selectors.asp), but shortly these are \".\" for classes, # for ids and plain text for the element name.\n",
    "\n",
    "\n",
    "You can also combine them, so that looking for \".class1.class2\" would select all elements displaying both classes. For a deeper overview please check the above link (or google \"html tag selectors\"). "
   ]
  },
  {
   "cell_type": "code",
   "execution_count": 2,
   "metadata": {
    "tags": []
   },
   "outputs": [
    {
     "name": "stdout",
     "output_type": "stream",
     "text": [
      "2\n",
      "<title>Vegetarian Carbonara – A Couple Cooks</title>\n"
     ]
    }
   ],
   "source": [
    "print(len(listchildren)) # we can see here how many children the html doc has got.\n",
    "title_unparsed = soup.select_one(\"title\")\n",
    "#show the title element\n",
    "print(title_unparsed)"
   ]
  },
  {
   "cell_type": "markdown",
   "metadata": {},
   "source": [
    "Not so pretty.... Use the text method."
   ]
  },
  {
   "cell_type": "code",
   "execution_count": 3,
   "metadata": {
    "tags": []
   },
   "outputs": [
    {
     "name": "stdout",
     "output_type": "stream",
     "text": [
      "Vegetarian Carbonara – A Couple Cooks\n"
     ]
    }
   ],
   "source": [
    "print(title_unparsed.text)"
   ]
  },
  {
   "cell_type": "markdown",
   "metadata": {},
   "source": [
    "The website has a block of JSON-LD data embedded. Try to see if you can find it in the soup object.\n",
    "We can load the JSON-LD script to work with it easier.\n",
    "Lets get a list of the ingredients."
   ]
  },
  {
   "cell_type": "code",
   "execution_count": 4,
   "metadata": {
    "tags": []
   },
   "outputs": [
    {
     "name": "stdout",
     "output_type": "stream",
     "text": [
      "1 pound spaghetti noodles\n",
      "½ cup smoked mozzarella cheese\n",
      "½ cup grated Parmesan cheese, plus more for serving\n",
      "4 egg yolks\n",
      "1 cup frozen Earthbound Farm Organic peas\n",
      "8 cups Earthbound Farm Organic spinach\n",
      "3 tablespoons butter\n",
      "Kosher salt\n",
      "Fresh ground black pepper\n"
     ]
    }
   ],
   "source": [
    "# Find the script tag containing the JSON-LD data\n",
    "json_ld_script = soup.find(\"script\", {\"class\": \"yoast-schema-graph\"})\n",
    "\n",
    "# Extract the content of the script tag\n",
    "script_content = json_ld_script.string\n",
    "\n",
    "# Load the JSON data from the script content\n",
    "data = json.loads(script_content)\n",
    "\n",
    "# Access the \"recipeIngredient\" list\n",
    "recipe_ingredients = data[\"@graph\"][7][\"recipeIngredient\"]\n",
    "\n",
    "# Print the list of ingredients\n",
    "for ingredient in recipe_ingredients:\n",
    "    print(ingredient)"
   ]
  },
  {
   "cell_type": "markdown",
   "metadata": {},
   "source": [
    "Lets also print out the instructions."
   ]
  },
  {
   "cell_type": "code",
   "execution_count": 5,
   "metadata": {
    "tags": []
   },
   "outputs": [
    {
     "name": "stdout",
     "output_type": "stream",
     "text": [
      "In a large pot, combine 6 quarts of water with 2 tablespoons kosher salt and bring it to a boil.\n",
      "Grate the Parmesan and mozzarella cheese. Carefully separate four egg yolks and set aside.\n",
      "Once boiling, add the pasta and cook until the pasta is just about al dente, about 7 minutes; then add peas and spinach and cook for 1 minute. Reserve 1 cup cooking water, and then drain the pasta and vegetables.\n",
      "In a skillet, melt the butter, then stir in the cheeses, ¼ cup pasta water, and ¼ teaspoon kosher salt. Stir in the pasta and vegetables until creamy over low heat, adding more pasta water if necessary (note that the mozzarella will stick together in some places).\n",
      "To serve, top each pasta serving with a whole egg yolk and additional Parmesan cheese, and stir the yolk into the pasta at the table (if you are uncomfortable serving egg yolks at the table, stir the egg yolks into the pasta in the skillet to heat them through). Serve immediately. (Note that the mozzarella cheese can become gummy the longer the pasta sits, so eat immediately if possible. Leftovers can be reheated in a skillet, but may not have the same creamy texture.)\n"
     ]
    }
   ],
   "source": [
    "recipe_instructions= data[\"@graph\"][7][\"recipeInstructions\"]\n",
    "#the instructions list contains dictionaries as elements, take a look at how the list is organized\n",
    "for step in recipe_instructions:\n",
    "    print(step[\"text\"])"
   ]
  },
  {
   "cell_type": "markdown",
   "metadata": {
    "tags": []
   },
   "source": [
    "Websites are going to be structured differently. Look at the following JSON-DL snippet."
   ]
  },
  {
   "cell_type": "code",
   "execution_count": 6,
   "metadata": {
    "tags": []
   },
   "outputs": [],
   "source": [
    "json_example = {\n",
    "    \"title\": \"The anarchist cookbook\",\n",
    "    \"recipeInstructions\": \"<ol class=\\\"recipeSteps\\\"><li>Cook the linguine according to the packet instructions. </li><li>Meanwhile, carefully crack the eggs into a small bowl and beat them with a fork. Season with a little black pepper, then stir in the ricotta finely grate in most of the lemon zest. </li><li>When the pasta has 3 minutes left, add the peas. Reserve a little cooking water, then drain the linguine and peas, and return to the pan. </li><li>Stir in the egg mixture and spinach with a wooden spoon – they'll cook gently in the residual heat. Add a little pasta water to loosen, if needed. </li><li>Share between bowls and serve with a green salad.</li></ol>\",\n",
    "    \"ingredients\": [\"a lot of effort\", \"the right mindset\"]\n",
    "}\n",
    "\n",
    "recipe_instructions = json_example[\"recipeInstructions\"]\n",
    "example_soup = BeautifulSoup(recipe_instructions, 'html.parser')"
   ]
  },
  {
   "cell_type": "code",
   "execution_count": 7,
   "metadata": {
    "tags": []
   },
   "outputs": [
    {
     "name": "stdout",
     "output_type": "stream",
     "text": [
      "['Cook the linguine according to the packet instructions.', 'Meanwhile, carefully crack the eggs into a small bowl and beat them with a fork. Season with a little black pepper, then stir in the ricotta finely grate in most of the lemon zest.', 'When the pasta has 3 minutes left, add the peas. Reserve a little cooking water, then drain the linguine and peas, and return to the pan.', \"Stir in the egg mixture and spinach with a wooden spoon – they'll cook gently in the residual heat. Add a little pasta water to loosen, if needed.\", 'Share between bowls and serve with a green salad.']\n"
     ]
    }
   ],
   "source": [
    "#to get a nice and clean list of the instructions, step by step\n",
    "#we can use the find method to get the first \"ol\" element with attribute \"class..\" and then use find_all to get all list elements in there\n",
    "#then we can strip the list items to obtain the instructions\n",
    "list_items = example_soup.find('ol', class_='recipeSteps').find_all('li')\n",
    "instructions = [item.get_text(strip=True) for item in list_items]\n",
    "print(instructions)"
   ]
  },
  {
   "cell_type": "markdown",
   "metadata": {
    "id": "RYb6WtXYeMJ6"
   },
   "source": [
    "## Task 2.1\n",
    "Now it's your turn. Create a function that can scrape any recipe webpage from the same website (other websites will have different class tags). \n",
    "\n",
    "Make sure to:\n",
    "\n",
    "- return itemized content (e.g. ingredients) in a list. You may want to use a list comprehension here.\n",
    "- Not all items have been cleaned of their html markdown (see variables ```ingredients``` vs. ```instructions_unparsed```. Make sure to return a list with human readable content (i.e. by using the ```.text``` attribute).\n"
   ]
  },
  {
   "cell_type": "code",
   "execution_count": 19,
   "metadata": {
    "tags": []
   },
   "outputs": [
    {
     "name": "stdout",
     "output_type": "stream",
     "text": [
      "{\"@context\":\"https://schema.org\",\"@graph\":[{\"@type\":\"Article\",\"@id\":\"https://www.acouplecooks.com/spring-vegetarian-spaghetti-carbonara/#article\",\"isPartOf\":{\"@id\":\"https://www.acouplecooks.com/spring-vegetarian-spaghetti-carbonara/\"},\"author\":{\"name\":\"Sonja Overhiser\",\"@id\":\"https://www.acouplecooks.com/#/schema/person/d3a3c9869553a70f725f007b4656b09b\"},\"headline\":\"Vegetarian Carbonara\",\"datePublished\":\"2018-04-04T08:00:29+00:00\",\"dateModified\":\"2021-12-05T02:15:20+00:00\",\"wordCount\":804,\"commentCount\":12,\"publisher\":{\"@id\":\"https://www.acouplecooks.com/#organization\"},\"image\":{\"@id\":\"https://www.acouplecooks.com/spring-vegetarian-spaghetti-carbonara/#primaryimage\"},\"thumbnailUrl\":\"https://www.acouplecooks.com/wp-content/uploads/2016/04/Spring-Vegetarian-Carbonara-003.jpg\",\"keywords\":[\"Carbonara\",\"Cheese\",\"Earth\",\"Earth-Saving\",\"Easy\",\"Mediterranean\",\"Mozzarella\",\"Parmesan\",\"Pasta\",\"Peas\",\"Quick\",\"Spaghetti\",\"Spinach\",\"Spring\",\"Vegetarian\",\"Weeknight Meal\"],\"articleSection\":[\"Dinner Recipes\",\"Fast Dinner Ideas\",\"Recipes\"],\"inLanguage\":\"en-US\",\"potentialAction\":[{\"@type\":\"CommentAction\",\"name\":\"Comment\",\"target\":[\"https://www.acouplecooks.com/spring-vegetarian-spaghetti-carbonara/#respond\"]}]},{\"@type\":\"WebPage\",\"@id\":\"https://www.acouplecooks.com/spring-vegetarian-spaghetti-carbonara/\",\"url\":\"https://www.acouplecooks.com/spring-vegetarian-spaghetti-carbonara/\",\"name\":\"Vegetarian Carbonara – A Couple Cooks\",\"isPartOf\":{\"@id\":\"https://www.acouplecooks.com/#website\"},\"primaryImageOfPage\":{\"@id\":\"https://www.acouplecooks.com/spring-vegetarian-spaghetti-carbonara/#primaryimage\"},\"image\":{\"@id\":\"https://www.acouplecooks.com/spring-vegetarian-spaghetti-carbonara/#primaryimage\"},\"thumbnailUrl\":\"https://www.acouplecooks.com/wp-content/uploads/2016/04/Spring-Vegetarian-Carbonara-003.jpg\",\"datePublished\":\"2018-04-04T08:00:29+00:00\",\"dateModified\":\"2021-12-05T02:15:20+00:00\",\"description\":\"This vegetarian carbonara is quick and delicious; an egg yolk is stirred into the pasta to create a sauce, and smoked mozarella is used instead of bacon.\",\"breadcrumb\":{\"@id\":\"https://www.acouplecooks.com/spring-vegetarian-spaghetti-carbonara/#breadcrumb\"},\"inLanguage\":\"en-US\",\"potentialAction\":[{\"@type\":\"ReadAction\",\"target\":[\"https://www.acouplecooks.com/spring-vegetarian-spaghetti-carbonara/\"]}]},{\"@type\":\"ImageObject\",\"inLanguage\":\"en-US\",\"@id\":\"https://www.acouplecooks.com/spring-vegetarian-spaghetti-carbonara/#primaryimage\",\"url\":\"https://www.acouplecooks.com/wp-content/uploads/2016/04/Spring-Vegetarian-Carbonara-003.jpg\",\"contentUrl\":\"https://www.acouplecooks.com/wp-content/uploads/2016/04/Spring-Vegetarian-Carbonara-003.jpg\",\"width\":700,\"height\":875},{\"@type\":\"BreadcrumbList\",\"@id\":\"https://www.acouplecooks.com/spring-vegetarian-spaghetti-carbonara/#breadcrumb\",\"itemListElement\":[{\"@type\":\"ListItem\",\"position\":1,\"name\":\"Home\",\"item\":\"https://www.acouplecooks.com/\"},{\"@type\":\"ListItem\",\"position\":2,\"name\":\"Recipes\",\"item\":\"https://www.acouplecooks.com/category/recipes/\"},{\"@type\":\"ListItem\",\"position\":3,\"name\":\"Fast Dinner Ideas\",\"item\":\"https://www.acouplecooks.com/category/recipes/fast-dinner-ideas/\"},{\"@type\":\"ListItem\",\"position\":4,\"name\":\"Vegetarian Carbonara\"}]},{\"@type\":\"WebSite\",\"@id\":\"https://www.acouplecooks.com/#website\",\"url\":\"https://www.acouplecooks.com/\",\"name\":\"A Couple Cooks\",\"description\":\"Recipes worth repeating.\",\"publisher\":{\"@id\":\"https://www.acouplecooks.com/#organization\"},\"potentialAction\":[{\"@type\":\"SearchAction\",\"target\":{\"@type\":\"EntryPoint\",\"urlTemplate\":\"https://www.acouplecooks.com/?s={search_term_string}\"},\"query-input\":\"required name=search_term_string\"}],\"inLanguage\":\"en-US\"},{\"@type\":\"Organization\",\"@id\":\"https://www.acouplecooks.com/#organization\",\"name\":\"A Couple Cooks\",\"url\":\"https://www.acouplecooks.com/\",\"logo\":{\"@type\":\"ImageObject\",\"inLanguage\":\"en-US\",\"@id\":\"https://www.acouplecooks.com/#/schema/logo/image/\",\"url\":\"https://www.acouplecooks.com/wp-content/uploads/2021/06/social.jpg\",\"contentUrl\":\"https://www.acouplecooks.com/wp-content/uploads/2021/06/social.jpg\",\"width\":1200,\"height\":630,\"caption\":\"A Couple Cooks\"},\"image\":{\"@id\":\"https://www.acouplecooks.com/#/schema/logo/image/\"},\"sameAs\":[\"https://www.facebook.com/groups/193375798111474/\",\"https://twitter.com/acouplecooks\",\"https://www.instagram.com/acouplecooks/\",\"https://www.pinterest.com/acouplecooks/\",\"https://www.youtube.com/aCoupleCooksTV\"]},{\"@type\":\"Person\",\"@id\":\"https://www.acouplecooks.com/#/schema/person/d3a3c9869553a70f725f007b4656b09b\",\"name\":\"Sonja Overhiser\",\"image\":{\"@type\":\"ImageObject\",\"inLanguage\":\"en-US\",\"@id\":\"https://www.acouplecooks.com/#/schema/person/image/\",\"url\":\"https://www.acouplecooks.com/wp-includes/images/blank.gif\",\"contentUrl\":\"https://www.acouplecooks.com/wp-includes/images/blank.gif\",\"caption\":\"Sonja Overhiser\"},\"sameAs\":[\"https://www.facebook.com/aCoupleCooks\"],\"url\":\"https://www.acouplecooks.com/author/skuhnau/\"},{\"@context\":\"https://schema.org/\",\"@type\":\"Recipe\",\"name\":\"Vegetarian Carbonara\",\"description\":\"This vegetarian carbonara is quick and delicious; an egg yolk is stirred into the pasta to create a sauce, and smoked mozarella is used instead of bacon.\",\"author\":{\"@type\":\"Person\",\"name\":\"a Couple Cooks\",\"url\":\"https://www.acouplecooks.com/about/\"},\"keywords\":\"vegetarian carbonara, vegetarian pasta recipe\",\"image\":[\"https://www.acouplecooks.com/wp-content/uploads/2016/04/Spring-Vegetarian-Carbonara-001-225x225.jpg\",\"https://www.acouplecooks.com/wp-content/uploads/2016/04/Spring-Vegetarian-Carbonara-001-260x195.jpg\",\"https://www.acouplecooks.com/wp-content/uploads/2016/04/Spring-Vegetarian-Carbonara-001-320x180.jpg\",\"https://www.acouplecooks.com/wp-content/uploads/2016/04/Spring-Vegetarian-Carbonara-001.jpg\"],\"url\":\"https://www.acouplecooks.com/spring-vegetarian-spaghetti-carbonara/\",\"recipeIngredient\":[\"1 pound spaghetti noodles\",\"½ cup smoked mozzarella cheese\",\"½ cup grated Parmesan cheese, plus more for serving\",\"4 egg yolks\",\"1 cup frozen Earthbound Farm Organic peas\",\"8 cups Earthbound Farm Organic spinach\",\"3 tablespoons butter\",\"Kosher salt\",\"Fresh ground black pepper\"],\"recipeInstructions\":[{\"@type\":\"HowToStep\",\"text\":\"In a large pot, combine 6 quarts of water with 2 tablespoons kosher salt and bring it to a boil.\",\"url\":\"https://www.acouplecooks.com/spring-vegetarian-spaghetti-carbonara/#instruction-step-1\"},{\"@type\":\"HowToStep\",\"text\":\"Grate the Parmesan and mozzarella cheese. Carefully separate four egg yolks and set aside.\",\"url\":\"https://www.acouplecooks.com/spring-vegetarian-spaghetti-carbonara/#instruction-step-2\"},{\"@type\":\"HowToStep\",\"text\":\"Once boiling, add the pasta and cook until the pasta is just about al dente, about 7 minutes; then add peas and spinach and cook for 1 minute. Reserve 1 cup cooking water, and then drain the pasta and vegetables.\",\"url\":\"https://www.acouplecooks.com/spring-vegetarian-spaghetti-carbonara/#instruction-step-3\"},{\"@type\":\"HowToStep\",\"text\":\"In a skillet, melt the butter, then stir in the cheeses, ¼ cup pasta water, and ¼ teaspoon kosher salt. Stir in the pasta and vegetables until creamy over low heat, adding more pasta water if necessary (note that the mozzarella will stick together in some places).\",\"url\":\"https://www.acouplecooks.com/spring-vegetarian-spaghetti-carbonara/#instruction-step-4\"},{\"@type\":\"HowToStep\",\"text\":\"To serve, top each pasta serving with a whole egg yolk and additional Parmesan cheese, and stir the yolk into the pasta at the table (if you are uncomfortable serving egg yolks at the table, stir the egg yolks into the pasta in the skillet to heat them through). Serve immediately. (Note that the mozzarella cheese can become gummy the longer the pasta sits, so eat immediately if possible. Leftovers can be reheated in a skillet, but may not have the same creamy texture.)\",\"url\":\"https://www.acouplecooks.com/spring-vegetarian-spaghetti-carbonara/#instruction-step-5\"}],\"prepTime\":\"PT15M\",\"cookTime\":\"PT10M\",\"totalTime\":\"PT25M\",\"recipeYield\":\"4\",\"recipeCategory\":\"Main Dish\",\"cookingMethod\":\"Stovetop\",\"recipeCuisine\":\"Italian\",\"aggregateRating\":{\"@type\":\"AggregateRating\",\"reviewCount\":\"1\",\"ratingValue\":\"5\"},\"datePublished\":\"2018-04-04\",\"@id\":\"https://www.acouplecooks.com/spring-vegetarian-spaghetti-carbonara/#recipe\",\"isPartOf\":{\"@id\":\"https://www.acouplecooks.com/spring-vegetarian-spaghetti-carbonara/#article\"},\"mainEntityOfPage\":\"https://www.acouplecooks.com/spring-vegetarian-spaghetti-carbonara/\"}]}\n",
      "data: {'@context': 'https://schema.org', '@graph': [{'@type': 'Article', '@id': 'https://www.acouplecooks.com/spring-vegetarian-spaghetti-carbonara/#article', 'isPartOf': {'@id': 'https://www.acouplecooks.com/spring-vegetarian-spaghetti-carbonara/'}, 'author': {'name': 'Sonja Overhiser', '@id': 'https://www.acouplecooks.com/#/schema/person/d3a3c9869553a70f725f007b4656b09b'}, 'headline': 'Vegetarian Carbonara', 'datePublished': '2018-04-04T08:00:29+00:00', 'dateModified': '2021-12-05T02:15:20+00:00', 'wordCount': 804, 'commentCount': 12, 'publisher': {'@id': 'https://www.acouplecooks.com/#organization'}, 'image': {'@id': 'https://www.acouplecooks.com/spring-vegetarian-spaghetti-carbonara/#primaryimage'}, 'thumbnailUrl': 'https://www.acouplecooks.com/wp-content/uploads/2016/04/Spring-Vegetarian-Carbonara-003.jpg', 'keywords': ['Carbonara', 'Cheese', 'Earth', 'Earth-Saving', 'Easy', 'Mediterranean', 'Mozzarella', 'Parmesan', 'Pasta', 'Peas', 'Quick', 'Spaghetti', 'Spinach', 'Spring', 'Vegetarian', 'Weeknight Meal'], 'articleSection': ['Dinner Recipes', 'Fast Dinner Ideas', 'Recipes'], 'inLanguage': 'en-US', 'potentialAction': [{'@type': 'CommentAction', 'name': 'Comment', 'target': ['https://www.acouplecooks.com/spring-vegetarian-spaghetti-carbonara/#respond']}]}, {'@type': 'WebPage', '@id': 'https://www.acouplecooks.com/spring-vegetarian-spaghetti-carbonara/', 'url': 'https://www.acouplecooks.com/spring-vegetarian-spaghetti-carbonara/', 'name': 'Vegetarian Carbonara – A Couple Cooks', 'isPartOf': {'@id': 'https://www.acouplecooks.com/#website'}, 'primaryImageOfPage': {'@id': 'https://www.acouplecooks.com/spring-vegetarian-spaghetti-carbonara/#primaryimage'}, 'image': {'@id': 'https://www.acouplecooks.com/spring-vegetarian-spaghetti-carbonara/#primaryimage'}, 'thumbnailUrl': 'https://www.acouplecooks.com/wp-content/uploads/2016/04/Spring-Vegetarian-Carbonara-003.jpg', 'datePublished': '2018-04-04T08:00:29+00:00', 'dateModified': '2021-12-05T02:15:20+00:00', 'description': 'This vegetarian carbonara is quick and delicious; an egg yolk is stirred into the pasta to create a sauce, and smoked mozarella is used instead of bacon.', 'breadcrumb': {'@id': 'https://www.acouplecooks.com/spring-vegetarian-spaghetti-carbonara/#breadcrumb'}, 'inLanguage': 'en-US', 'potentialAction': [{'@type': 'ReadAction', 'target': ['https://www.acouplecooks.com/spring-vegetarian-spaghetti-carbonara/']}]}, {'@type': 'ImageObject', 'inLanguage': 'en-US', '@id': 'https://www.acouplecooks.com/spring-vegetarian-spaghetti-carbonara/#primaryimage', 'url': 'https://www.acouplecooks.com/wp-content/uploads/2016/04/Spring-Vegetarian-Carbonara-003.jpg', 'contentUrl': 'https://www.acouplecooks.com/wp-content/uploads/2016/04/Spring-Vegetarian-Carbonara-003.jpg', 'width': 700, 'height': 875}, {'@type': 'BreadcrumbList', '@id': 'https://www.acouplecooks.com/spring-vegetarian-spaghetti-carbonara/#breadcrumb', 'itemListElement': [{'@type': 'ListItem', 'position': 1, 'name': 'Home', 'item': 'https://www.acouplecooks.com/'}, {'@type': 'ListItem', 'position': 2, 'name': 'Recipes', 'item': 'https://www.acouplecooks.com/category/recipes/'}, {'@type': 'ListItem', 'position': 3, 'name': 'Fast Dinner Ideas', 'item': 'https://www.acouplecooks.com/category/recipes/fast-dinner-ideas/'}, {'@type': 'ListItem', 'position': 4, 'name': 'Vegetarian Carbonara'}]}, {'@type': 'WebSite', '@id': 'https://www.acouplecooks.com/#website', 'url': 'https://www.acouplecooks.com/', 'name': 'A Couple Cooks', 'description': 'Recipes worth repeating.', 'publisher': {'@id': 'https://www.acouplecooks.com/#organization'}, 'potentialAction': [{'@type': 'SearchAction', 'target': {'@type': 'EntryPoint', 'urlTemplate': 'https://www.acouplecooks.com/?s={search_term_string}'}, 'query-input': 'required name=search_term_string'}], 'inLanguage': 'en-US'}, {'@type': 'Organization', '@id': 'https://www.acouplecooks.com/#organization', 'name': 'A Couple Cooks', 'url': 'https://www.acouplecooks.com/', 'logo': {'@type': 'ImageObject', 'inLanguage': 'en-US', '@id': 'https://www.acouplecooks.com/#/schema/logo/image/', 'url': 'https://www.acouplecooks.com/wp-content/uploads/2021/06/social.jpg', 'contentUrl': 'https://www.acouplecooks.com/wp-content/uploads/2021/06/social.jpg', 'width': 1200, 'height': 630, 'caption': 'A Couple Cooks'}, 'image': {'@id': 'https://www.acouplecooks.com/#/schema/logo/image/'}, 'sameAs': ['https://www.facebook.com/groups/193375798111474/', 'https://twitter.com/acouplecooks', 'https://www.instagram.com/acouplecooks/', 'https://www.pinterest.com/acouplecooks/', 'https://www.youtube.com/aCoupleCooksTV']}, {'@type': 'Person', '@id': 'https://www.acouplecooks.com/#/schema/person/d3a3c9869553a70f725f007b4656b09b', 'name': 'Sonja Overhiser', 'image': {'@type': 'ImageObject', 'inLanguage': 'en-US', '@id': 'https://www.acouplecooks.com/#/schema/person/image/', 'url': 'https://www.acouplecooks.com/wp-includes/images/blank.gif', 'contentUrl': 'https://www.acouplecooks.com/wp-includes/images/blank.gif', 'caption': 'Sonja Overhiser'}, 'sameAs': ['https://www.facebook.com/aCoupleCooks'], 'url': 'https://www.acouplecooks.com/author/skuhnau/'}, {'@context': 'https://schema.org/', '@type': 'Recipe', 'name': 'Vegetarian Carbonara', 'description': 'This vegetarian carbonara is quick and delicious; an egg yolk is stirred into the pasta to create a sauce, and smoked mozarella is used instead of bacon.', 'author': {'@type': 'Person', 'name': 'a Couple Cooks', 'url': 'https://www.acouplecooks.com/about/'}, 'keywords': 'vegetarian carbonara, vegetarian pasta recipe', 'image': ['https://www.acouplecooks.com/wp-content/uploads/2016/04/Spring-Vegetarian-Carbonara-001-225x225.jpg', 'https://www.acouplecooks.com/wp-content/uploads/2016/04/Spring-Vegetarian-Carbonara-001-260x195.jpg', 'https://www.acouplecooks.com/wp-content/uploads/2016/04/Spring-Vegetarian-Carbonara-001-320x180.jpg', 'https://www.acouplecooks.com/wp-content/uploads/2016/04/Spring-Vegetarian-Carbonara-001.jpg'], 'url': 'https://www.acouplecooks.com/spring-vegetarian-spaghetti-carbonara/', 'recipeIngredient': ['1 pound spaghetti noodles', '½ cup smoked mozzarella cheese', '½ cup grated Parmesan cheese, plus more for serving', '4 egg yolks', '1 cup frozen Earthbound Farm Organic peas', '8 cups Earthbound Farm Organic spinach', '3 tablespoons butter', 'Kosher salt', 'Fresh ground black pepper'], 'recipeInstructions': [{'@type': 'HowToStep', 'text': 'In a large pot, combine 6 quarts of water with 2 tablespoons kosher salt and bring it to a boil.', 'url': 'https://www.acouplecooks.com/spring-vegetarian-spaghetti-carbonara/#instruction-step-1'}, {'@type': 'HowToStep', 'text': 'Grate the Parmesan and mozzarella cheese. Carefully separate four egg yolks and set aside.', 'url': 'https://www.acouplecooks.com/spring-vegetarian-spaghetti-carbonara/#instruction-step-2'}, {'@type': 'HowToStep', 'text': 'Once boiling, add the pasta and cook until the pasta is just about al dente, about 7 minutes; then add peas and spinach and cook for 1 minute. Reserve 1 cup cooking water, and then drain the pasta and vegetables.', 'url': 'https://www.acouplecooks.com/spring-vegetarian-spaghetti-carbonara/#instruction-step-3'}, {'@type': 'HowToStep', 'text': 'In a skillet, melt the butter, then stir in the cheeses, ¼ cup pasta water, and ¼ teaspoon kosher salt. Stir in the pasta and vegetables until creamy over low heat, adding more pasta water if necessary (note that the mozzarella will stick together in some places).', 'url': 'https://www.acouplecooks.com/spring-vegetarian-spaghetti-carbonara/#instruction-step-4'}, {'@type': 'HowToStep', 'text': 'To serve, top each pasta serving with a whole egg yolk and additional Parmesan cheese, and stir the yolk into the pasta at the table (if you are uncomfortable serving egg yolks at the table, stir the egg yolks into the pasta in the skillet to heat them through). Serve immediately. (Note that the mozzarella cheese can become gummy the longer the pasta sits, so eat immediately if possible. Leftovers can be reheated in a skillet, but may not have the same creamy texture.)', 'url': 'https://www.acouplecooks.com/spring-vegetarian-spaghetti-carbonara/#instruction-step-5'}], 'prepTime': 'PT15M', 'cookTime': 'PT10M', 'totalTime': 'PT25M', 'recipeYield': '4', 'recipeCategory': 'Main Dish', 'cookingMethod': 'Stovetop', 'recipeCuisine': 'Italian', 'aggregateRating': {'@type': 'AggregateRating', 'reviewCount': '1', 'ratingValue': '5'}, 'datePublished': '2018-04-04', '@id': 'https://www.acouplecooks.com/spring-vegetarian-spaghetti-carbonara/#recipe', 'isPartOf': {'@id': 'https://www.acouplecooks.com/spring-vegetarian-spaghetti-carbonara/#article'}, 'mainEntityOfPage': 'https://www.acouplecooks.com/spring-vegetarian-spaghetti-carbonara/'}]}\n",
      "recipe_ingredients: [{'@type': 'Article', '@id': 'https://www.acouplecooks.com/spring-vegetarian-spaghetti-carbonara/#article', 'isPartOf': {'@id': 'https://www.acouplecooks.com/spring-vegetarian-spaghetti-carbonara/'}, 'author': {'name': 'Sonja Overhiser', '@id': 'https://www.acouplecooks.com/#/schema/person/d3a3c9869553a70f725f007b4656b09b'}, 'headline': 'Vegetarian Carbonara', 'datePublished': '2018-04-04T08:00:29+00:00', 'dateModified': '2021-12-05T02:15:20+00:00', 'wordCount': 804, 'commentCount': 12, 'publisher': {'@id': 'https://www.acouplecooks.com/#organization'}, 'image': {'@id': 'https://www.acouplecooks.com/spring-vegetarian-spaghetti-carbonara/#primaryimage'}, 'thumbnailUrl': 'https://www.acouplecooks.com/wp-content/uploads/2016/04/Spring-Vegetarian-Carbonara-003.jpg', 'keywords': ['Carbonara', 'Cheese', 'Earth', 'Earth-Saving', 'Easy', 'Mediterranean', 'Mozzarella', 'Parmesan', 'Pasta', 'Peas', 'Quick', 'Spaghetti', 'Spinach', 'Spring', 'Vegetarian', 'Weeknight Meal'], 'articleSection': ['Dinner Recipes', 'Fast Dinner Ideas', 'Recipes'], 'inLanguage': 'en-US', 'potentialAction': [{'@type': 'CommentAction', 'name': 'Comment', 'target': ['https://www.acouplecooks.com/spring-vegetarian-spaghetti-carbonara/#respond']}]}, {'@type': 'WebPage', '@id': 'https://www.acouplecooks.com/spring-vegetarian-spaghetti-carbonara/', 'url': 'https://www.acouplecooks.com/spring-vegetarian-spaghetti-carbonara/', 'name': 'Vegetarian Carbonara – A Couple Cooks', 'isPartOf': {'@id': 'https://www.acouplecooks.com/#website'}, 'primaryImageOfPage': {'@id': 'https://www.acouplecooks.com/spring-vegetarian-spaghetti-carbonara/#primaryimage'}, 'image': {'@id': 'https://www.acouplecooks.com/spring-vegetarian-spaghetti-carbonara/#primaryimage'}, 'thumbnailUrl': 'https://www.acouplecooks.com/wp-content/uploads/2016/04/Spring-Vegetarian-Carbonara-003.jpg', 'datePublished': '2018-04-04T08:00:29+00:00', 'dateModified': '2021-12-05T02:15:20+00:00', 'description': 'This vegetarian carbonara is quick and delicious; an egg yolk is stirred into the pasta to create a sauce, and smoked mozarella is used instead of bacon.', 'breadcrumb': {'@id': 'https://www.acouplecooks.com/spring-vegetarian-spaghetti-carbonara/#breadcrumb'}, 'inLanguage': 'en-US', 'potentialAction': [{'@type': 'ReadAction', 'target': ['https://www.acouplecooks.com/spring-vegetarian-spaghetti-carbonara/']}]}, {'@type': 'ImageObject', 'inLanguage': 'en-US', '@id': 'https://www.acouplecooks.com/spring-vegetarian-spaghetti-carbonara/#primaryimage', 'url': 'https://www.acouplecooks.com/wp-content/uploads/2016/04/Spring-Vegetarian-Carbonara-003.jpg', 'contentUrl': 'https://www.acouplecooks.com/wp-content/uploads/2016/04/Spring-Vegetarian-Carbonara-003.jpg', 'width': 700, 'height': 875}, {'@type': 'BreadcrumbList', '@id': 'https://www.acouplecooks.com/spring-vegetarian-spaghetti-carbonara/#breadcrumb', 'itemListElement': [{'@type': 'ListItem', 'position': 1, 'name': 'Home', 'item': 'https://www.acouplecooks.com/'}, {'@type': 'ListItem', 'position': 2, 'name': 'Recipes', 'item': 'https://www.acouplecooks.com/category/recipes/'}, {'@type': 'ListItem', 'position': 3, 'name': 'Fast Dinner Ideas', 'item': 'https://www.acouplecooks.com/category/recipes/fast-dinner-ideas/'}, {'@type': 'ListItem', 'position': 4, 'name': 'Vegetarian Carbonara'}]}, {'@type': 'WebSite', '@id': 'https://www.acouplecooks.com/#website', 'url': 'https://www.acouplecooks.com/', 'name': 'A Couple Cooks', 'description': 'Recipes worth repeating.', 'publisher': {'@id': 'https://www.acouplecooks.com/#organization'}, 'potentialAction': [{'@type': 'SearchAction', 'target': {'@type': 'EntryPoint', 'urlTemplate': 'https://www.acouplecooks.com/?s={search_term_string}'}, 'query-input': 'required name=search_term_string'}], 'inLanguage': 'en-US'}, {'@type': 'Organization', '@id': 'https://www.acouplecooks.com/#organization', 'name': 'A Couple Cooks', 'url': 'https://www.acouplecooks.com/', 'logo': {'@type': 'ImageObject', 'inLanguage': 'en-US', '@id': 'https://www.acouplecooks.com/#/schema/logo/image/', 'url': 'https://www.acouplecooks.com/wp-content/uploads/2021/06/social.jpg', 'contentUrl': 'https://www.acouplecooks.com/wp-content/uploads/2021/06/social.jpg', 'width': 1200, 'height': 630, 'caption': 'A Couple Cooks'}, 'image': {'@id': 'https://www.acouplecooks.com/#/schema/logo/image/'}, 'sameAs': ['https://www.facebook.com/groups/193375798111474/', 'https://twitter.com/acouplecooks', 'https://www.instagram.com/acouplecooks/', 'https://www.pinterest.com/acouplecooks/', 'https://www.youtube.com/aCoupleCooksTV']}, {'@type': 'Person', '@id': 'https://www.acouplecooks.com/#/schema/person/d3a3c9869553a70f725f007b4656b09b', 'name': 'Sonja Overhiser', 'image': {'@type': 'ImageObject', 'inLanguage': 'en-US', '@id': 'https://www.acouplecooks.com/#/schema/person/image/', 'url': 'https://www.acouplecooks.com/wp-includes/images/blank.gif', 'contentUrl': 'https://www.acouplecooks.com/wp-includes/images/blank.gif', 'caption': 'Sonja Overhiser'}, 'sameAs': ['https://www.facebook.com/aCoupleCooks'], 'url': 'https://www.acouplecooks.com/author/skuhnau/'}, {'@context': 'https://schema.org/', '@type': 'Recipe', 'name': 'Vegetarian Carbonara', 'description': 'This vegetarian carbonara is quick and delicious; an egg yolk is stirred into the pasta to create a sauce, and smoked mozarella is used instead of bacon.', 'author': {'@type': 'Person', 'name': 'a Couple Cooks', 'url': 'https://www.acouplecooks.com/about/'}, 'keywords': 'vegetarian carbonara, vegetarian pasta recipe', 'image': ['https://www.acouplecooks.com/wp-content/uploads/2016/04/Spring-Vegetarian-Carbonara-001-225x225.jpg', 'https://www.acouplecooks.com/wp-content/uploads/2016/04/Spring-Vegetarian-Carbonara-001-260x195.jpg', 'https://www.acouplecooks.com/wp-content/uploads/2016/04/Spring-Vegetarian-Carbonara-001-320x180.jpg', 'https://www.acouplecooks.com/wp-content/uploads/2016/04/Spring-Vegetarian-Carbonara-001.jpg'], 'url': 'https://www.acouplecooks.com/spring-vegetarian-spaghetti-carbonara/', 'recipeIngredient': ['1 pound spaghetti noodles', '½ cup smoked mozzarella cheese', '½ cup grated Parmesan cheese, plus more for serving', '4 egg yolks', '1 cup frozen Earthbound Farm Organic peas', '8 cups Earthbound Farm Organic spinach', '3 tablespoons butter', 'Kosher salt', 'Fresh ground black pepper'], 'recipeInstructions': [{'@type': 'HowToStep', 'text': 'In a large pot, combine 6 quarts of water with 2 tablespoons kosher salt and bring it to a boil.', 'url': 'https://www.acouplecooks.com/spring-vegetarian-spaghetti-carbonara/#instruction-step-1'}, {'@type': 'HowToStep', 'text': 'Grate the Parmesan and mozzarella cheese. Carefully separate four egg yolks and set aside.', 'url': 'https://www.acouplecooks.com/spring-vegetarian-spaghetti-carbonara/#instruction-step-2'}, {'@type': 'HowToStep', 'text': 'Once boiling, add the pasta and cook until the pasta is just about al dente, about 7 minutes; then add peas and spinach and cook for 1 minute. Reserve 1 cup cooking water, and then drain the pasta and vegetables.', 'url': 'https://www.acouplecooks.com/spring-vegetarian-spaghetti-carbonara/#instruction-step-3'}, {'@type': 'HowToStep', 'text': 'In a skillet, melt the butter, then stir in the cheeses, ¼ cup pasta water, and ¼ teaspoon kosher salt. Stir in the pasta and vegetables until creamy over low heat, adding more pasta water if necessary (note that the mozzarella will stick together in some places).', 'url': 'https://www.acouplecooks.com/spring-vegetarian-spaghetti-carbonara/#instruction-step-4'}, {'@type': 'HowToStep', 'text': 'To serve, top each pasta serving with a whole egg yolk and additional Parmesan cheese, and stir the yolk into the pasta at the table (if you are uncomfortable serving egg yolks at the table, stir the egg yolks into the pasta in the skillet to heat them through). Serve immediately. (Note that the mozzarella cheese can become gummy the longer the pasta sits, so eat immediately if possible. Leftovers can be reheated in a skillet, but may not have the same creamy texture.)', 'url': 'https://www.acouplecooks.com/spring-vegetarian-spaghetti-carbonara/#instruction-step-5'}], 'prepTime': 'PT15M', 'cookTime': 'PT10M', 'totalTime': 'PT25M', 'recipeYield': '4', 'recipeCategory': 'Main Dish', 'cookingMethod': 'Stovetop', 'recipeCuisine': 'Italian', 'aggregateRating': {'@type': 'AggregateRating', 'reviewCount': '1', 'ratingValue': '5'}, 'datePublished': '2018-04-04', '@id': 'https://www.acouplecooks.com/spring-vegetarian-spaghetti-carbonara/#recipe', 'isPartOf': {'@id': 'https://www.acouplecooks.com/spring-vegetarian-spaghetti-carbonara/#article'}, 'mainEntityOfPage': 'https://www.acouplecooks.com/spring-vegetarian-spaghetti-carbonara/'}]\n",
      "{'name': 'Vegetarian Carbonara – A Couple Cooks', 'ingredients': [{'@type': 'Article', '@id': 'https://www.acouplecooks.com/spring-vegetarian-spaghetti-carbonara/#article', 'isPartOf': {'@id': 'https://www.acouplecooks.com/spring-vegetarian-spaghetti-carbonara/'}, 'author': {'name': 'Sonja Overhiser', '@id': 'https://www.acouplecooks.com/#/schema/person/d3a3c9869553a70f725f007b4656b09b'}, 'headline': 'Vegetarian Carbonara', 'datePublished': '2018-04-04T08:00:29+00:00', 'dateModified': '2021-12-05T02:15:20+00:00', 'wordCount': 804, 'commentCount': 12, 'publisher': {'@id': 'https://www.acouplecooks.com/#organization'}, 'image': {'@id': 'https://www.acouplecooks.com/spring-vegetarian-spaghetti-carbonara/#primaryimage'}, 'thumbnailUrl': 'https://www.acouplecooks.com/wp-content/uploads/2016/04/Spring-Vegetarian-Carbonara-003.jpg', 'keywords': ['Carbonara', 'Cheese', 'Earth', 'Earth-Saving', 'Easy', 'Mediterranean', 'Mozzarella', 'Parmesan', 'Pasta', 'Peas', 'Quick', 'Spaghetti', 'Spinach', 'Spring', 'Vegetarian', 'Weeknight Meal'], 'articleSection': ['Dinner Recipes', 'Fast Dinner Ideas', 'Recipes'], 'inLanguage': 'en-US', 'potentialAction': [{'@type': 'CommentAction', 'name': 'Comment', 'target': ['https://www.acouplecooks.com/spring-vegetarian-spaghetti-carbonara/#respond']}]}, {'@type': 'WebPage', '@id': 'https://www.acouplecooks.com/spring-vegetarian-spaghetti-carbonara/', 'url': 'https://www.acouplecooks.com/spring-vegetarian-spaghetti-carbonara/', 'name': 'Vegetarian Carbonara – A Couple Cooks', 'isPartOf': {'@id': 'https://www.acouplecooks.com/#website'}, 'primaryImageOfPage': {'@id': 'https://www.acouplecooks.com/spring-vegetarian-spaghetti-carbonara/#primaryimage'}, 'image': {'@id': 'https://www.acouplecooks.com/spring-vegetarian-spaghetti-carbonara/#primaryimage'}, 'thumbnailUrl': 'https://www.acouplecooks.com/wp-content/uploads/2016/04/Spring-Vegetarian-Carbonara-003.jpg', 'datePublished': '2018-04-04T08:00:29+00:00', 'dateModified': '2021-12-05T02:15:20+00:00', 'description': 'This vegetarian carbonara is quick and delicious; an egg yolk is stirred into the pasta to create a sauce, and smoked mozarella is used instead of bacon.', 'breadcrumb': {'@id': 'https://www.acouplecooks.com/spring-vegetarian-spaghetti-carbonara/#breadcrumb'}, 'inLanguage': 'en-US', 'potentialAction': [{'@type': 'ReadAction', 'target': ['https://www.acouplecooks.com/spring-vegetarian-spaghetti-carbonara/']}]}, {'@type': 'ImageObject', 'inLanguage': 'en-US', '@id': 'https://www.acouplecooks.com/spring-vegetarian-spaghetti-carbonara/#primaryimage', 'url': 'https://www.acouplecooks.com/wp-content/uploads/2016/04/Spring-Vegetarian-Carbonara-003.jpg', 'contentUrl': 'https://www.acouplecooks.com/wp-content/uploads/2016/04/Spring-Vegetarian-Carbonara-003.jpg', 'width': 700, 'height': 875}, {'@type': 'BreadcrumbList', '@id': 'https://www.acouplecooks.com/spring-vegetarian-spaghetti-carbonara/#breadcrumb', 'itemListElement': [{'@type': 'ListItem', 'position': 1, 'name': 'Home', 'item': 'https://www.acouplecooks.com/'}, {'@type': 'ListItem', 'position': 2, 'name': 'Recipes', 'item': 'https://www.acouplecooks.com/category/recipes/'}, {'@type': 'ListItem', 'position': 3, 'name': 'Fast Dinner Ideas', 'item': 'https://www.acouplecooks.com/category/recipes/fast-dinner-ideas/'}, {'@type': 'ListItem', 'position': 4, 'name': 'Vegetarian Carbonara'}]}, {'@type': 'WebSite', '@id': 'https://www.acouplecooks.com/#website', 'url': 'https://www.acouplecooks.com/', 'name': 'A Couple Cooks', 'description': 'Recipes worth repeating.', 'publisher': {'@id': 'https://www.acouplecooks.com/#organization'}, 'potentialAction': [{'@type': 'SearchAction', 'target': {'@type': 'EntryPoint', 'urlTemplate': 'https://www.acouplecooks.com/?s={search_term_string}'}, 'query-input': 'required name=search_term_string'}], 'inLanguage': 'en-US'}, {'@type': 'Organization', '@id': 'https://www.acouplecooks.com/#organization', 'name': 'A Couple Cooks', 'url': 'https://www.acouplecooks.com/', 'logo': {'@type': 'ImageObject', 'inLanguage': 'en-US', '@id': 'https://www.acouplecooks.com/#/schema/logo/image/', 'url': 'https://www.acouplecooks.com/wp-content/uploads/2021/06/social.jpg', 'contentUrl': 'https://www.acouplecooks.com/wp-content/uploads/2021/06/social.jpg', 'width': 1200, 'height': 630, 'caption': 'A Couple Cooks'}, 'image': {'@id': 'https://www.acouplecooks.com/#/schema/logo/image/'}, 'sameAs': ['https://www.facebook.com/groups/193375798111474/', 'https://twitter.com/acouplecooks', 'https://www.instagram.com/acouplecooks/', 'https://www.pinterest.com/acouplecooks/', 'https://www.youtube.com/aCoupleCooksTV']}, {'@type': 'Person', '@id': 'https://www.acouplecooks.com/#/schema/person/d3a3c9869553a70f725f007b4656b09b', 'name': 'Sonja Overhiser', 'image': {'@type': 'ImageObject', 'inLanguage': 'en-US', '@id': 'https://www.acouplecooks.com/#/schema/person/image/', 'url': 'https://www.acouplecooks.com/wp-includes/images/blank.gif', 'contentUrl': 'https://www.acouplecooks.com/wp-includes/images/blank.gif', 'caption': 'Sonja Overhiser'}, 'sameAs': ['https://www.facebook.com/aCoupleCooks'], 'url': 'https://www.acouplecooks.com/author/skuhnau/'}, {'@context': 'https://schema.org/', '@type': 'Recipe', 'name': 'Vegetarian Carbonara', 'description': 'This vegetarian carbonara is quick and delicious; an egg yolk is stirred into the pasta to create a sauce, and smoked mozarella is used instead of bacon.', 'author': {'@type': 'Person', 'name': 'a Couple Cooks', 'url': 'https://www.acouplecooks.com/about/'}, 'keywords': 'vegetarian carbonara, vegetarian pasta recipe', 'image': ['https://www.acouplecooks.com/wp-content/uploads/2016/04/Spring-Vegetarian-Carbonara-001-225x225.jpg', 'https://www.acouplecooks.com/wp-content/uploads/2016/04/Spring-Vegetarian-Carbonara-001-260x195.jpg', 'https://www.acouplecooks.com/wp-content/uploads/2016/04/Spring-Vegetarian-Carbonara-001-320x180.jpg', 'https://www.acouplecooks.com/wp-content/uploads/2016/04/Spring-Vegetarian-Carbonara-001.jpg'], 'url': 'https://www.acouplecooks.com/spring-vegetarian-spaghetti-carbonara/', 'recipeIngredient': ['1 pound spaghetti noodles', '½ cup smoked mozzarella cheese', '½ cup grated Parmesan cheese, plus more for serving', '4 egg yolks', '1 cup frozen Earthbound Farm Organic peas', '8 cups Earthbound Farm Organic spinach', '3 tablespoons butter', 'Kosher salt', 'Fresh ground black pepper'], 'recipeInstructions': [{'@type': 'HowToStep', 'text': 'In a large pot, combine 6 quarts of water with 2 tablespoons kosher salt and bring it to a boil.', 'url': 'https://www.acouplecooks.com/spring-vegetarian-spaghetti-carbonara/#instruction-step-1'}, {'@type': 'HowToStep', 'text': 'Grate the Parmesan and mozzarella cheese. Carefully separate four egg yolks and set aside.', 'url': 'https://www.acouplecooks.com/spring-vegetarian-spaghetti-carbonara/#instruction-step-2'}, {'@type': 'HowToStep', 'text': 'Once boiling, add the pasta and cook until the pasta is just about al dente, about 7 minutes; then add peas and spinach and cook for 1 minute. Reserve 1 cup cooking water, and then drain the pasta and vegetables.', 'url': 'https://www.acouplecooks.com/spring-vegetarian-spaghetti-carbonara/#instruction-step-3'}, {'@type': 'HowToStep', 'text': 'In a skillet, melt the butter, then stir in the cheeses, ¼ cup pasta water, and ¼ teaspoon kosher salt. Stir in the pasta and vegetables until creamy over low heat, adding more pasta water if necessary (note that the mozzarella will stick together in some places).', 'url': 'https://www.acouplecooks.com/spring-vegetarian-spaghetti-carbonara/#instruction-step-4'}, {'@type': 'HowToStep', 'text': 'To serve, top each pasta serving with a whole egg yolk and additional Parmesan cheese, and stir the yolk into the pasta at the table (if you are uncomfortable serving egg yolks at the table, stir the egg yolks into the pasta in the skillet to heat them through). Serve immediately. (Note that the mozzarella cheese can become gummy the longer the pasta sits, so eat immediately if possible. Leftovers can be reheated in a skillet, but may not have the same creamy texture.)', 'url': 'https://www.acouplecooks.com/spring-vegetarian-spaghetti-carbonara/#instruction-step-5'}], 'prepTime': 'PT15M', 'cookTime': 'PT10M', 'totalTime': 'PT25M', 'recipeYield': '4', 'recipeCategory': 'Main Dish', 'cookingMethod': 'Stovetop', 'recipeCuisine': 'Italian', 'aggregateRating': {'@type': 'AggregateRating', 'reviewCount': '1', 'ratingValue': '5'}, 'datePublished': '2018-04-04', '@id': 'https://www.acouplecooks.com/spring-vegetarian-spaghetti-carbonara/#recipe', 'isPartOf': {'@id': 'https://www.acouplecooks.com/spring-vegetarian-spaghetti-carbonara/#article'}, 'mainEntityOfPage': 'https://www.acouplecooks.com/spring-vegetarian-spaghetti-carbonara/'}], 'instructions': ['In a large pot, combine 6 quarts of water with 2 tablespoons kosher salt and bring it to a boil.', 'Grate the Parmesan and mozzarella cheese. Carefully separate four egg yolks and set aside.', 'Once boiling, add the pasta and cook until the pasta is just about al dente, about 7 minutes; then add peas and spinach and cook for 1 minute. Reserve 1 cup cooking water, and then drain the pasta and vegetables.', 'In a skillet, melt the butter, then stir in the cheeses, ¼ cup pasta water, and ¼ teaspoon kosher salt. Stir in the pasta and vegetables until creamy over low heat, adding more pasta water if necessary (note that the mozzarella will stick together in some places).', 'To serve, top each pasta serving with a whole egg yolk and additional Parmesan cheese, and stir the yolk into the pasta at the table (if you are uncomfortable serving egg yolks at the table, stir the egg yolks into the pasta in the skillet to heat them through). Serve immediately. (Note that the mozzarella cheese can become gummy the longer the pasta sits, so eat immediately if possible. Leftovers can be reheated in a skillet, but may not have the same creamy texture.)']}\n"
     ]
    }
   ],
   "source": [
    "#Here you can see the solution for our example website\n",
    "\n",
    "URL = \"https://www.acouplecooks.com/spring-vegetarian-spaghetti-carbonara\"\n",
    "\n",
    "def parse_website(url):\n",
    "    # Create a CloudScraper object\n",
    "    scraper = cloudscraper.create_scraper()\n",
    "\n",
    "    # Use the CloudScraper object to fetch the HTML content\n",
    "    response = scraper.get(URL)\n",
    "\n",
    "    # Parse the HTML content with BeautifulSoup\n",
    "    soup = BeautifulSoup(response.text, 'html.parser')\n",
    "    \n",
    "    #Get the title\n",
    "    title_unparsed = soup.select_one(\"title\")\n",
    "    fn = title_unparsed.text\n",
    "    \n",
    "    json_ld_script = soup.find(\"script\", {'type':'application/ld+json'})\n",
    "\n",
    "    # Extract the content of the script tag\n",
    "    script_content = json_ld_script.string\n",
    "    print(script_content)\n",
    "\n",
    "    # Load the JSON data from the script content\n",
    "    data = json.loads(script_content)\n",
    "    print(\"data:\", data)\n",
    "\n",
    "    # Access the \"recipeIngredient\" list\n",
    "    recipe_ingredients = data[\"@graph\"]\n",
    "    print(\"recipe_ingredients:\", recipe_ingredients)\n",
    "    \n",
    "    ingredients = [ingredient for ingredient in recipe_ingredients]\n",
    "    \n",
    "    #Access the instructions\n",
    "    recipe_instructions= data[\"@graph\"][7][\"recipeInstructions\"]\n",
    "    #the instructions list contains dictionaries as elements, take a look at how the list is organized\n",
    "    instructions = [step[\"text\"] for step in recipe_instructions]\n",
    "\n",
    "    return {'name': fn,\n",
    "            'ingredients': ingredients,\n",
    "            'instructions': instructions,\n",
    "            }\n",
    "    \n",
    "recipe = parse_website(URL)\n",
    "print (recipe)\n",
    "        "
   ]
  },
  {
   "cell_type": "code",
   "execution_count": 22,
   "metadata": {
    "colab": {
     "base_uri": "https://localhost:8080/",
     "height": 54
    },
    "id": "UQu9ecLEeMJ6",
    "outputId": "a8aa0e14-a8fb-4279-cf32-8dca97ab3412"
   },
   "outputs": [
    {
     "name": "stdout",
     "output_type": "stream",
     "text": [
      "Vegetarian carbonara recipe | Jamie Oliver pasta recipes\n"
     ]
    },
    {
     "ename": "AttributeError",
     "evalue": "'NoneType' object has no attribute 'string'",
     "output_type": "error",
     "traceback": [
      "\u001b[1;31m---------------------------------------------------------------------------\u001b[0m",
      "\u001b[1;31mAttributeError\u001b[0m                            Traceback (most recent call last)",
      "\u001b[1;32mc:\\Users\\radua\\VU_Ams\\MSc\\Y2\\P2\\SW\\vu_social_web_course\\notebooks\\SW_Ass2_wo.ipynb Cell 25\u001b[0m line \u001b[0;36m5\n\u001b[0;32m     <a href='vscode-notebook-cell:/c%3A/Users/radua/VU_Ams/MSc/Y2/P2/SW/vu_social_web_course/notebooks/SW_Ass2_wo.ipynb#X33sZmlsZQ%3D%3D?line=46'>47</a>\u001b[0m     instructions \u001b[39m=\u001b[39m [step[\u001b[39m\"\u001b[39m\u001b[39mtext\u001b[39m\u001b[39m\"\u001b[39m] \u001b[39mfor\u001b[39;00m step \u001b[39min\u001b[39;00m recipe_instructions]\n\u001b[0;32m     <a href='vscode-notebook-cell:/c%3A/Users/radua/VU_Ams/MSc/Y2/P2/SW/vu_social_web_course/notebooks/SW_Ass2_wo.ipynb#X33sZmlsZQ%3D%3D?line=48'>49</a>\u001b[0m     \u001b[39mreturn\u001b[39;00m {\n\u001b[0;32m     <a href='vscode-notebook-cell:/c%3A/Users/radua/VU_Ams/MSc/Y2/P2/SW/vu_social_web_course/notebooks/SW_Ass2_wo.ipynb#X33sZmlsZQ%3D%3D?line=49'>50</a>\u001b[0m             \u001b[39m'\u001b[39m\u001b[39mname\u001b[39m\u001b[39m'\u001b[39m: fn,\n\u001b[0;32m     <a href='vscode-notebook-cell:/c%3A/Users/radua/VU_Ams/MSc/Y2/P2/SW/vu_social_web_course/notebooks/SW_Ass2_wo.ipynb#X33sZmlsZQ%3D%3D?line=50'>51</a>\u001b[0m             \u001b[39m'\u001b[39m\u001b[39mingredients\u001b[39m\u001b[39m'\u001b[39m: ingredients,\n\u001b[0;32m     <a href='vscode-notebook-cell:/c%3A/Users/radua/VU_Ams/MSc/Y2/P2/SW/vu_social_web_course/notebooks/SW_Ass2_wo.ipynb#X33sZmlsZQ%3D%3D?line=51'>52</a>\u001b[0m             \u001b[39m'\u001b[39m\u001b[39minstructions\u001b[39m\u001b[39m'\u001b[39m: instructions,\n\u001b[0;32m     <a href='vscode-notebook-cell:/c%3A/Users/radua/VU_Ams/MSc/Y2/P2/SW/vu_social_web_course/notebooks/SW_Ass2_wo.ipynb#X33sZmlsZQ%3D%3D?line=52'>53</a>\u001b[0m             }\n\u001b[1;32m---> <a href='vscode-notebook-cell:/c%3A/Users/radua/VU_Ams/MSc/Y2/P2/SW/vu_social_web_course/notebooks/SW_Ass2_wo.ipynb#X33sZmlsZQ%3D%3D?line=54'>55</a>\u001b[0m recipe \u001b[39m=\u001b[39m parse_website(URL)\n\u001b[0;32m     <a href='vscode-notebook-cell:/c%3A/Users/radua/VU_Ams/MSc/Y2/P2/SW/vu_social_web_course/notebooks/SW_Ass2_wo.ipynb#X33sZmlsZQ%3D%3D?line=55'>56</a>\u001b[0m \u001b[39mprint\u001b[39m (recipe)\n",
      "\u001b[1;32mc:\\Users\\radua\\VU_Ams\\MSc\\Y2\\P2\\SW\\vu_social_web_course\\notebooks\\SW_Ass2_wo.ipynb Cell 25\u001b[0m line \u001b[0;36m3\n\u001b[0;32m     <a href='vscode-notebook-cell:/c%3A/Users/radua/VU_Ams/MSc/Y2/P2/SW/vu_social_web_course/notebooks/SW_Ass2_wo.ipynb#X33sZmlsZQ%3D%3D?line=30'>31</a>\u001b[0m json_ld_script \u001b[39m=\u001b[39m soup\u001b[39m.\u001b[39mfind(\u001b[39m\"\u001b[39m\u001b[39mscript\u001b[39m\u001b[39m\"\u001b[39m, {\u001b[39m\"\u001b[39m\u001b[39mclass\u001b[39m\u001b[39m\"\u001b[39m: \u001b[39m\"\u001b[39m\u001b[39myoast-schema-graph\u001b[39m\u001b[39m\"\u001b[39m})\n\u001b[0;32m     <a href='vscode-notebook-cell:/c%3A/Users/radua/VU_Ams/MSc/Y2/P2/SW/vu_social_web_course/notebooks/SW_Ass2_wo.ipynb#X33sZmlsZQ%3D%3D?line=32'>33</a>\u001b[0m \u001b[39m# Extract the content of the script tag\u001b[39;00m\n\u001b[1;32m---> <a href='vscode-notebook-cell:/c%3A/Users/radua/VU_Ams/MSc/Y2/P2/SW/vu_social_web_course/notebooks/SW_Ass2_wo.ipynb#X33sZmlsZQ%3D%3D?line=33'>34</a>\u001b[0m script_content \u001b[39m=\u001b[39m json_ld_script\u001b[39m.\u001b[39;49mstring\n\u001b[0;32m     <a href='vscode-notebook-cell:/c%3A/Users/radua/VU_Ams/MSc/Y2/P2/SW/vu_social_web_course/notebooks/SW_Ass2_wo.ipynb#X33sZmlsZQ%3D%3D?line=35'>36</a>\u001b[0m \u001b[39m# Load the JSON data from the script content\u001b[39;00m\n\u001b[0;32m     <a href='vscode-notebook-cell:/c%3A/Users/radua/VU_Ams/MSc/Y2/P2/SW/vu_social_web_course/notebooks/SW_Ass2_wo.ipynb#X33sZmlsZQ%3D%3D?line=36'>37</a>\u001b[0m data \u001b[39m=\u001b[39m json\u001b[39m.\u001b[39mloads(script_content)\n",
      "\u001b[1;31mAttributeError\u001b[0m: 'NoneType' object has no attribute 'string'"
     ]
    }
   ],
   "source": [
    "# -*- coding: utf-8 -*-\n",
    "\n",
    "import cloudscraper\n",
    "import json\n",
    "from bs4 import BeautifulSoup\n",
    "\n",
    "# Pass in a URL containing hRecipe, such as\n",
    "# https://www.jamieoliver.com/recipes/pasta-recipes/veggie-carbonara/\n",
    "\n",
    "URL = \"https://www.jamieoliver.com/recipes/pasta-recipes/veggie-carbonara/\"\n",
    "\n",
    "# Parse out some of the pertinent information for a recipe.\n",
    "# See http://microformats.org/wiki/hrecipe.\n",
    "\n",
    "#Solution for jamie oliver\n",
    "def parse_website(url):\n",
    "    # Create a CloudScraper object\n",
    "    scraper = cloudscraper.create_scraper()\n",
    "\n",
    "    # Use the CloudScraper object to fetch the HTML content\n",
    "    response = scraper.get(url)\n",
    "\n",
    "    # Parse the HTML content with BeautifulSoup\n",
    "    soup = BeautifulSoup(response.text, 'html.parser')\n",
    "    \n",
    "    #Get the title\n",
    "    title_unparsed = soup.select_one(\"title\")\n",
    "    fn = title_unparsed.text\n",
    "    print(fn)\n",
    "    \n",
    "    json_ld_script = soup.find(\"script\", {\"class\": \"yoast-schema-graph\"})\n",
    "\n",
    "    # Extract the content of the script tag\n",
    "    script_content = json_ld_script.string\n",
    "\n",
    "    # Load the JSON data from the script content\n",
    "    data = json.loads(script_content)\n",
    "\n",
    "    # Access the \"recipeIngredient\" list\n",
    "    recipe_ingredients = data[\"@graph\"]\n",
    "    \n",
    "    ingredients = [ingredient for ingredient in recipe_ingredients]\n",
    "    \n",
    "    #Access the instructions\n",
    "    recipe_instructions= data[\"@graph\"][7][\"recipeInstructions\"]\n",
    "    #the instructions list contains dictionaries as elements, take a look at how the list is organized\n",
    "    instructions = [step[\"text\"] for step in recipe_instructions]\n",
    "\n",
    "    return {\n",
    "            'name': fn,\n",
    "            'ingredients': ingredients,\n",
    "            'instructions': instructions,\n",
    "            }\n",
    "    \n",
    "recipe = parse_website(URL)\n",
    "print (recipe)"
   ]
  },
  {
   "cell_type": "markdown",
   "metadata": {
    "id": "ccURluAIeMJ8"
   },
   "source": [
    "But How can we get information not only from one website,  but from all? \n",
    "\n",
    "The answer: microformats.\n",
    "\n",
    "But rather than extracting with information manually from the schema.org or hRecipe microformats, we can use a package, ```scrape-schema-recipe``` \n",
    "\n",
    "Feel free to experiment with it. "
   ]
  },
  {
   "cell_type": "markdown",
   "metadata": {
    "id": "EBY-y_GreMJ8"
   },
   "source": [
    "### Task 2.2\n",
    "hRecipe is a microformat specifically created for recipes.\n",
    "Can you for example easily compare different dessert recipe ingredients? For inspiration you can look back at the exercises you did in Hands-on session 1 where you compared different sets of tweets."
   ]
  },
  {
   "cell_type": "code",
   "execution_count": null,
   "metadata": {
    "tags": []
   },
   "outputs": [],
   "source": [
    "import  scrape_schema_recipe"
   ]
  },
  {
   "cell_type": "markdown",
   "metadata": {
    "id": "n-J8fiLbeMJ9"
   },
   "source": [
    "## Exercise 3"
   ]
  },
  {
   "cell_type": "markdown",
   "metadata": {
    "id": "7XBeqJHVeMJ9"
   },
   "source": [
    "Schema.org is one of the most widely used annotations formats. Schema.org is a multipurpose  template that has been created by a consortium consisting of Yahoo!, Google and Microsoft. It can describe entities, events, products etc. Check out the vocabulary specs on Schema.org."
   ]
  },
  {
   "cell_type": "markdown",
   "metadata": {
    "id": "fiw8JClyeMJ-"
   },
   "source": [
    "### Task 3\n",
    "\n",
    "Parsing schema.org microdata. To parse this data you need to install the rdflib-microdata package, which you have done in one of the previous steps.\n",
    "\n"
   ]
  },
  {
   "cell_type": "code",
   "execution_count": null,
   "metadata": {
    "colab": {
     "base_uri": "https://localhost:8080/",
     "height": 153
    },
    "id": "X2zr3fOOeMJ-",
    "outputId": "d123f981-d73f-470f-b5e9-8735819f894b"
   },
   "outputs": [],
   "source": [
    "from rdflib import Graph\n",
    "\n",
    "# Source: https://www.youtube.com/watch?v=sCU214rbRZ0\n",
    "# Pass in a URL containing Schema.org microformats\n",
    "URL = \"http://dbpedia.org/resource/Micheal_Jackson\"\n",
    "\n",
    "# Initialize a graph\n",
    "g = Graph()\n",
    "\n",
    "# Parse in an RDF file graph dbpedia\n",
    "result = g.parse(location=URL)\n",
    "\n",
    "# Loop through first 10 triples in the graph\n",
    "for index, (sub, pred, obj) in enumerate(g):\n",
    "    print(sub, pred, obj)\n",
    "    if index == 10:\n",
    "        break"
   ]
  },
  {
   "cell_type": "code",
   "execution_count": null,
   "metadata": {
    "colab": {
     "base_uri": "https://localhost:8080/",
     "height": 34
    },
    "id": "hrQ2EuY5JAn1",
    "outputId": "eba60ebb-7ac5-4451-c16e-3f68e66af7f3"
   },
   "outputs": [],
   "source": [
    "# Print the size of the Graph\n",
    "print(f'Graph has {len(g)} facts')"
   ]
  },
  {
   "cell_type": "code",
   "execution_count": null,
   "metadata": {
    "colab": {
     "base_uri": "https://localhost:8080/",
     "height": 323
    },
    "id": "IAO1JllwJMqO",
    "outputId": "08f5e32d-d1a6-4a30-878a-ce7b768a8811"
   },
   "outputs": [],
   "source": [
    "# Print out the entire Graph in the RDF Turtle format\n",
    "print(g.serialize(format='ttl'))"
   ]
  },
  {
   "cell_type": "markdown",
   "metadata": {
    "id": "dzbynasAeMKA"
   },
   "source": [
    "### Task 3.1 \n",
    "Compare the schema.org information about a band on last.fm to the Facebook Open Graph information about the same band from Facebook. What are the differences? Which format do you think supports better interoperability?"
   ]
  },
  {
   "cell_type": "markdown",
   "metadata": {
    "id": "Nocs4YDPeMKB"
   },
   "source": [
    "### Task 3.2\n",
    "Explore the various microformats at http://microformats.org/ and compare the output of the exercises with the output of http://microformats.org/. Think about possible microformats you want to support in your final assignment and read up on how to parse them."
   ]
  }
 ],
 "metadata": {
  "colab": {
   "collapsed_sections": [],
   "name": "Hands-on_2_microformats.ipynb",
   "provenance": [],
   "toc_visible": true
  },
  "kernelspec": {
   "display_name": "Python 3 (ipykernel)",
   "language": "python",
   "name": "python3"
  },
  "language_info": {
   "codemirror_mode": {
    "name": "ipython",
    "version": 3
   },
   "file_extension": ".py",
   "mimetype": "text/x-python",
   "name": "python",
   "nbconvert_exporter": "python",
   "pygments_lexer": "ipython3",
   "version": "3.11.5"
  }
 },
 "nbformat": 4,
 "nbformat_minor": 4
}

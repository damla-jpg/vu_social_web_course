{
 "cells": [
  {
   "attachments": {},
   "cell_type": "markdown",
   "metadata": {
    "id": "dcMf4aubeMI9"
   },
   "source": [
    "*****************************************************************\n",
    "#  The Social Web: data representation\n",
    "- Instructors: Davide Ceolin, Emma Beauxis-Aussalet.\n",
    "- TAs: Zubaria Inayat, Maxim Sergeev, Zhuofan Mei, Alexander Schmatz, Ling Jin.\n",
    "- Exercises for Hands-on session 2\n",
    "*****************************************************************"
   ]
  },
  {
   "attachments": {},
   "cell_type": "markdown",
   "metadata": {
    "id": "Zhts5HMzeMI-"
   },
   "source": [
    "In this session you are going to mine data in various microformats. You will see the differences in what each of the formats can contain and what purpose they serve. We will start by looking at geographical data.\n",
    "\n",
    "Prerequisites:\n",
    "- Python 3.8\n",
    "- Python packages: requests, BeautifulSoup4, HTMLParser, rdflib\n"
   ]
  },
  {
   "cell_type": "code",
   "execution_count": 2,
   "metadata": {
    "colab": {
     "base_uri": "https://localhost:8080/",
     "height": 204
    },
    "id": "6f-OtFPPeMJA",
    "outputId": "9bcb836f-4204-4fac-d133-99e81a0b2884"
   },
   "outputs": [
    {
     "name": "stdout",
     "output_type": "stream",
     "text": [
      "Requirement already satisfied: requests in /usr/local/lib/python3.11/site-packages (2.31.0)\n",
      "Requirement already satisfied: charset-normalizer<4,>=2 in /usr/local/lib/python3.11/site-packages (from requests) (3.3.2)\n",
      "Requirement already satisfied: idna<4,>=2.5 in /usr/local/lib/python3.11/site-packages (from requests) (3.4)\n",
      "Requirement already satisfied: urllib3<3,>=1.21.1 in /usr/local/lib/python3.11/site-packages (from requests) (2.0.7)\n",
      "Requirement already satisfied: certifi>=2017.4.17 in /usr/local/lib/python3.11/site-packages (from requests) (2023.7.22)\n",
      "\n",
      "\u001b[1m[\u001b[0m\u001b[34;49mnotice\u001b[0m\u001b[1;39;49m]\u001b[0m\u001b[39;49m A new release of pip is available: \u001b[0m\u001b[31;49m23.2.1\u001b[0m\u001b[39;49m -> \u001b[0m\u001b[32;49m23.3.1\u001b[0m\n",
      "\u001b[1m[\u001b[0m\u001b[34;49mnotice\u001b[0m\u001b[1;39;49m]\u001b[0m\u001b[39;49m To update, run: \u001b[0m\u001b[32;49mpython3.11 -m pip install --upgrade pip\u001b[0m\n",
      "Requirement already satisfied: BeautifulSoup4 in /usr/local/lib/python3.11/site-packages (4.12.2)\n",
      "Requirement already satisfied: soupsieve>1.2 in /usr/local/lib/python3.11/site-packages (from BeautifulSoup4) (2.5)\n",
      "\n",
      "\u001b[1m[\u001b[0m\u001b[34;49mnotice\u001b[0m\u001b[1;39;49m]\u001b[0m\u001b[39;49m A new release of pip is available: \u001b[0m\u001b[31;49m23.2.1\u001b[0m\u001b[39;49m -> \u001b[0m\u001b[32;49m23.3.1\u001b[0m\n",
      "\u001b[1m[\u001b[0m\u001b[34;49mnotice\u001b[0m\u001b[1;39;49m]\u001b[0m\u001b[39;49m To update, run: \u001b[0m\u001b[32;49mpython3.11 -m pip install --upgrade pip\u001b[0m\n",
      "Requirement already satisfied: HTMLParser in /usr/local/lib/python3.11/site-packages (0.0.2)\n",
      "\n",
      "\u001b[1m[\u001b[0m\u001b[34;49mnotice\u001b[0m\u001b[1;39;49m]\u001b[0m\u001b[39;49m A new release of pip is available: \u001b[0m\u001b[31;49m23.2.1\u001b[0m\u001b[39;49m -> \u001b[0m\u001b[32;49m23.3.1\u001b[0m\n",
      "\u001b[1m[\u001b[0m\u001b[34;49mnotice\u001b[0m\u001b[1;39;49m]\u001b[0m\u001b[39;49m To update, run: \u001b[0m\u001b[32;49mpython3.11 -m pip install --upgrade pip\u001b[0m\n",
      "Requirement already satisfied: rdflib in /usr/local/lib/python3.11/site-packages (7.0.0)\n",
      "Requirement already satisfied: isodate<0.7.0,>=0.6.0 in /usr/local/lib/python3.11/site-packages (from rdflib) (0.6.1)\n",
      "Requirement already satisfied: pyparsing<4,>=2.1.0 in /usr/local/lib/python3.11/site-packages (from rdflib) (3.0.9)\n",
      "Requirement already satisfied: six in /Users/damlaural/Library/Python/3.11/lib/python/site-packages (from isodate<0.7.0,>=0.6.0->rdflib) (1.16.0)\n",
      "\n",
      "\u001b[1m[\u001b[0m\u001b[34;49mnotice\u001b[0m\u001b[1;39;49m]\u001b[0m\u001b[39;49m A new release of pip is available: \u001b[0m\u001b[31;49m23.2.1\u001b[0m\u001b[39;49m -> \u001b[0m\u001b[32;49m23.3.1\u001b[0m\n",
      "\u001b[1m[\u001b[0m\u001b[34;49mnotice\u001b[0m\u001b[1;39;49m]\u001b[0m\u001b[39;49m To update, run: \u001b[0m\u001b[32;49mpython3.11 -m pip install --upgrade pip\u001b[0m\n",
      "Requirement already satisfied: cloudscraper in /usr/local/lib/python3.11/site-packages (1.2.71)\n",
      "Requirement already satisfied: pyparsing>=2.4.7 in /usr/local/lib/python3.11/site-packages (from cloudscraper) (3.0.9)\n",
      "Requirement already satisfied: requests>=2.9.2 in /usr/local/lib/python3.11/site-packages (from cloudscraper) (2.31.0)\n",
      "Requirement already satisfied: requests-toolbelt>=0.9.1 in /usr/local/lib/python3.11/site-packages (from cloudscraper) (1.0.0)\n",
      "Requirement already satisfied: charset-normalizer<4,>=2 in /usr/local/lib/python3.11/site-packages (from requests>=2.9.2->cloudscraper) (3.3.2)\n",
      "Requirement already satisfied: idna<4,>=2.5 in /usr/local/lib/python3.11/site-packages (from requests>=2.9.2->cloudscraper) (3.4)\n",
      "Requirement already satisfied: urllib3<3,>=1.21.1 in /usr/local/lib/python3.11/site-packages (from requests>=2.9.2->cloudscraper) (2.0.7)\n",
      "Requirement already satisfied: certifi>=2017.4.17 in /usr/local/lib/python3.11/site-packages (from requests>=2.9.2->cloudscraper) (2023.7.22)\n",
      "\n",
      "\u001b[1m[\u001b[0m\u001b[34;49mnotice\u001b[0m\u001b[1;39;49m]\u001b[0m\u001b[39;49m A new release of pip is available: \u001b[0m\u001b[31;49m23.2.1\u001b[0m\u001b[39;49m -> \u001b[0m\u001b[32;49m23.3.1\u001b[0m\n",
      "\u001b[1m[\u001b[0m\u001b[34;49mnotice\u001b[0m\u001b[1;39;49m]\u001b[0m\u001b[39;49m To update, run: \u001b[0m\u001b[32;49mpython3.11 -m pip install --upgrade pip\u001b[0m\n"
     ]
    }
   ],
   "source": [
    "# If you're using a virtualenv, make sure it's activated before running\n",
    "# this cell!\n",
    "!pip install requests\n",
    "!pip install BeautifulSoup4\n",
    "!pip install HTMLParser\n",
    "!pip install rdflib\n",
    "!pip install cloudscraper"
   ]
  },
  {
   "attachments": {},
   "cell_type": "markdown",
   "metadata": {
    "id": "irPnmIK4eMJd"
   },
   "source": [
    "##  Exercise 1\n",
    "\n",
    "Even if web pages do not use microformat, interesting data can often be extracted from the HTML. You may use packages such as BeautifulSoup to extract arbitrary pieces of data from any HTML page.\n",
    "The example below shows how we can find the URL of first image in the infobox table of the wikipedia page on Amsterdam. Tip: compare the code below with HTML source code of the wikipedia page: the image url is in the \"src\" attribute of the \"img\" element of in the \"table\" element with class=\"infobox\"."
   ]
  },
  {
   "cell_type": "code",
   "execution_count": 3,
   "metadata": {
    "colab": {
     "base_uri": "https://localhost:8080/",
     "height": 34
    },
    "id": "9gpHw90keMJf",
    "outputId": "7ae1fe64-8d85-4a47-cfdf-422284954d81"
   },
   "outputs": [
    {
     "name": "stdout",
     "output_type": "stream",
     "text": [
      "//upload.wikimedia.org/wikipedia/commons/thumb/5/57/Imagen_de_los_canales_conc%C3%A9ntricos_en_%C3%81msterdam.png/268px-Imagen_de_los_canales_conc%C3%A9ntricos_en_%C3%81msterdam.png\n"
     ]
    }
   ],
   "source": [
    "# -*- coding: utf-8 -*-\n",
    "\n",
    "import requests\n",
    "from bs4 import BeautifulSoup\n",
    "\n",
    "# This script requires you to add a url of a page with geotags to the commandline, e.g.\n",
    "# python geo.py 'http://en.wikipedia.org/wiki/Amsterdam'\n",
    "URL = 'https://en.wikipedia.org/wiki/Amsterdam'\n",
    "\n",
    "req = requests.get(URL, headers={'User-Agent' : \"Social Web Course Student\"})\n",
    "soup = BeautifulSoup(req.text)\n",
    "# print(req.text)\n",
    "image1 = soup.findAll('table', class_='infobox')[0].find('img')\n",
    "print(image1['src'])  "
   ]
  },
  {
   "attachments": {},
   "cell_type": "markdown",
   "metadata": {},
   "source": [
    "Extracting coordinates from a webpage and reformatting them in the geo microformat (based on Example 8-1 in Mining the Social Web). Note that wikipages may encode long/lat information in different ways. On of the ways used by the Amsterdam wikipedia page is in a span element that is not shown to the user: \n",
    "<span class=\"geo\">52.367; 4.900</span>\n",
    "This span element has a single child: len(geoTag == 1) and no further structure, we have to manually get the long/lat by splitting the string on the ';' semicolon."
   ]
  },
  {
   "cell_type": "code",
   "execution_count": 4,
   "metadata": {
    "colab": {
     "base_uri": "https://localhost:8080/",
     "height": 34
    },
    "id": "LtHtQT9PeMJl",
    "outputId": "8a7f7b52-cdb2-409f-b3f0-ee7adf60a9f7"
   },
   "outputs": [
    {
     "name": "stdout",
     "output_type": "stream",
     "text": [
      "<span class=\"geo\">52.37278; 4.89361</span>\n",
      "Location is at 52.37278 4.89361\n"
     ]
    }
   ],
   "source": [
    "\n",
    "geoTag = soup.find(True, 'geo')\n",
    "print(geoTag)\n",
    "\n",
    "if geoTag and len(geoTag) > 1:\n",
    "        lat = geoTag.find(True, 'latitude').string\n",
    "        lon = geoTag.find(True, 'longitude').string\n",
    "        print ('Location is at'), lat, lon\n",
    "elif geoTag and len(geoTag) == 1:\n",
    "        (lat, lon) = geoTag.string.split(';')\n",
    "        (lat, lon) = (lat.strip(), lon.strip())\n",
    "        print (('Location is at'), lat, lon)\n",
    "else:\n",
    "        print ('Location not found')\n"
   ]
  },
  {
   "attachments": {},
   "cell_type": "markdown",
   "metadata": {
    "id": "8S_bXnjveMJp"
   },
   "source": [
    "### Task 1\n",
    "\n",
    "Can you convert the output of Exercise 1 into KML? Here is the KML documentation: https://developers.google.com/kml/documentation/?csw=1 and here you can find a simple example of how it is used: https://renenyffenegger.ch/notes/tools/Google-Earth/kml/index\n",
    "\n",
    "Visualise the point in Google Maps using the following code example: https://developers.google.com/maps/documentation/javascript/examples/layer-kml-features\n",
    "You will have to create your own KML file for the custom map layer, and provide a URL to the KML file inside the JavaScript code, which means that you have to upload the file somewhere. You can use a service like http://pastebin.com/ to obtain a URL for your KML file —> paste the code there and request the RAW format URL; use this one in this Task1. If it fails to work you can also use KML viewer websites like https://kmzview.com/.\n",
    "\n",
    "Is KML a microformat, why (not)?"
   ]
  },
  {
   "cell_type": "code",
   "execution_count": 5,
   "metadata": {},
   "outputs": [
    {
     "name": "stdout",
     "output_type": "stream",
     "text": [
      "Requirement already satisfied: lxml in /usr/local/lib/python3.11/site-packages (4.9.3)\n",
      "\n",
      "\u001b[1m[\u001b[0m\u001b[34;49mnotice\u001b[0m\u001b[1;39;49m]\u001b[0m\u001b[39;49m A new release of pip is available: \u001b[0m\u001b[31;49m23.2.1\u001b[0m\u001b[39;49m -> \u001b[0m\u001b[32;49m23.3.1\u001b[0m\n",
      "\u001b[1m[\u001b[0m\u001b[34;49mnotice\u001b[0m\u001b[1;39;49m]\u001b[0m\u001b[39;49m To update, run: \u001b[0m\u001b[32;49mpython3.11 -m pip install --upgrade pip\u001b[0m\n"
     ]
    }
   ],
   "source": [
    "!pip3 install lxml"
   ]
  },
  {
   "cell_type": "code",
   "execution_count": 6,
   "metadata": {},
   "outputs": [
    {
     "name": "stdout",
     "output_type": "stream",
     "text": [
      "<?xml version=\"1.0\" encoding=\"utf-8\"?>\n",
      "<kml xmlns=\"http://www.opengis.net/kml/2.2\">\n",
      " <Placemark>\n",
      "  <name>\n",
      "   Our New Social Web Placemark\n",
      "  </name>\n",
      "  <description>\n",
      "   Oh look it works!\n",
      "  </description>\n",
      "  <Point>\n",
      "   <coordinates>\n",
      "    4.89361, 52.37278, 0\n",
      "   </coordinates>\n",
      "  </Point>\n",
      " </Placemark>\n",
      "</kml>\n",
      "\n"
     ]
    }
   ],
   "source": [
    "KML_FILENAME = \"./A2_Task1_KML.kml\"\n",
    "\n",
    "task1_soup = BeautifulSoup('<?xml version=\"1.0\" encoding=\"UTF-8\"?><kml xmlns=\"http://www.opengis.net/kml/2.2\"></kml>' ,features='xml')\n",
    "\n",
    "task1_soup.find('kml').append(task1_soup.new_tag(\"Placemark\"))\n",
    "\n",
    "# Make name tag\n",
    "task1_soup.find(\"Placemark\").append(task1_soup.new_tag(\"name\"))\n",
    "task1_soup.find(\"name\").append(task1_soup.new_string(\"Our New Social Web Placemark\"))\n",
    "\n",
    "# Make description\n",
    "task1_soup.find(\"Placemark\").append(task1_soup.new_tag(\"description\"))\n",
    "task1_soup.find(\"description\").append(task1_soup.new_string(\"Oh look it works!\"))\n",
    "\n",
    "# Make point\n",
    "task1_soup.find(\"Placemark\").append(task1_soup.new_tag(\"Point\"))\n",
    "\n",
    "# Put coordinates in point\n",
    "task1_soup.find(\"Point\").append(task1_soup.new_tag(\"coordinates\"))\n",
    "task1_soup.find(\"coordinates\").append(task1_soup.new_string(f'{lon}, {lat}, 0'))\n",
    "\n",
    "print(task1_soup.prettify())\n",
    "with open(KML_FILENAME, \"w\") as f:\n",
    "    f.write(task1_soup.prettify())\n",
    "    "
   ]
  },
  {
   "cell_type": "markdown",
   "metadata": {},
   "source": [
    "KLM is not a microformat. Microformats are a set of simple open data format standards of HTML created to serve as metadata about an element, while KLM is simply a XML-based standard to display geographic data in an Earth browser, independent of HTML documents. Moreover, microformats use a HTML tags and attributes, while KLM uses its own defined tags and structure."
   ]
  },
  {
   "attachments": {},
   "cell_type": "markdown",
   "metadata": {
    "id": "kUnka7EyeMJp"
   },
   "source": [
    "## Exercise 2 \n",
    "In order to find information in the web we can use microformats such as [hRecipe](https://microformats.org/wiki/hrecipe) or Schema.org's [Recipe](https://schema.org/Recipe). But first, we'll show you how to find arbitrary tags in a webpage.\n"
   ]
  },
  {
   "attachments": {},
   "cell_type": "markdown",
   "metadata": {
    "id": "b0pBs-PVeMJq"
   },
   "source": [
    "### Task 2 \n",
    "Parsing data for a <sub><sup>veggie</sup></sub> spaghetti alla carbonara recipe (from Example 2-7 in Mining the Social Web)."
   ]
  },
  {
   "cell_type": "code",
   "execution_count": 7,
   "metadata": {
    "tags": []
   },
   "outputs": [],
   "source": [
    "import cloudscraper\n",
    "import json\n",
    "from bs4 import BeautifulSoup\n",
    "\n",
    "# A yummy webpage (feel free to change to your likings.)\n",
    "URL = \"https://www.acouplecooks.com/spring-vegetarian-spaghetti-carbonara\"\n",
    "\n",
    "# Create a CloudScraper object\n",
    "scraper = cloudscraper.create_scraper()\n",
    "\n",
    "# Use the CloudScraper object to fetch the HTML content\n",
    "response = scraper.get(URL)\n",
    "\n",
    "# Parse the HTML content with BeautifulSoup\n",
    "soup = BeautifulSoup(response.text, 'html.parser')\n",
    "\n",
    "# Now you can work with the 'soup' object as you did before\n",
    "listchildren = list(soup.children)\n",
    "#print(listchildren)\n"
   ]
  },
  {
   "attachments": {},
   "cell_type": "markdown",
   "metadata": {
    "id": "IhdMwqykeMJt"
   },
   "source": [
    "We can find any element in the page through *css tag selectors*\n",
    "You can find them all [here](https://www.w3schools.com/cssref/css_selectors.asp), but shortly these are \".\" for classes, # for ids and plain text for the element name.\n",
    "\n",
    "\n",
    "You can also combine them, so that looking for \".class1.class2\" would select all elements displaying both classes. For a deeper overview please check the above link (or google \"html tag selectors\"). "
   ]
  },
  {
   "cell_type": "code",
   "execution_count": 8,
   "metadata": {
    "tags": []
   },
   "outputs": [
    {
     "name": "stdout",
     "output_type": "stream",
     "text": [
      "2\n",
      "<title>Vegetarian Carbonara – A Couple Cooks</title>\n"
     ]
    }
   ],
   "source": [
    "print(len(listchildren)) # we can see here how many children the html doc has got.\n",
    "title_unparsed = soup.select_one(\"title\")\n",
    "#show the title element\n",
    "print(title_unparsed)"
   ]
  },
  {
   "attachments": {},
   "cell_type": "markdown",
   "metadata": {},
   "source": [
    "Not so pretty.... Use the text method."
   ]
  },
  {
   "cell_type": "code",
   "execution_count": 9,
   "metadata": {
    "tags": []
   },
   "outputs": [
    {
     "name": "stdout",
     "output_type": "stream",
     "text": [
      "Vegetarian Carbonara – A Couple Cooks\n"
     ]
    }
   ],
   "source": [
    "print(title_unparsed.text)"
   ]
  },
  {
   "attachments": {},
   "cell_type": "markdown",
   "metadata": {},
   "source": [
    "The website has a block of JSON-LD data embedded. Try to see if you can find it in the soup object.\n",
    "We can load the JSON-LD script to work with it easier.\n",
    "Lets get a list of the ingredients."
   ]
  },
  {
   "cell_type": "code",
   "execution_count": 10,
   "metadata": {
    "tags": []
   },
   "outputs": [
    {
     "name": "stdout",
     "output_type": "stream",
     "text": [
      "1 pound spaghetti noodles\n",
      "½ cup smoked mozzarella cheese\n",
      "½ cup grated Parmesan cheese, plus more for serving\n",
      "4 egg yolks\n",
      "1 cup frozen Earthbound Farm Organic peas\n",
      "8 cups Earthbound Farm Organic spinach\n",
      "3 tablespoons butter\n",
      "Kosher salt\n",
      "Fresh ground black pepper\n"
     ]
    }
   ],
   "source": [
    "# Find the script tag containing the JSON-LD data\n",
    "json_ld_script = soup.find(\"script\", {\"class\": \"yoast-schema-graph\"})\n",
    "\n",
    "# Extract the content of the script tag\n",
    "script_content = json_ld_script.string\n",
    "\n",
    "# Load the JSON data from the script content\n",
    "data = json.loads(script_content)\n",
    "\n",
    "# Access the \"recipeIngredient\" list\n",
    "recipe_ingredients = data[\"@graph\"][7][\"recipeIngredient\"]\n",
    "\n",
    "# Print the list of ingredients\n",
    "for ingredient in recipe_ingredients:\n",
    "    print(ingredient)"
   ]
  },
  {
   "attachments": {},
   "cell_type": "markdown",
   "metadata": {},
   "source": [
    "Lets also print out the instructions."
   ]
  },
  {
   "cell_type": "code",
   "execution_count": 11,
   "metadata": {
    "tags": []
   },
   "outputs": [
    {
     "name": "stdout",
     "output_type": "stream",
     "text": [
      "In a large pot, combine 6 quarts of water with 2 tablespoons kosher salt and bring it to a boil.\n",
      "Grate the Parmesan and mozzarella cheese. Carefully separate four egg yolks and set aside.\n",
      "Once boiling, add the pasta and cook until the pasta is just about al dente, about 7 minutes; then add peas and spinach and cook for 1 minute. Reserve 1 cup cooking water, and then drain the pasta and vegetables.\n",
      "In a skillet, melt the butter, then stir in the cheeses, ¼ cup pasta water, and ¼ teaspoon kosher salt. Stir in the pasta and vegetables until creamy over low heat, adding more pasta water if necessary (note that the mozzarella will stick together in some places).\n",
      "To serve, top each pasta serving with a whole egg yolk and additional Parmesan cheese, and stir the yolk into the pasta at the table (if you are uncomfortable serving egg yolks at the table, stir the egg yolks into the pasta in the skillet to heat them through). Serve immediately. (Note that the mozzarella cheese can become gummy the longer the pasta sits, so eat immediately if possible. Leftovers can be reheated in a skillet, but may not have the same creamy texture.)\n"
     ]
    }
   ],
   "source": [
    "recipe_instructions= data[\"@graph\"][7][\"recipeInstructions\"]\n",
    "#the instructions list contains dictionaries as elements, take a look at how the list is organized\n",
    "for step in recipe_instructions:\n",
    "    print(step[\"text\"])"
   ]
  },
  {
   "attachments": {},
   "cell_type": "markdown",
   "metadata": {
    "tags": []
   },
   "source": [
    "Websites are going to be structured differently. Look at the following JSON-DL snippet."
   ]
  },
  {
   "cell_type": "code",
   "execution_count": 12,
   "metadata": {
    "tags": []
   },
   "outputs": [],
   "source": [
    "json_example = {\n",
    "    \"title\": \"The anarchist cookbook\",\n",
    "    \"recipeInstructions\": \"<ol class=\\\"recipeSteps\\\"><li>Cook the linguine according to the packet instructions. </li><li>Meanwhile, carefully crack the eggs into a small bowl and beat them with a fork. Season with a little black pepper, then stir in the ricotta finely grate in most of the lemon zest. </li><li>When the pasta has 3 minutes left, add the peas. Reserve a little cooking water, then drain the linguine and peas, and return to the pan. </li><li>Stir in the egg mixture and spinach with a wooden spoon – they'll cook gently in the residual heat. Add a little pasta water to loosen, if needed. </li><li>Share between bowls and serve with a green salad.</li></ol>\",\n",
    "    \"ingredients\": [\"a lot of effort\", \"the right mindset\"]\n",
    "}\n",
    "\n",
    "recipe_instructions = json_example[\"recipeInstructions\"]\n",
    "example_soup = BeautifulSoup(recipe_instructions, 'html.parser')"
   ]
  },
  {
   "cell_type": "code",
   "execution_count": 13,
   "metadata": {
    "tags": []
   },
   "outputs": [
    {
     "name": "stdout",
     "output_type": "stream",
     "text": [
      "['Cook the linguine according to the packet instructions.', 'Meanwhile, carefully crack the eggs into a small bowl and beat them with a fork. Season with a little black pepper, then stir in the ricotta finely grate in most of the lemon zest.', 'When the pasta has 3 minutes left, add the peas. Reserve a little cooking water, then drain the linguine and peas, and return to the pan.', \"Stir in the egg mixture and spinach with a wooden spoon – they'll cook gently in the residual heat. Add a little pasta water to loosen, if needed.\", 'Share between bowls and serve with a green salad.']\n"
     ]
    }
   ],
   "source": [
    "#to get a nice and clean list of the instructions, step by step\n",
    "#we can use the find method to get the first \"ol\" element with attribute \"class..\" and then use find_all to get all list elements in there\n",
    "#then we can strip the list items to obtain the instructions\n",
    "list_items = example_soup.find('ol', class_='recipeSteps').find_all('li')\n",
    "instructions = [item.get_text(strip=True) for item in list_items]\n",
    "print(instructions)"
   ]
  },
  {
   "attachments": {},
   "cell_type": "markdown",
   "metadata": {
    "id": "RYb6WtXYeMJ6"
   },
   "source": [
    "## Task 2.1\n",
    "Now it's your turn. Create a function that can scrape any recipe webpage from the same website (other websites will have different class tags). \n",
    "\n",
    "Make sure to:\n",
    "\n",
    "- return itemized content (e.g. ingredients) in a list. You may want to use a list comprehension here.\n",
    "- Not all items have been cleaned of their html markdown (see variables ```ingredients``` vs. ```instructions_unparsed```. Make sure to return a list with human readable content (i.e. by using the ```.text``` attribute).\n"
   ]
  },
  {
   "cell_type": "code",
   "execution_count": 27,
   "metadata": {
    "tags": []
   },
   "outputs": [
    {
     "name": "stdout",
     "output_type": "stream",
     "text": [
      "{\n",
      "  \"name\": \"Vegetarian Carbonara \\u2013 A Couple Cooks\",\n",
      "  \"ingredients\": [\n",
      "    {\n",
      "      \"@type\": \"Article\",\n",
      "      \"@id\": \"https://www.acouplecooks.com/spring-vegetarian-spaghetti-carbonara/#article\",\n",
      "      \"isPartOf\": {\n",
      "        \"@id\": \"https://www.acouplecooks.com/spring-vegetarian-spaghetti-carbonara/\"\n",
      "      },\n",
      "      \"author\": {\n",
      "        \"name\": \"Sonja Overhiser\",\n",
      "        \"@id\": \"https://www.acouplecooks.com/#/schema/person/d3a3c9869553a70f725f007b4656b09b\"\n",
      "      },\n",
      "      \"headline\": \"Vegetarian Carbonara\",\n",
      "      \"datePublished\": \"2018-04-04T08:00:29+00:00\",\n",
      "      \"dateModified\": \"2021-12-05T02:15:20+00:00\",\n",
      "      \"wordCount\": 804,\n",
      "      \"commentCount\": 12,\n",
      "      \"publisher\": {\n",
      "        \"@id\": \"https://www.acouplecooks.com/#organization\"\n",
      "      },\n",
      "      \"image\": {\n",
      "        \"@id\": \"https://www.acouplecooks.com/spring-vegetarian-spaghetti-carbonara/#primaryimage\"\n",
      "      },\n",
      "      \"thumbnailUrl\": \"https://www.acouplecooks.com/wp-content/uploads/2016/04/Spring-Vegetarian-Carbonara-003.jpg\",\n",
      "      \"keywords\": [\n",
      "        \"Carbonara\",\n",
      "        \"Cheese\",\n",
      "        \"Earth\",\n",
      "        \"Earth-Saving\",\n",
      "        \"Easy\",\n",
      "        \"Mediterranean\",\n",
      "        \"Mozzarella\",\n",
      "        \"Parmesan\",\n",
      "        \"Pasta\",\n",
      "        \"Peas\",\n",
      "        \"Quick\",\n",
      "        \"Spaghetti\",\n",
      "        \"Spinach\",\n",
      "        \"Spring\",\n",
      "        \"Vegetarian Recipes\",\n",
      "        \"Weeknight Meal\"\n",
      "      ],\n",
      "      \"articleSection\": [\n",
      "        \"Dinner Recipes\",\n",
      "        \"Fast Dinner Ideas\",\n",
      "        \"Recipes\"\n",
      "      ],\n",
      "      \"inLanguage\": \"en-US\",\n",
      "      \"potentialAction\": [\n",
      "        {\n",
      "          \"@type\": \"CommentAction\",\n",
      "          \"name\": \"Comment\",\n",
      "          \"target\": [\n",
      "            \"https://www.acouplecooks.com/spring-vegetarian-spaghetti-carbonara/#respond\"\n",
      "          ]\n",
      "        }\n",
      "      ]\n",
      "    },\n",
      "    {\n",
      "      \"@type\": \"WebPage\",\n",
      "      \"@id\": \"https://www.acouplecooks.com/spring-vegetarian-spaghetti-carbonara/\",\n",
      "      \"url\": \"https://www.acouplecooks.com/spring-vegetarian-spaghetti-carbonara/\",\n",
      "      \"name\": \"Vegetarian Carbonara \\u2013 A Couple Cooks\",\n",
      "      \"isPartOf\": {\n",
      "        \"@id\": \"https://www.acouplecooks.com/#website\"\n",
      "      },\n",
      "      \"primaryImageOfPage\": {\n",
      "        \"@id\": \"https://www.acouplecooks.com/spring-vegetarian-spaghetti-carbonara/#primaryimage\"\n",
      "      },\n",
      "      \"image\": {\n",
      "        \"@id\": \"https://www.acouplecooks.com/spring-vegetarian-spaghetti-carbonara/#primaryimage\"\n",
      "      },\n",
      "      \"thumbnailUrl\": \"https://www.acouplecooks.com/wp-content/uploads/2016/04/Spring-Vegetarian-Carbonara-003.jpg\",\n",
      "      \"datePublished\": \"2018-04-04T08:00:29+00:00\",\n",
      "      \"dateModified\": \"2021-12-05T02:15:20+00:00\",\n",
      "      \"description\": \"This vegetarian carbonara is quick and delicious; an egg yolk is stirred into the pasta to create a sauce, and smoked mozarella is used instead of bacon.\",\n",
      "      \"breadcrumb\": {\n",
      "        \"@id\": \"https://www.acouplecooks.com/spring-vegetarian-spaghetti-carbonara/#breadcrumb\"\n",
      "      },\n",
      "      \"inLanguage\": \"en-US\",\n",
      "      \"potentialAction\": [\n",
      "        {\n",
      "          \"@type\": \"ReadAction\",\n",
      "          \"target\": [\n",
      "            \"https://www.acouplecooks.com/spring-vegetarian-spaghetti-carbonara/\"\n",
      "          ]\n",
      "        }\n",
      "      ]\n",
      "    },\n",
      "    {\n",
      "      \"@type\": \"ImageObject\",\n",
      "      \"inLanguage\": \"en-US\",\n",
      "      \"@id\": \"https://www.acouplecooks.com/spring-vegetarian-spaghetti-carbonara/#primaryimage\",\n",
      "      \"url\": \"https://www.acouplecooks.com/wp-content/uploads/2016/04/Spring-Vegetarian-Carbonara-003.jpg\",\n",
      "      \"contentUrl\": \"https://www.acouplecooks.com/wp-content/uploads/2016/04/Spring-Vegetarian-Carbonara-003.jpg\",\n",
      "      \"width\": 700,\n",
      "      \"height\": 875\n",
      "    },\n",
      "    {\n",
      "      \"@type\": \"BreadcrumbList\",\n",
      "      \"@id\": \"https://www.acouplecooks.com/spring-vegetarian-spaghetti-carbonara/#breadcrumb\",\n",
      "      \"itemListElement\": [\n",
      "        {\n",
      "          \"@type\": \"ListItem\",\n",
      "          \"position\": 1,\n",
      "          \"name\": \"Home\",\n",
      "          \"item\": \"https://www.acouplecooks.com/\"\n",
      "        },\n",
      "        {\n",
      "          \"@type\": \"ListItem\",\n",
      "          \"position\": 2,\n",
      "          \"name\": \"Recipes\",\n",
      "          \"item\": \"https://www.acouplecooks.com/category/recipes/\"\n",
      "        },\n",
      "        {\n",
      "          \"@type\": \"ListItem\",\n",
      "          \"position\": 3,\n",
      "          \"name\": \"Fast Dinner Ideas\",\n",
      "          \"item\": \"https://www.acouplecooks.com/category/recipes/fast-dinner-ideas/\"\n",
      "        },\n",
      "        {\n",
      "          \"@type\": \"ListItem\",\n",
      "          \"position\": 4,\n",
      "          \"name\": \"Vegetarian Carbonara\"\n",
      "        }\n",
      "      ]\n",
      "    },\n",
      "    {\n",
      "      \"@type\": \"WebSite\",\n",
      "      \"@id\": \"https://www.acouplecooks.com/#website\",\n",
      "      \"url\": \"https://www.acouplecooks.com/\",\n",
      "      \"name\": \"A Couple Cooks\",\n",
      "      \"description\": \"Recipes worth repeating.\",\n",
      "      \"publisher\": {\n",
      "        \"@id\": \"https://www.acouplecooks.com/#organization\"\n",
      "      },\n",
      "      \"potentialAction\": [\n",
      "        {\n",
      "          \"@type\": \"SearchAction\",\n",
      "          \"target\": {\n",
      "            \"@type\": \"EntryPoint\",\n",
      "            \"urlTemplate\": \"https://www.acouplecooks.com/?s={search_term_string}\"\n",
      "          },\n",
      "          \"query-input\": \"required name=search_term_string\"\n",
      "        }\n",
      "      ],\n",
      "      \"inLanguage\": \"en-US\"\n",
      "    },\n",
      "    {\n",
      "      \"@type\": \"Organization\",\n",
      "      \"@id\": \"https://www.acouplecooks.com/#organization\",\n",
      "      \"name\": \"A Couple Cooks\",\n",
      "      \"url\": \"https://www.acouplecooks.com/\",\n",
      "      \"logo\": {\n",
      "        \"@type\": \"ImageObject\",\n",
      "        \"inLanguage\": \"en-US\",\n",
      "        \"@id\": \"https://www.acouplecooks.com/#/schema/logo/image/\",\n",
      "        \"url\": \"https://www.acouplecooks.com/wp-content/uploads/2021/06/social.jpg\",\n",
      "        \"contentUrl\": \"https://www.acouplecooks.com/wp-content/uploads/2021/06/social.jpg\",\n",
      "        \"width\": 1200,\n",
      "        \"height\": 630,\n",
      "        \"caption\": \"A Couple Cooks\"\n",
      "      },\n",
      "      \"image\": {\n",
      "        \"@id\": \"https://www.acouplecooks.com/#/schema/logo/image/\"\n",
      "      },\n",
      "      \"sameAs\": [\n",
      "        \"https://www.facebook.com/groups/193375798111474/\",\n",
      "        \"https://twitter.com/acouplecooks\",\n",
      "        \"https://www.instagram.com/acouplecooks/\",\n",
      "        \"https://www.pinterest.com/acouplecooks/\",\n",
      "        \"https://www.youtube.com/aCoupleCooksTV\"\n",
      "      ]\n",
      "    },\n",
      "    {\n",
      "      \"@type\": \"Person\",\n",
      "      \"@id\": \"https://www.acouplecooks.com/#/schema/person/d3a3c9869553a70f725f007b4656b09b\",\n",
      "      \"name\": \"Sonja Overhiser\",\n",
      "      \"image\": {\n",
      "        \"@type\": \"ImageObject\",\n",
      "        \"inLanguage\": \"en-US\",\n",
      "        \"@id\": \"https://www.acouplecooks.com/#/schema/person/image/\",\n",
      "        \"url\": \"https://www.acouplecooks.com/wp-includes/images/blank.gif\",\n",
      "        \"contentUrl\": \"https://www.acouplecooks.com/wp-includes/images/blank.gif\",\n",
      "        \"caption\": \"Sonja Overhiser\"\n",
      "      },\n",
      "      \"sameAs\": [\n",
      "        \"https://www.facebook.com/aCoupleCooks\"\n",
      "      ],\n",
      "      \"url\": \"https://www.acouplecooks.com/author/skuhnau/\"\n",
      "    },\n",
      "    {\n",
      "      \"@context\": \"https://schema.org/\",\n",
      "      \"@type\": \"Recipe\",\n",
      "      \"name\": \"Vegetarian Carbonara\",\n",
      "      \"description\": \"This vegetarian carbonara is quick and delicious; an egg yolk is stirred into the pasta to create a sauce, and smoked mozarella is used instead of bacon.\",\n",
      "      \"author\": {\n",
      "        \"@type\": \"Person\",\n",
      "        \"name\": \"a Couple Cooks\",\n",
      "        \"url\": \"https://www.acouplecooks.com/about/\"\n",
      "      },\n",
      "      \"keywords\": \"vegetarian carbonara, vegetarian pasta recipe\",\n",
      "      \"image\": [\n",
      "        \"https://www.acouplecooks.com/wp-content/uploads/2016/04/Spring-Vegetarian-Carbonara-001-225x225.jpg\",\n",
      "        \"https://www.acouplecooks.com/wp-content/uploads/2016/04/Spring-Vegetarian-Carbonara-001-260x195.jpg\",\n",
      "        \"https://www.acouplecooks.com/wp-content/uploads/2016/04/Spring-Vegetarian-Carbonara-001-320x180.jpg\",\n",
      "        \"https://www.acouplecooks.com/wp-content/uploads/2016/04/Spring-Vegetarian-Carbonara-001.jpg\"\n",
      "      ],\n",
      "      \"url\": \"https://www.acouplecooks.com/spring-vegetarian-spaghetti-carbonara/\",\n",
      "      \"recipeIngredient\": [\n",
      "        \"1 pound spaghetti noodles\",\n",
      "        \"\\u00bd cup smoked mozzarella cheese\",\n",
      "        \"\\u00bd cup grated Parmesan cheese, plus more for serving\",\n",
      "        \"4 egg yolks\",\n",
      "        \"1 cup frozen Earthbound Farm Organic peas\",\n",
      "        \"8 cups Earthbound Farm Organic spinach\",\n",
      "        \"3 tablespoons butter\",\n",
      "        \"Kosher salt\",\n",
      "        \"Fresh ground black pepper\"\n",
      "      ],\n",
      "      \"recipeInstructions\": [\n",
      "        {\n",
      "          \"@type\": \"HowToStep\",\n",
      "          \"text\": \"In a large pot, combine 6 quarts of water with 2 tablespoons kosher salt and bring it to a boil.\",\n",
      "          \"url\": \"https://www.acouplecooks.com/spring-vegetarian-spaghetti-carbonara/#instruction-step-1\"\n",
      "        },\n",
      "        {\n",
      "          \"@type\": \"HowToStep\",\n",
      "          \"text\": \"Grate the Parmesan and mozzarella cheese. Carefully separate four egg yolks and set aside.\",\n",
      "          \"url\": \"https://www.acouplecooks.com/spring-vegetarian-spaghetti-carbonara/#instruction-step-2\"\n",
      "        },\n",
      "        {\n",
      "          \"@type\": \"HowToStep\",\n",
      "          \"text\": \"Once boiling, add the pasta and cook until the pasta is just about al dente, about 7 minutes; then add peas and spinach and cook for 1 minute. Reserve 1 cup cooking water, and then drain the pasta and vegetables.\",\n",
      "          \"url\": \"https://www.acouplecooks.com/spring-vegetarian-spaghetti-carbonara/#instruction-step-3\"\n",
      "        },\n",
      "        {\n",
      "          \"@type\": \"HowToStep\",\n",
      "          \"text\": \"In a skillet, melt the butter, then stir in the cheeses, \\u00bc cup pasta water, and \\u00bc teaspoon kosher salt. Stir in the pasta and vegetables until creamy over low heat, adding more pasta water if necessary (note that the mozzarella will stick together in some places).\",\n",
      "          \"url\": \"https://www.acouplecooks.com/spring-vegetarian-spaghetti-carbonara/#instruction-step-4\"\n",
      "        },\n",
      "        {\n",
      "          \"@type\": \"HowToStep\",\n",
      "          \"text\": \"To serve, top each pasta serving with a whole egg yolk and additional Parmesan cheese, and stir the yolk into the pasta at the table (if you are uncomfortable serving egg yolks at the table, stir the egg yolks into the pasta in the skillet to heat them through). Serve immediately. (Note that the mozzarella cheese can become gummy the longer the pasta sits, so eat immediately if possible. Leftovers can be reheated in a skillet, but may not have the same creamy texture.)\",\n",
      "          \"url\": \"https://www.acouplecooks.com/spring-vegetarian-spaghetti-carbonara/#instruction-step-5\"\n",
      "        }\n",
      "      ],\n",
      "      \"prepTime\": \"PT15M\",\n",
      "      \"cookTime\": \"PT10M\",\n",
      "      \"totalTime\": \"PT25M\",\n",
      "      \"recipeYield\": \"4\",\n",
      "      \"recipeCategory\": \"Main Dish\",\n",
      "      \"cookingMethod\": \"Stovetop\",\n",
      "      \"recipeCuisine\": \"Italian\",\n",
      "      \"aggregateRating\": {\n",
      "        \"@type\": \"AggregateRating\",\n",
      "        \"reviewCount\": \"1\",\n",
      "        \"ratingValue\": \"5\"\n",
      "      },\n",
      "      \"datePublished\": \"2018-04-04\",\n",
      "      \"@id\": \"https://www.acouplecooks.com/spring-vegetarian-spaghetti-carbonara/#recipe\",\n",
      "      \"isPartOf\": {\n",
      "        \"@id\": \"https://www.acouplecooks.com/spring-vegetarian-spaghetti-carbonara/#article\"\n",
      "      },\n",
      "      \"mainEntityOfPage\": \"https://www.acouplecooks.com/spring-vegetarian-spaghetti-carbonara/\"\n",
      "    }\n",
      "  ],\n",
      "  \"instructions\": [\n",
      "    \"In a large pot, combine 6 quarts of water with 2 tablespoons kosher salt and bring it to a boil.\",\n",
      "    \"Grate the Parmesan and mozzarella cheese. Carefully separate four egg yolks and set aside.\",\n",
      "    \"Once boiling, add the pasta and cook until the pasta is just about al dente, about 7 minutes; then add peas and spinach and cook for 1 minute. Reserve 1 cup cooking water, and then drain the pasta and vegetables.\",\n",
      "    \"In a skillet, melt the butter, then stir in the cheeses, \\u00bc cup pasta water, and \\u00bc teaspoon kosher salt. Stir in the pasta and vegetables until creamy over low heat, adding more pasta water if necessary (note that the mozzarella will stick together in some places).\",\n",
      "    \"To serve, top each pasta serving with a whole egg yolk and additional Parmesan cheese, and stir the yolk into the pasta at the table (if you are uncomfortable serving egg yolks at the table, stir the egg yolks into the pasta in the skillet to heat them through). Serve immediately. (Note that the mozzarella cheese can become gummy the longer the pasta sits, so eat immediately if possible. Leftovers can be reheated in a skillet, but may not have the same creamy texture.)\"\n",
      "  ]\n",
      "}\n"
     ]
    }
   ],
   "source": [
    "#Here you can see the solution for our example website\n",
    "\n",
    "URL = \"https://www.acouplecooks.com/spring-vegetarian-spaghetti-carbonara\"\n",
    "\n",
    "def parse_website(url):\n",
    "    # Create a CloudScraper object\n",
    "    scraper = cloudscraper.create_scraper()\n",
    "\n",
    "    # Use the CloudScraper object to fetch the HTML content\n",
    "    response = scraper.get(URL)\n",
    "\n",
    "    # Parse the HTML content with BeautifulSoup\n",
    "    soup = BeautifulSoup(response.text, 'html.parser')\n",
    "    \n",
    "    #Get the title\n",
    "    title_unparsed = soup.select_one(\"title\")\n",
    "    fn = title_unparsed.text\n",
    "    \n",
    "    json_ld_script = soup.find(\"script\", {\"class\": \"yoast-schema-graph\"})\n",
    "\n",
    "    # Extract the content of the script tag\n",
    "    script_content = json_ld_script.string\n",
    "\n",
    "    # Load the JSON data from the script content\n",
    "    data = json.loads(script_content)\n",
    "\n",
    "    # Access the \"recipeIngredient\" list\n",
    "    recipe_ingredients = data[\"@graph\"]\n",
    "    \n",
    "    ingredients = [ingredient for ingredient in recipe_ingredients]\n",
    "    \n",
    "    #Access the instructions\n",
    "    recipe_instructions= data[\"@graph\"][7][\"recipeInstructions\"]\n",
    "    #the instructions list contains dictionaries as elements, take a look at how the list is organized\n",
    "    instructions = [step[\"text\"] for step in recipe_instructions]\n",
    "\n",
    "    return {'name': fn,\n",
    "            'ingredients': ingredients,\n",
    "            'instructions': instructions,\n",
    "            }\n",
    "    \n",
    "recipe = parse_website(URL)\n",
    "print(json.dumps(recipe, indent=2))\n",
    "        "
   ]
  },
  {
   "cell_type": "code",
   "execution_count": 28,
   "metadata": {
    "colab": {
     "base_uri": "https://localhost:8080/",
     "height": 54
    },
    "id": "UQu9ecLEeMJ6",
    "outputId": "a8aa0e14-a8fb-4279-cf32-8dca97ab3412"
   },
   "outputs": [
    {
     "name": "stdout",
     "output_type": "stream",
     "text": [
      "{\n",
      "  \"name\": \"Vegetarian carbonara recipe | Jamie Oliver pasta recipes\",\n",
      "  \"ingredients\": [\n",
      "    \"400 g dried linguine\",\n",
      "    \"4 large free-range eggs\",\n",
      "    \"2 tablespoons soft ricotta cheese\",\n",
      "    \"1  lemon\",\n",
      "    \"100 g fresh or frozen peas\",\n",
      "    \"100 g baby spinach\"\n",
      "  ],\n",
      "  \"instructions\": [\n",
      "    \"Cook the linguine according to the packet instructions.\",\n",
      "    \"Meanwhile, carefully crack the eggs into a small bowl and beat them with \\na fork. Season with a little black pepper, then stir in the ricotta finely grate in most of the lemon zest.\",\n",
      "    \"When the pasta has 3 minutes left, add the peas. Reserve a little cooking water, then drain the linguine and peas, and return to the pan.\",\n",
      "    \"Stir in the egg mixture and spinach with a wooden spoon \\u2013 they\\u2019ll cook gently in the residual heat. Add a little pasta water to loosen, if needed.\",\n",
      "    \"Share between bowls and serve with a green salad.\"\n",
      "  ]\n",
      "}\n"
     ]
    }
   ],
   "source": [
    "# -*- coding: utf-8 -*-\n",
    "\n",
    "import cloudscraper\n",
    "from bs4 import BeautifulSoup\n",
    "\n",
    "# Pass in a URL containing hRecipe, such as\n",
    "# https://www.jamieoliver.com/recipes/pasta-recipes/veggie-carbonara/\n",
    "\n",
    "URL = \"https://www.jamieoliver.com/recipes/pasta-recipes/veggie-carbonara/\"\n",
    "\n",
    "# Parse out some of the pertinent information for a recipe.\n",
    "# See http://microformats.org/wiki/hrecipe.\n",
    "\n",
    "#Solution for jamie oliver\n",
    "def parse_website(url):\n",
    "    # Create a CloudScraper object\n",
    "    scraper = cloudscraper.create_scraper()\n",
    "\n",
    "    # Use the CloudScraper object to fetch the HTML content\n",
    "    response = scraper.get(url)\n",
    "\n",
    "    # Parse the HTML content with BeautifulSoup\n",
    "    soup = BeautifulSoup(response.text, 'html.parser')\n",
    "    \n",
    "    #Get the title\n",
    "    title_unparsed = soup.select_one(\"title\")\n",
    "    fn = title_unparsed.text\n",
    "    \n",
    "    json_ld_script = soup.find(\"script\", {'type':'application/ld+json'})\n",
    "\n",
    "    # Extract the content of the script tag\n",
    "    script_content = json_ld_script.string\n",
    "\n",
    "    # Load the JSON data from the script content\n",
    "    data = json.loads(script_content)\n",
    "\n",
    "    # Access the \"recipeIngredient\" list\n",
    "    recipe_ingredients = data[\"recipeIngredient\"]\n",
    "    ingredients = [ingredient.strip() for ingredient in recipe_ingredients]\n",
    "    \n",
    "    #Access the instructions\n",
    "    recipe_instructions= data[\"recipeInstructions\"]\n",
    "    list_items = BeautifulSoup(recipe_instructions, 'html.parser').find('ol').find_all('li')\n",
    "    instructions = [item.get_text(strip=True) for item in list_items]\n",
    "    \n",
    "    #the instructions list contains dictionaries as elements, take a look at how the list is organized\n",
    "    # instructions = [step[\"text\"] for step in recipe_instructions]\n",
    "\n",
    "    return {\n",
    "            'name': fn,\n",
    "            'ingredients': ingredients,\n",
    "            'instructions': instructions,\n",
    "            }\n",
    "    \n",
    "recipe = parse_website(URL)\n",
    "print(json.dumps(recipe, indent=2))"
   ]
  },
  {
   "attachments": {},
   "cell_type": "markdown",
   "metadata": {
    "id": "ccURluAIeMJ8"
   },
   "source": [
    "But How can we get information not only from one website,  but from all? \n",
    "\n",
    "The answer: microformats.\n",
    "\n",
    "But rather than extracting with information manually from the schema.org or hRecipe microformats, we can use a package, ```scrape-schema-recipe``` \n",
    "\n",
    "Feel free to experiment with it. "
   ]
  },
  {
   "attachments": {},
   "cell_type": "markdown",
   "metadata": {
    "id": "EBY-y_GreMJ8"
   },
   "source": [
    "### Task 2.2\n",
    "hRecipe is a microformat specifically created for recipes.\n",
    "Can you for example easily compare different dessert recipe ingredients? For inspiration you can look back at the exercises you did in Hands-on session 1 where you compared different sets of tweets."
   ]
  },
  {
   "cell_type": "code",
   "execution_count": 16,
   "metadata": {},
   "outputs": [
    {
     "name": "stdout",
     "output_type": "stream",
     "text": [
      "Requirement already satisfied: scrape-schema-recipe in /usr/local/lib/python3.11/site-packages (0.2.2)\n",
      "Requirement already satisfied: setuptools>=39.2.0 in /usr/local/lib/python3.11/site-packages (from scrape-schema-recipe) (68.1.2)\n",
      "Requirement already satisfied: extruct in /usr/local/lib/python3.11/site-packages (from scrape-schema-recipe) (0.16.0)\n",
      "Requirement already satisfied: isodate>=0.5.1 in /usr/local/lib/python3.11/site-packages (from scrape-schema-recipe) (0.6.1)\n",
      "Requirement already satisfied: requests in /usr/local/lib/python3.11/site-packages (from scrape-schema-recipe) (2.31.0)\n",
      "Requirement already satisfied: six in /Users/damlaural/Library/Python/3.11/lib/python/site-packages (from isodate>=0.5.1->scrape-schema-recipe) (1.16.0)\n",
      "Requirement already satisfied: lxml in /usr/local/lib/python3.11/site-packages (from extruct->scrape-schema-recipe) (4.9.3)\n",
      "Requirement already satisfied: pyrdfa3 in /usr/local/lib/python3.11/site-packages (from extruct->scrape-schema-recipe) (3.5.3)\n",
      "Requirement already satisfied: mf2py in /usr/local/lib/python3.11/site-packages (from extruct->scrape-schema-recipe) (1.1.3)\n",
      "Requirement already satisfied: w3lib in /usr/local/lib/python3.11/site-packages (from extruct->scrape-schema-recipe) (2.1.2)\n",
      "Requirement already satisfied: html-text>=0.5.1 in /usr/local/lib/python3.11/site-packages (from extruct->scrape-schema-recipe) (0.5.2)\n",
      "Requirement already satisfied: jstyleson in /usr/local/lib/python3.11/site-packages (from extruct->scrape-schema-recipe) (0.0.2)\n",
      "Requirement already satisfied: rdflib>=6.0.0 in /usr/local/lib/python3.11/site-packages (from extruct->scrape-schema-recipe) (7.0.0)\n",
      "Requirement already satisfied: charset-normalizer<4,>=2 in /usr/local/lib/python3.11/site-packages (from requests->scrape-schema-recipe) (3.3.2)\n",
      "Requirement already satisfied: idna<4,>=2.5 in /usr/local/lib/python3.11/site-packages (from requests->scrape-schema-recipe) (3.4)\n",
      "Requirement already satisfied: urllib3<3,>=1.21.1 in /usr/local/lib/python3.11/site-packages (from requests->scrape-schema-recipe) (2.0.7)\n",
      "Requirement already satisfied: certifi>=2017.4.17 in /usr/local/lib/python3.11/site-packages (from requests->scrape-schema-recipe) (2023.7.22)\n",
      "Requirement already satisfied: pyparsing<4,>=2.1.0 in /usr/local/lib/python3.11/site-packages (from rdflib>=6.0.0->extruct->scrape-schema-recipe) (3.0.9)\n",
      "Requirement already satisfied: html5lib>=1.0.1 in /usr/local/lib/python3.11/site-packages (from mf2py->extruct->scrape-schema-recipe) (1.1)\n",
      "Requirement already satisfied: BeautifulSoup4>=4.6.0 in /usr/local/lib/python3.11/site-packages (from mf2py->extruct->scrape-schema-recipe) (4.12.2)\n",
      "Requirement already satisfied: soupsieve>1.2 in /usr/local/lib/python3.11/site-packages (from BeautifulSoup4>=4.6.0->mf2py->extruct->scrape-schema-recipe) (2.5)\n",
      "Requirement already satisfied: webencodings in /usr/local/lib/python3.11/site-packages (from html5lib>=1.0.1->mf2py->extruct->scrape-schema-recipe) (0.5.1)\n",
      "\n",
      "\u001b[1m[\u001b[0m\u001b[34;49mnotice\u001b[0m\u001b[1;39;49m]\u001b[0m\u001b[39;49m A new release of pip is available: \u001b[0m\u001b[31;49m23.2.1\u001b[0m\u001b[39;49m -> \u001b[0m\u001b[32;49m23.3.1\u001b[0m\n",
      "\u001b[1m[\u001b[0m\u001b[34;49mnotice\u001b[0m\u001b[1;39;49m]\u001b[0m\u001b[39;49m To update, run: \u001b[0m\u001b[32;49mpython3.11 -m pip install --upgrade pip\u001b[0m\n"
     ]
    }
   ],
   "source": [
    "!pip3 install scrape-schema-recipe"
   ]
  },
  {
   "cell_type": "code",
   "execution_count": 2,
   "metadata": {
    "tags": []
   },
   "outputs": [
    {
     "name": "stdout",
     "output_type": "stream",
     "text": [
      "+---------------------------------------------------------------------------------------------------+-----------------------------------------------------------------------------------------+\n",
      "|                                              Recipe1                                              |                                         Recipe2                                         |\n",
      "+---------------------------------------------------------------------------------------------------+-----------------------------------------------------------------------------------------+\n",
      "| 1 large squash such as butternut, Crown Prince, onion or pumpkin, (or 1 x 425g tin pumpkin purée) |                         400 g plain flour plus extra for dusting                        |\n",
      "|                                         300 g plain flour                                         |                                    75 g icing sugar                                     |\n",
      "|                                         50 g icing sugar                                          |                                       ½ an orange                                       |\n",
      "|                                             1  orange                                             |                    200 g cold unsalted butter plus extra for greasing                   |\n",
      "|                                       150 g unsalted butter                                       |                                 2 large free-range eggs                                 |\n",
      "|                                      4 large free-range eggs                                      |                        1 x 410 g tin of pear quarters in juice                          |\n",
      "|                                     175 g golden caster sugar                                     |                              1 teaspoon vanilla bean paste                              |\n",
      "|                                  3 teaspoons vanilla bean paste                                   | 1 kg frozen sour cherries, blackberries, sweet cherries, blueberries and blackcurrants  |\n",
      "|                                        100 ml double cream                                        |                                   150 g caster sugar                                    |\n",
      "|                                  ¾ of a teaspoon ground cinnamon                                  |                                     30 g cornflour                                      |\n",
      "|                                    ½ a teaspoon ground ginger                                     |                                 vanilla ice cream to serve                              |\n",
      "+---------------------------------------------------------------------------------------------------+-----------------------------------------------------------------------------------------+\n"
     ]
    }
   ],
   "source": [
    "from prettytable import PrettyTable\n",
    "import scrape_schema_recipe\n",
    "import string\n",
    "from collections import Counter\n",
    "\n",
    "# get the top 10 words from the ingredients\n",
    "def get_ingredients(ingredients):\n",
    "  ingredientList = []\n",
    "  for ingredient in ingredients:\n",
    "        ingredientList.append(ingredient)\n",
    "\n",
    "  return ingredientList\n",
    "\n",
    "\n",
    "\n",
    "url = 'https://www.jamieoliver.com/recipes/butternut-squash-recipes/ultimate-pumpkin-pie/'\n",
    "recipe_list = scrape_schema_recipe.scrape_url(url, python_objects=True)\n",
    "recipe1 = recipe_list[0]\n",
    "\n",
    "url = 'https://www.jamieoliver.com/recipes/fruit-recipes/frozen-sour-cherry-berry-pie/'\n",
    "recipe_list = scrape_schema_recipe.scrape_url(url, python_objects=True)\n",
    "recipe2 = recipe_list[0]\n",
    "\n",
    "\n",
    "# join the two tuple lists\n",
    "# for i in range(0, len(words1)):\n",
    "  # words1[i] = words1[i] + words2[i]\n",
    "\n",
    "# draw the table\n",
    "pt = PrettyTable(field_names=['Recipe1', 'Recipe2'])\n",
    "[ pt.add_row(r) for r in zip(recipe1['recipeIngredient'], recipe2['recipeIngredient']) ]\n",
    "print(pt)\n"
   ]
  },
  {
   "attachments": {},
   "cell_type": "markdown",
   "metadata": {
    "id": "n-J8fiLbeMJ9"
   },
   "source": [
    "## Exercise 3"
   ]
  },
  {
   "attachments": {},
   "cell_type": "markdown",
   "metadata": {
    "id": "7XBeqJHVeMJ9"
   },
   "source": [
    "Schema.org is one of the most widely used annotations formats. Schema.org is a multipurpose  template that has been created by a consortium consisting of Yahoo!, Google and Microsoft. It can describe entities, events, products etc. Check out the vocabulary specs on Schema.org."
   ]
  },
  {
   "attachments": {},
   "cell_type": "markdown",
   "metadata": {
    "id": "fiw8JClyeMJ-"
   },
   "source": [
    "### Task 3\n",
    "\n",
    "Parsing schema.org microdata. To parse this data you need to install the rdflib-microdata package, which you have done in one of the previous steps.\n",
    "\n"
   ]
  },
  {
   "cell_type": "code",
   "execution_count": 18,
   "metadata": {
    "colab": {
     "base_uri": "https://localhost:8080/",
     "height": 153
    },
    "id": "X2zr3fOOeMJ-",
    "outputId": "d123f981-d73f-470f-b5e9-8735819f894b"
   },
   "outputs": [
    {
     "name": "stdout",
     "output_type": "stream",
     "text": [
      "http://dbpedia.org/resource/Micheal_Jackson http://dbpedia.org/ontology/wikiPageRedirects http://dbpedia.org/resource/Michael_Jackson\n",
      "http://dbpedia.org/resource/Micheal_Jackson http://dbpedia.org/ontology/wikiPageWikiLink http://dbpedia.org/resource/Michael_Jackson\n",
      "http://dbpedia.org/resource/Micheal_Jackson http://www.w3.org/2000/01/rdf-schema#label Micheal Jackson\n",
      "http://dbpedia.org/resource/Micheal_Jackson http://dbpedia.org/ontology/wikiPageLength 68\n",
      "http://dbpedia.org/resource/Micheal_Jackson http://dbpedia.org/ontology/wikiPageID 14995602\n",
      "http://dbpedia.org/resource/Micheal_Jackson http://dbpedia.org/ontology/wikiPageRevisionID 1056738079\n",
      "http://dbpedia.org/resource/Micheal_Jackson http://xmlns.com/foaf/0.1/isPrimaryTopicOf http://en.wikipedia.org/wiki/Micheal_Jackson\n",
      "http://dbpedia.org/resource/Micheal_Jackson http://www.w3.org/ns/prov#wasDerivedFrom http://en.wikipedia.org/wiki/Micheal_Jackson?oldid=1056738079&ns=0\n",
      "http://dbpedia.org/resource/Micheal_Jackson http://dbpedia.org/property/wikiPageUsesTemplate http://dbpedia.org/resource/Template:R_from_misspelling\n"
     ]
    }
   ],
   "source": [
    "from rdflib import Graph\n",
    "\n",
    "# Source: https://www.youtube.com/watch?v=sCU214rbRZ0\n",
    "# Pass in a URL containing Schema.org microformats\n",
    "URL = \"http://dbpedia.org/resource/Micheal_Jackson\"\n",
    "\n",
    "# Initialize a graph\n",
    "g = Graph()\n",
    "\n",
    "# Parse in an RDF file graph dbpedia\n",
    "result = g.parse(location=URL)\n",
    "\n",
    "# Loop through first 10 triples in the graph\n",
    "for index, (sub, pred, obj) in enumerate(g):\n",
    "    print(sub, pred, obj)\n",
    "    if index == 10:\n",
    "        break"
   ]
  },
  {
   "cell_type": "code",
   "execution_count": 19,
   "metadata": {
    "colab": {
     "base_uri": "https://localhost:8080/",
     "height": 34
    },
    "id": "hrQ2EuY5JAn1",
    "outputId": "eba60ebb-7ac5-4451-c16e-3f68e66af7f3"
   },
   "outputs": [
    {
     "name": "stdout",
     "output_type": "stream",
     "text": [
      "Graph has 9 facts\n"
     ]
    }
   ],
   "source": [
    "# Print the size of the Graph\n",
    "print(f'Graph has {len(g)} facts')"
   ]
  },
  {
   "cell_type": "code",
   "execution_count": 20,
   "metadata": {
    "colab": {
     "base_uri": "https://localhost:8080/",
     "height": 323
    },
    "id": "IAO1JllwJMqO",
    "outputId": "08f5e32d-d1a6-4a30-878a-ce7b768a8811"
   },
   "outputs": [
    {
     "name": "stdout",
     "output_type": "stream",
     "text": [
      "@prefix foaf: <http://xmlns.com/foaf/0.1/> .\n",
      "@prefix ns1: <http://dbpedia.org/ontology/> .\n",
      "@prefix ns2: <http://dbpedia.org/property/> .\n",
      "@prefix prov: <http://www.w3.org/ns/prov#> .\n",
      "@prefix rdfs: <http://www.w3.org/2000/01/rdf-schema#> .\n",
      "@prefix xsd: <http://www.w3.org/2001/XMLSchema#> .\n",
      "\n",
      "<http://dbpedia.org/resource/Micheal_Jackson> rdfs:label \"Micheal Jackson\"@en ;\n",
      "    ns1:wikiPageID 14995602 ;\n",
      "    ns1:wikiPageLength \"68\"^^xsd:nonNegativeInteger ;\n",
      "    ns1:wikiPageRedirects <http://dbpedia.org/resource/Michael_Jackson> ;\n",
      "    ns1:wikiPageRevisionID 1056738079 ;\n",
      "    ns1:wikiPageWikiLink <http://dbpedia.org/resource/Michael_Jackson> ;\n",
      "    ns2:wikiPageUsesTemplate <http://dbpedia.org/resource/Template:R_from_misspelling> ;\n",
      "    prov:wasDerivedFrom <http://en.wikipedia.org/wiki/Micheal_Jackson?oldid=1056738079&ns=0> ;\n",
      "    foaf:isPrimaryTopicOf <http://en.wikipedia.org/wiki/Micheal_Jackson> .\n",
      "\n",
      "\n"
     ]
    }
   ],
   "source": [
    "# Print out the entire Graph in the RDF Turtle format\n",
    "print(g.serialize(format='ttl'))"
   ]
  },
  {
   "attachments": {},
   "cell_type": "markdown",
   "metadata": {
    "id": "dzbynasAeMKA"
   },
   "source": [
    "### Task 3.1 \n",
    "Compare the schema.org information about a band on last.fm to the Facebook Open Graph information about the same band from Facebook. What are the differences? Which format do you think supports better interoperability? In particular, refer to the Microformat specifications indicated in the box on the top right corner."
   ]
  },
  {
   "cell_type": "code",
   "execution_count": 21,
   "metadata": {},
   "outputs": [
    {
     "name": "stdout",
     "output_type": "stream",
     "text": [
      "Requirement already satisfied: extruct in /usr/local/lib/python3.11/site-packages (0.16.0)\n",
      "Requirement already satisfied: lxml in /usr/local/lib/python3.11/site-packages (from extruct) (4.9.3)\n",
      "Requirement already satisfied: pyrdfa3 in /usr/local/lib/python3.11/site-packages (from extruct) (3.5.3)\n",
      "Requirement already satisfied: mf2py in /usr/local/lib/python3.11/site-packages (from extruct) (1.1.3)\n",
      "Requirement already satisfied: w3lib in /usr/local/lib/python3.11/site-packages (from extruct) (2.1.2)\n",
      "Requirement already satisfied: html-text>=0.5.1 in /usr/local/lib/python3.11/site-packages (from extruct) (0.5.2)\n",
      "Requirement already satisfied: six in /Users/damlaural/Library/Python/3.11/lib/python/site-packages (from extruct) (1.16.0)\n",
      "Requirement already satisfied: jstyleson in /usr/local/lib/python3.11/site-packages (from extruct) (0.0.2)\n",
      "Requirement already satisfied: rdflib>=6.0.0 in /usr/local/lib/python3.11/site-packages (from extruct) (7.0.0)\n",
      "Requirement already satisfied: isodate<0.7.0,>=0.6.0 in /usr/local/lib/python3.11/site-packages (from rdflib>=6.0.0->extruct) (0.6.1)\n",
      "Requirement already satisfied: pyparsing<4,>=2.1.0 in /usr/local/lib/python3.11/site-packages (from rdflib>=6.0.0->extruct) (3.0.9)\n",
      "Requirement already satisfied: html5lib>=1.0.1 in /usr/local/lib/python3.11/site-packages (from mf2py->extruct) (1.1)\n",
      "Requirement already satisfied: requests>=2.18.4 in /usr/local/lib/python3.11/site-packages (from mf2py->extruct) (2.31.0)\n",
      "Requirement already satisfied: BeautifulSoup4>=4.6.0 in /usr/local/lib/python3.11/site-packages (from mf2py->extruct) (4.12.2)\n",
      "Requirement already satisfied: soupsieve>1.2 in /usr/local/lib/python3.11/site-packages (from BeautifulSoup4>=4.6.0->mf2py->extruct) (2.5)\n",
      "Requirement already satisfied: webencodings in /usr/local/lib/python3.11/site-packages (from html5lib>=1.0.1->mf2py->extruct) (0.5.1)\n",
      "Requirement already satisfied: charset-normalizer<4,>=2 in /usr/local/lib/python3.11/site-packages (from requests>=2.18.4->mf2py->extruct) (3.3.2)\n",
      "Requirement already satisfied: idna<4,>=2.5 in /usr/local/lib/python3.11/site-packages (from requests>=2.18.4->mf2py->extruct) (3.4)\n",
      "Requirement already satisfied: urllib3<3,>=1.21.1 in /usr/local/lib/python3.11/site-packages (from requests>=2.18.4->mf2py->extruct) (2.0.7)\n",
      "Requirement already satisfied: certifi>=2017.4.17 in /usr/local/lib/python3.11/site-packages (from requests>=2.18.4->mf2py->extruct) (2023.7.22)\n",
      "\n",
      "\u001b[1m[\u001b[0m\u001b[34;49mnotice\u001b[0m\u001b[1;39;49m]\u001b[0m\u001b[39;49m A new release of pip is available: \u001b[0m\u001b[31;49m23.2.1\u001b[0m\u001b[39;49m -> \u001b[0m\u001b[32;49m23.3.1\u001b[0m\n",
      "\u001b[1m[\u001b[0m\u001b[34;49mnotice\u001b[0m\u001b[1;39;49m]\u001b[0m\u001b[39;49m To update, run: \u001b[0m\u001b[32;49mpython3.11 -m pip install --upgrade pip\u001b[0m\n"
     ]
    }
   ],
   "source": [
    "!pip install extruct"
   ]
  },
  {
   "cell_type": "code",
   "execution_count": 22,
   "metadata": {},
   "outputs": [
    {
     "name": "stdout",
     "output_type": "stream",
     "text": [
      "http://schema.org/MusicGroup\n",
      "- image: https://lastfm.freetls.fastly.net/i/u/ar0/3c5c0026bea779f2fd2635b714458935.jpg\n",
      "- name: Pinguini Tattici Nucleari\n",
      "- url: /music/Pinguini+Tattici+Nucleari\n",
      "- Albums:\n",
      "  - Rubami La Notte - Single (/music/Pinguini+Tattici+Nucleari/Rubami+La+Notte+-+Single)\n",
      "  - AHIA! (/music/Pinguini+Tattici+Nucleari/AHIA!)\n",
      "  - Fuori Dall'Hype Ringo Starr (/music/Pinguini+Tattici+Nucleari/Fuori+Dall%27Hype+Ringo+Starr)\n",
      "  - Fake News (/music/Pinguini+Tattici+Nucleari/Fake+News)\n",
      "  - Fuori dall'hype (/music/Pinguini+Tattici+Nucleari/Fuori+dall%27hype)\n",
      "- Tracks:\n",
      "  - Rubami la Notte\n",
      "  - Rubami la Notte\n",
      "  - Pastello Bianco\n",
      "  - Ricordi\n",
      "  - Ridere\n",
      "  - Giovani Wannabe\n",
      "  - Scrivile Scemo\n",
      "  - Ringo Starr\n",
      "  - Scooby Doo\n",
      "  - Coca zero\n",
      "  - Hold On\n",
      "http://schema.org/MusicGroup\n",
      "- name: GAZZELLE\n",
      "- url: /music/GAZZELLE\n",
      "http://schema.org/MusicGroup\n",
      "- name: Cesare Cremonini\n",
      "- url: /music/Cesare+Cremonini\n",
      "http://schema.org/MusicGroup\n",
      "- name: Tananai\n",
      "- url: /music/Tananai\n",
      "http://schema.org/MusicGroup\n",
      "- name: GAZZELLE\n",
      "- url: /music/GAZZELLE\n",
      "http://schema.org/MusicGroup\n",
      "- name: Cesare Cremonini\n",
      "- url: /music/Cesare+Cremonini\n",
      "http://schema.org/MusicGroup\n",
      "- name: Tananai\n",
      "- url: /music/Tananai\n",
      "http://schema.org/MusicGroup\n",
      "- name: Fulminacci\n",
      "- url: /music/Fulminacci\n",
      "http://schema.org/MusicGroup\n",
      "- name: Eugenio in via di gioia\n",
      "- url: /music/Eugenio+in+via+di+gioia\n",
      "http://schema.org/MusicGroup\n",
      "- name: Fedez\n",
      "- url: /music/Fedez\n",
      "http://schema.org/Organization\n",
      "- url: https://www.last.fm\n",
      "- sameAs: ['https://www.facebook.com/lastfm', 'https://twitter.com/lastfm', 'https://www.instagram.com/last_fm', 'https://www.youtube.com/user/lastfm']\n",
      "- name: Last.fm\n"
     ]
    }
   ],
   "source": [
    "# Data from LastFM\n",
    "\n",
    "import extruct\n",
    "\n",
    "LASTFM_URL = \"https://www.last.fm/music/Pinguini+Tattici+Nucleari\"\n",
    "req_lastfm = requests.get(LASTFM_URL, headers={'User-Agent' : \"Social Web Course Student\"})\n",
    "metadata_lastfm = extruct.extract(htmlstring_or_tree=req_lastfm.text)\n",
    "\n",
    "# Go through all the items\n",
    "for item_lastfm in metadata_lastfm[\"microdata\"]:\n",
    "    print(item_lastfm[\"type\"])\n",
    "    itemtype = item_lastfm[\"type\"].split(\"/\")[-1]\n",
    "    \n",
    "    if 'properties' in item_lastfm:\n",
    "        props = item_lastfm['properties']\n",
    "        \n",
    "        # Go through all the info about the entry\n",
    "        for prop in props:\n",
    "            \n",
    "            # Go through the albums\n",
    "            if prop == 'album':\n",
    "                print(\"- Albums:\")\n",
    "                for album in props[prop]:\n",
    "                    print(f'  - {album[\"properties\"][\"name\"]} ({album[\"properties\"][\"url\"]})')\n",
    "                    \n",
    "                    \n",
    "            #Go through the tracks\n",
    "            elif prop == 'track':\n",
    "                print(\"- Tracks:\")\n",
    "                for album in props[prop]:\n",
    "                    print(f'  - {album[\"properties\"][\"name\"]}')\n",
    "            \n",
    "            else:\n",
    "                print(f'- {prop}: {props[prop]}')\n",
    "    \n",
    "\n"
   ]
  },
  {
   "cell_type": "code",
   "execution_count": 23,
   "metadata": {},
   "outputs": [
    {
     "name": "stdout",
     "output_type": "stream",
     "text": [
      "Raw: {'namespace': {'og': 'http://ogp.me/ns#'}, 'properties': [('og:type', 'video.other'), ('og:title', 'Pinguini Tattici Nucleari'), ('og:description', 'Pinguini Tattici Nucleari. 166.260 vind-ik-leuks · 236 personen praten hierover. I Pinguini Tattici Nucleari sono: Riccardo Zanotti, Matteo Locati, Simone Pagani, Elio Biffi, Lorenzo Pasini e Nicola...'), ('og:url', 'https://www.facebook.com/pinguinitattici'), ('og:image:alt', 'Pinguini Tattici Nucleari'), ('og:image', 'https://scontent-ams2-1.xx.fbcdn.net/v/t39.30808-1/375969548_871318244353138_5791655238800008151_n.jpg?stp=dst-jpg_p720x720&_nc_cat=111&ccb=1-7&_nc_sid=5f2048&_nc_ohc=ecXy-BU8N4wAX87q0E4&_nc_ht=scontent-ams2-1.xx&oh=00_AfD2c4ShaTlxY9LPIF51kGjYUnIAo1otgWoSv6I7wBG59g&oe=6556C2D6'), ('og:locale', 'en_US')]}\n",
      "namespace: {'og': 'http://ogp.me/ns#'}\n",
      "Properties: \n",
      "- og:type: video.other\n",
      "- og:title: Pinguini Tattici Nucleari\n",
      "- og:description: Pinguini Tattici Nucleari. 166.260 vind-ik-leuks · 236 personen praten hierover. I Pinguini Tattici Nucleari sono: Riccardo Zanotti, Matteo Locati, Simone Pagani, Elio Biffi, Lorenzo Pasini e Nicola...\n",
      "- og:url: https://www.facebook.com/pinguinitattici\n",
      "- og:image:alt: Pinguini Tattici Nucleari\n",
      "- og:image: https://scontent-ams2-1.xx.fbcdn.net/v/t39.30808-1/375969548_871318244353138_5791655238800008151_n.jpg?stp=dst-jpg_p720x720&_nc_cat=111&ccb=1-7&_nc_sid=5f2048&_nc_ohc=ecXy-BU8N4wAX87q0E4&_nc_ht=scontent-ams2-1.xx&oh=00_AfD2c4ShaTlxY9LPIF51kGjYUnIAo1otgWoSv6I7wBG59g&oe=6556C2D6\n",
      "- og:locale: en_US\n"
     ]
    }
   ],
   "source": [
    "\n",
    "import extruct\n",
    "\n",
    "FB_URL = \"https://www.facebook.com/pinguinitattici/\"\n",
    "req_fb = requests.get(FB_URL, headers={'User-Agent' : \"Social Web Course Student\"})\n",
    "metadata_fb = extruct.extract(htmlstring_or_tree=req_fb.text)\n",
    "\n",
    "#Go through all the items\n",
    "for item_fb in metadata_fb[\"opengraph\"]:\n",
    "    print(\"Raw:\", item_fb)\n",
    "    for props in item_fb:\n",
    "        if props == 'properties':\n",
    "            print(\"Properties: \")\n",
    "            for prop in item_fb[props]:\n",
    "                print(f'- {prop[0]}: {prop[1]}')\n",
    "        else:\n",
    "            print(f'{props}: {item_fb[props]}')\n",
    "\n",
    "    "
   ]
  },
  {
   "cell_type": "markdown",
   "metadata": {},
   "source": [
    "### Answer\n",
    "Last.fm had more information and detail compared to the Facebook page of the band. However, this could be attributed to last.fm's specialization on bands compared to Facebook's more generic applications. Therefore, even though the OpenGraph data has less information, this is not necessarily due to this microformat being worse than the other."
   ]
  },
  {
   "attachments": {},
   "cell_type": "markdown",
   "metadata": {
    "id": "Nocs4YDPeMKB"
   },
   "source": [
    "### Task 3.2\n",
    "Explore the various microformats at http://microformats.org/ and compare the output of the exercises with the output of http://microformats.org/. Think about possible microformats you want to support in your final assignment and read up on how to parse them."
   ]
  },
  {
   "cell_type": "markdown",
   "metadata": {},
   "source": [
    "### Answer"
   ]
  },
  {
   "cell_type": "code",
   "execution_count": 32,
   "metadata": {},
   "outputs": [
    {
     "data": {
      "text/plain": [
       "{'items': [{'type': ['h-recipe'],\n",
       "   'properties': {'name': ['Bagels'],\n",
       "    'ingredient': ['Flour', 'Sugar', 'Yeast'],\n",
       "    'yield': ['4'],\n",
       "    'instructions': [{'value': 'Start by mixing all the ingredients together.',\n",
       "      'html': '<ol>       <li>Start by mixing all the ingredients together.</li>     </ol>'}]}}]}"
      ]
     },
     "execution_count": 32,
     "metadata": {},
     "output_type": "execute_result"
    }
   ],
   "source": [
    "{\n",
    "  \"items\": [\n",
    "    {\n",
    "      \"type\": [\n",
    "        \"h-recipe\"\n",
    "      ],\n",
    "      \"properties\": {\n",
    "        \"name\": [\n",
    "          \"Bagels\"\n",
    "        ],\n",
    "        \"ingredient\": [\n",
    "          \"Flour\",\n",
    "          \"Sugar\",\n",
    "          \"Yeast\"\n",
    "        ],\n",
    "        \"yield\": [\n",
    "          \"4\"\n",
    "        ],\n",
    "        \"instructions\": [\n",
    "          {\n",
    "            \"value\": \"Start by mixing all the ingredients together.\",\n",
    "            \"html\": \"<ol>       <li>Start by mixing all the ingredients together.</li>     </ol>\"\n",
    "          }\n",
    "        ]\n",
    "      }\n",
    "    }\n",
    "  ]\n",
    "}"
   ]
  },
  {
   "cell_type": "markdown",
   "metadata": {},
   "source": [
    "The code above is an example that is taken from the https://microformats.org/wiki/h-recipe website. When we compare this to the Vegeterian Carbonara Recipe of Task 2, where we use https://schema.org/Recipe it seems like the schema.org format has way more information compared to the microformats.org h-recipe. Schema.org also has information on the total time, estimatedCost etc. which could be useful."
   ]
  }
 ],
 "metadata": {
  "colab": {
   "collapsed_sections": [],
   "name": "Hands-on_2_microformats.ipynb",
   "provenance": [],
   "toc_visible": true
  },
  "kernelspec": {
   "display_name": "Python 3 (ipykernel)",
   "language": "python",
   "name": "python3"
  },
  "language_info": {
   "codemirror_mode": {
    "name": "ipython",
    "version": 3
   },
   "file_extension": ".py",
   "mimetype": "text/x-python",
   "name": "python",
   "nbconvert_exporter": "python",
   "pygments_lexer": "ipython3",
   "version": "3.11.5"
  }
 },
 "nbformat": 4,
 "nbformat_minor": 4
}

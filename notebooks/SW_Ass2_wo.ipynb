{
 "cells": [
  {
   "cell_type": "markdown",
   "metadata": {
    "id": "dcMf4aubeMI9"
   },
   "source": [
    "*****************************************************************\n",
    "#  The Social Web: data representation\n",
    "- Instructors: Davide Ceolin, Emma Beauxis-Aussalet.\n",
    "- TAs: Zubaria Inayat, Maxim Sergeev, Zhuofan Mei, Alexander Schmatz, Ling Jin.\n",
    "- Exercises for Hands-on session 2\n",
    "*****************************************************************"
   ]
  },
  {
   "cell_type": "markdown",
   "metadata": {
    "id": "Zhts5HMzeMI-"
   },
   "source": [
    "In this session you are going to mine data in various microformats. You will see the differences in what each of the formats can contain and what purpose they serve. We will start by looking at geographical data.\n",
    "\n",
    "Prerequisites:\n",
    "- Python 3.8\n",
    "- Python packages: requests, BeautifulSoup4, HTMLParser, rdflib\n"
   ]
  },
  {
   "cell_type": "code",
   "execution_count": 1,
   "metadata": {
    "colab": {
     "base_uri": "https://localhost:8080/",
     "height": 204
    },
    "id": "6f-OtFPPeMJA",
    "outputId": "9bcb836f-4204-4fac-d133-99e81a0b2884"
   },
   "outputs": [
    {
     "name": "stdout",
     "output_type": "stream",
     "text": [
      "Requirement already satisfied: requests in c:\\users\\radua\\appdata\\local\\programs\\python\\python312\\lib\\site-packages (2.31.0)\n",
      "Requirement already satisfied: charset-normalizer<4,>=2 in c:\\users\\radua\\appdata\\local\\programs\\python\\python312\\lib\\site-packages (from requests) (3.3.2)\n",
      "Requirement already satisfied: idna<4,>=2.5 in c:\\users\\radua\\appdata\\local\\programs\\python\\python312\\lib\\site-packages (from requests) (3.4)\n",
      "Requirement already satisfied: urllib3<3,>=1.21.1 in c:\\users\\radua\\appdata\\local\\programs\\python\\python312\\lib\\site-packages (from requests) (2.0.7)\n",
      "Requirement already satisfied: certifi>=2017.4.17 in c:\\users\\radua\\appdata\\local\\programs\\python\\python312\\lib\\site-packages (from requests) (2023.7.22)\n",
      "Collecting BeautifulSoup4\n",
      "  Downloading beautifulsoup4-4.12.2-py3-none-any.whl (142 kB)\n",
      "     ---------------------------------------- 0.0/143.0 kB ? eta -:--:--\n",
      "     ---------- -------------------------- 41.0/143.0 kB 960.0 kB/s eta 0:00:01\n",
      "     -------------------------------------- 143.0/143.0 kB 2.8 MB/s eta 0:00:00\n",
      "Collecting soupsieve>1.2 (from BeautifulSoup4)\n",
      "  Downloading soupsieve-2.5-py3-none-any.whl.metadata (4.7 kB)\n",
      "Downloading soupsieve-2.5-py3-none-any.whl (36 kB)\n",
      "Installing collected packages: soupsieve, BeautifulSoup4\n",
      "Successfully installed BeautifulSoup4-4.12.2 soupsieve-2.5\n",
      "Collecting HTMLParser\n",
      "  Downloading HTMLParser-0.0.2.tar.gz (6.0 kB)\n",
      "  Installing build dependencies: started\n",
      "  Installing build dependencies: finished with status 'done'\n",
      "  Getting requirements to build wheel: started\n",
      "  Getting requirements to build wheel: finished with status 'done'\n",
      "  Preparing metadata (pyproject.toml): started\n",
      "  Preparing metadata (pyproject.toml): finished with status 'done'\n",
      "Building wheels for collected packages: HTMLParser\n",
      "  Building wheel for HTMLParser (pyproject.toml): started\n",
      "  Building wheel for HTMLParser (pyproject.toml): finished with status 'done'\n",
      "  Created wheel for HTMLParser: filename=HTMLParser-0.0.2-py3-none-any.whl size=5992 sha256=2107a170326f0d5110c97070c6f07c34f9d253c04aa94b2208ef88c8ea8c6d02\n",
      "  Stored in directory: c:\\users\\radua\\appdata\\local\\pip\\cache\\wheels\\74\\a1\\99\\1600ecf0fbe9733893198959ae158698835c8287f1cbe5f531\n",
      "Successfully built HTMLParser\n",
      "Installing collected packages: HTMLParser\n",
      "Successfully installed HTMLParser-0.0.2\n",
      "Collecting rdflib\n",
      "  Downloading rdflib-7.0.0-py3-none-any.whl.metadata (11 kB)\n",
      "Collecting isodate<0.7.0,>=0.6.0 (from rdflib)\n",
      "  Downloading isodate-0.6.1-py2.py3-none-any.whl (41 kB)\n",
      "     ---------------------------------------- 0.0/41.7 kB ? eta -:--:--\n",
      "     -------------------------------------- 41.7/41.7 kB 983.8 kB/s eta 0:00:00\n",
      "Requirement already satisfied: pyparsing<4,>=2.1.0 in c:\\users\\radua\\appdata\\local\\programs\\python\\python312\\lib\\site-packages (from rdflib) (3.1.1)\n",
      "Requirement already satisfied: six in c:\\users\\radua\\appdata\\local\\programs\\python\\python312\\lib\\site-packages (from isodate<0.7.0,>=0.6.0->rdflib) (1.16.0)\n",
      "Downloading rdflib-7.0.0-py3-none-any.whl (531 kB)\n",
      "   ---------------------------------------- 0.0/531.9 kB ? eta -:--:--\n",
      "   ----------------------------------- --- 481.3/531.9 kB 10.0 MB/s eta 0:00:01\n",
      "   --------------------------------------- 531.9/531.9 kB 11.1 MB/s eta 0:00:00\n",
      "Installing collected packages: isodate, rdflib\n",
      "Successfully installed isodate-0.6.1 rdflib-7.0.0\n",
      "Collecting cloudscraper\n",
      "  Downloading cloudscraper-1.2.71-py2.py3-none-any.whl (99 kB)\n",
      "     ---------------------------------------- 0.0/99.7 kB ? eta -:--:--\n",
      "     ------------ --------------------------- 30.7/99.7 kB 1.3 MB/s eta 0:00:01\n",
      "     ---------------------------------------- 99.7/99.7 kB 1.9 MB/s eta 0:00:00\n",
      "Requirement already satisfied: pyparsing>=2.4.7 in c:\\users\\radua\\appdata\\local\\programs\\python\\python312\\lib\\site-packages (from cloudscraper) (3.1.1)\n",
      "Requirement already satisfied: requests>=2.9.2 in c:\\users\\radua\\appdata\\local\\programs\\python\\python312\\lib\\site-packages (from cloudscraper) (2.31.0)\n",
      "Collecting requests-toolbelt>=0.9.1 (from cloudscraper)\n",
      "  Downloading requests_toolbelt-1.0.0-py2.py3-none-any.whl (54 kB)\n",
      "     ---------------------------------------- 0.0/54.5 kB ? eta -:--:--\n",
      "     ---------------------------------------- 54.5/54.5 kB ? eta 0:00:00\n",
      "Requirement already satisfied: charset-normalizer<4,>=2 in c:\\users\\radua\\appdata\\local\\programs\\python\\python312\\lib\\site-packages (from requests>=2.9.2->cloudscraper) (3.3.2)\n",
      "Requirement already satisfied: idna<4,>=2.5 in c:\\users\\radua\\appdata\\local\\programs\\python\\python312\\lib\\site-packages (from requests>=2.9.2->cloudscraper) (3.4)\n",
      "Requirement already satisfied: urllib3<3,>=1.21.1 in c:\\users\\radua\\appdata\\local\\programs\\python\\python312\\lib\\site-packages (from requests>=2.9.2->cloudscraper) (2.0.7)\n",
      "Requirement already satisfied: certifi>=2017.4.17 in c:\\users\\radua\\appdata\\local\\programs\\python\\python312\\lib\\site-packages (from requests>=2.9.2->cloudscraper) (2023.7.22)\n",
      "Installing collected packages: requests-toolbelt, cloudscraper\n",
      "Successfully installed cloudscraper-1.2.71 requests-toolbelt-1.0.0\n"
     ]
    }
   ],
   "source": [
    "# If you're using a virtualenv, make sure it's activated before running\n",
    "# this cell!\n",
    "!pip install requests\n",
    "!pip install BeautifulSoup4\n",
    "!pip install HTMLParser\n",
    "!pip install rdflib\n",
    "!pip install cloudscraper"
   ]
  },
  {
   "cell_type": "markdown",
   "metadata": {
    "id": "irPnmIK4eMJd"
   },
   "source": [
    "##  Exercise 1\n",
    "\n",
    "Even if web pages do not use microformat, interesting data can often be extracted from the HTML. You may use packages such as BeautifulSoup to extract arbitrary pieces of data from any HTML page.\n",
    "The example below shows how we can find the URL of first image in the infobox table of the wikipedia page on Amsterdam. Tip: compare the code below with HTML source code of the wikipedia page: the image url is in the \"src\" attribute of the \"img\" element of in the \"table\" element with class=\"infobox\"."
   ]
  },
  {
   "cell_type": "code",
   "execution_count": null,
   "metadata": {
    "colab": {
     "base_uri": "https://localhost:8080/",
     "height": 34
    },
    "id": "9gpHw90keMJf",
    "outputId": "7ae1fe64-8d85-4a47-cfdf-422284954d81"
   },
   "outputs": [],
   "source": [
    "# -*- coding: utf-8 -*-\n",
    "\n",
    "import requests\n",
    "from bs4 import BeautifulSoup\n",
    "\n",
    "# This script requires you to add a url of a page with geotags to the commandline, e.g.\n",
    "# python geo.py 'http://en.wikipedia.org/wiki/Amsterdam'\n",
    "URL = 'https://en.wikipedia.org/wiki/Amsterdam'\n",
    "\n",
    "req = requests.get(URL, headers={'User-Agent' : \"Social Web Course Student\"})\n",
    "soup = BeautifulSoup(req.text)\n",
    "# print(req.text)\n",
    "image1 = soup.findAll('table', class_='infobox')[0].find('img')\n",
    "print(image1['src'])  \n"
   ]
  },
  {
   "cell_type": "markdown",
   "metadata": {},
   "source": [
    "Extracting coordinates from a webpage and reformatting them in the geo microformat (based on Example 8-1 in Mining the Social Web). Note that wikipages may encode long/lat information in different ways. On of the ways used by the Amsterdam wikipedia page is in a span element that is not shown to the user: \n",
    "<span class=\"geo\">52.367; 4.900</span>\n",
    "This span element has a single child: len(geoTag == 1) and no further structure, we have to manually get the long/lat by splitting the string on the ';' semicolon."
   ]
  },
  {
   "cell_type": "code",
   "execution_count": null,
   "metadata": {
    "colab": {
     "base_uri": "https://localhost:8080/",
     "height": 34
    },
    "id": "LtHtQT9PeMJl",
    "outputId": "8a7f7b52-cdb2-409f-b3f0-ee7adf60a9f7"
   },
   "outputs": [],
   "source": [
    "\n",
    "geoTag = soup.find(True, 'geo')\n",
    "print(geoTag)\n",
    "\n",
    "if geoTag and len(geoTag) > 1:\n",
    "        lat = geoTag.find(True, 'latitude').string\n",
    "        lon = geoTag.find(True, 'longitude').string\n",
    "        print ('Location is at'), lat, lon\n",
    "elif geoTag and len(geoTag) == 1:\n",
    "        (lat, lon) = geoTag.string.split(';')\n",
    "        (lat, lon) = (lat.strip(), lon.strip())\n",
    "        print (('Location is at'), lat, lon)\n",
    "else:\n",
    "        print ('Location not found')\n"
   ]
  },
  {
   "cell_type": "markdown",
   "metadata": {
    "id": "8S_bXnjveMJp"
   },
   "source": [
    "### Task 1\n",
    "\n",
    "Can you convert the output of Exercise 1 into KML? Here is the KML documentation: https://developers.google.com/kml/documentation/?csw=1 and here you can find a simple example of how it is used: https://renenyffenegger.ch/notes/tools/Google-Earth/kml/index\n",
    "\n",
    "Visualise the point in Google Maps using the following code example: https://developers.google.com/maps/documentation/javascript/examples/layer-kml-features\n",
    "You will have to create your own KML file for the custom map layer, and provide a URL to the KML file inside the JavaScript code, which means that you have to upload the file somewhere. You can use a service like http://pastebin.com/ to obtain a URL for your KML file —> paste the code there and request the RAW format URL; use this one in this Task1. If it fails to work you can also use KML viewer websites like https://kmzview.com/.\n",
    "\n",
    "Is KML a microformat, why (not)?"
   ]
  },
  {
   "cell_type": "markdown",
   "metadata": {
    "id": "kUnka7EyeMJp"
   },
   "source": [
    "## Exercise 2 \n",
    "In order to find information in the web we can use microformats such as [hRecipe](https://microformats.org/wiki/hrecipe) or Schema.org's [Recipe](https://schema.org/Recipe). But first, we'll show you how to find arbitrary tags in a webpage.\n"
   ]
  },
  {
   "cell_type": "markdown",
   "metadata": {
    "id": "b0pBs-PVeMJq"
   },
   "source": [
    "### Task 2 \n",
    "Parsing data for a <sub><sup>veggie</sup></sub> spaghetti alla carbonara recipe (from Example 2-7 in Mining the Social Web)."
   ]
  },
  {
   "cell_type": "code",
   "execution_count": 2,
   "metadata": {
    "tags": []
   },
   "outputs": [],
   "source": [
    "import cloudscraper\n",
    "import json\n",
    "from bs4 import BeautifulSoup\n",
    "\n",
    "# A yummy webpage (feel free to change to your likings.)\n",
    "URL = \"https://www.acouplecooks.com/spring-vegetarian-spaghetti-carbonara\"\n",
    "\n",
    "# Create a CloudScraper object\n",
    "scraper = cloudscraper.create_scraper()\n",
    "\n",
    "# Use the CloudScraper object to fetch the HTML content\n",
    "response = scraper.get(URL)\n",
    "\n",
    "# Parse the HTML content with BeautifulSoup\n",
    "soup = BeautifulSoup(response.text, 'html.parser')\n",
    "\n",
    "# Now you can work with the 'soup' object as you did before\n",
    "listchildren = list(soup.children)\n",
    "#print(listchildren)\n"
   ]
  },
  {
   "cell_type": "markdown",
   "metadata": {
    "id": "IhdMwqykeMJt"
   },
   "source": [
    "We can find any element in the page through *css tag selectors*\n",
    "You can find them all [here](https://www.w3schools.com/cssref/css_selectors.asp), but shortly these are \".\" for classes, # for ids and plain text for the element name.\n",
    "\n",
    "\n",
    "You can also combine them, so that looking for \".class1.class2\" would select all elements displaying both classes. For a deeper overview please check the above link (or google \"html tag selectors\"). "
   ]
  },
  {
   "cell_type": "code",
   "execution_count": 3,
   "metadata": {
    "tags": []
   },
   "outputs": [
    {
     "name": "stdout",
     "output_type": "stream",
     "text": [
      "2\n",
      "<title>Vegetarian Carbonara – A Couple Cooks</title>\n"
     ]
    }
   ],
   "source": [
    "print(len(listchildren)) # we can see here how many children the html doc has got.\n",
    "title_unparsed = soup.select_one(\"title\")\n",
    "#show the title element\n",
    "print(title_unparsed)"
   ]
  },
  {
   "cell_type": "markdown",
   "metadata": {},
   "source": [
    "Not so pretty.... Use the text method."
   ]
  },
  {
   "cell_type": "code",
   "execution_count": 4,
   "metadata": {
    "tags": []
   },
   "outputs": [
    {
     "name": "stdout",
     "output_type": "stream",
     "text": [
      "Vegetarian Carbonara – A Couple Cooks\n"
     ]
    }
   ],
   "source": [
    "print(title_unparsed.text)"
   ]
  },
  {
   "cell_type": "markdown",
   "metadata": {},
   "source": [
    "The website has a block of JSON-LD data embedded. Try to see if you can find it in the soup object.\n",
    "We can load the JSON-LD script to work with it easier.\n",
    "Lets get a list of the ingredients."
   ]
  },
  {
   "cell_type": "code",
   "execution_count": 5,
   "metadata": {
    "tags": []
   },
   "outputs": [
    {
     "name": "stdout",
     "output_type": "stream",
     "text": [
      "1 pound spaghetti noodles\n",
      "½ cup smoked mozzarella cheese\n",
      "½ cup grated Parmesan cheese, plus more for serving\n",
      "4 egg yolks\n",
      "1 cup frozen Earthbound Farm Organic peas\n",
      "8 cups Earthbound Farm Organic spinach\n",
      "3 tablespoons butter\n",
      "Kosher salt\n",
      "Fresh ground black pepper\n"
     ]
    }
   ],
   "source": [
    "# Find the script tag containing the JSON-LD data\n",
    "json_ld_script = soup.find(\"script\", {\"class\": \"yoast-schema-graph\"})\n",
    "\n",
    "# Extract the content of the script tag\n",
    "script_content = json_ld_script.string\n",
    "\n",
    "# Load the JSON data from the script content\n",
    "data = json.loads(script_content)\n",
    "\n",
    "# Access the \"recipeIngredient\" list\n",
    "recipe_ingredients = data[\"@graph\"][7][\"recipeIngredient\"]\n",
    "\n",
    "# Print the list of ingredients\n",
    "for ingredient in recipe_ingredients:\n",
    "    print(ingredient)"
   ]
  },
  {
   "cell_type": "markdown",
   "metadata": {},
   "source": [
    "Lets also print out the instructions."
   ]
  },
  {
   "cell_type": "code",
   "execution_count": 6,
   "metadata": {
    "tags": []
   },
   "outputs": [
    {
     "name": "stdout",
     "output_type": "stream",
     "text": [
      "In a large pot, combine 6 quarts of water with 2 tablespoons kosher salt and bring it to a boil.\n",
      "Grate the Parmesan and mozzarella cheese. Carefully separate four egg yolks and set aside.\n",
      "Once boiling, add the pasta and cook until the pasta is just about al dente, about 7 minutes; then add peas and spinach and cook for 1 minute. Reserve 1 cup cooking water, and then drain the pasta and vegetables.\n",
      "In a skillet, melt the butter, then stir in the cheeses, ¼ cup pasta water, and ¼ teaspoon kosher salt. Stir in the pasta and vegetables until creamy over low heat, adding more pasta water if necessary (note that the mozzarella will stick together in some places).\n",
      "To serve, top each pasta serving with a whole egg yolk and additional Parmesan cheese, and stir the yolk into the pasta at the table (if you are uncomfortable serving egg yolks at the table, stir the egg yolks into the pasta in the skillet to heat them through). Serve immediately. (Note that the mozzarella cheese can become gummy the longer the pasta sits, so eat immediately if possible. Leftovers can be reheated in a skillet, but may not have the same creamy texture.)\n"
     ]
    }
   ],
   "source": [
    "recipe_instructions= data[\"@graph\"][7][\"recipeInstructions\"]\n",
    "#the instructions list contains dictionaries as elements, take a look at how the list is organized\n",
    "for step in recipe_instructions:\n",
    "    print(step[\"text\"])"
   ]
  },
  {
   "cell_type": "markdown",
   "metadata": {
    "tags": []
   },
   "source": [
    "Websites are going to be structured differently. Look at the following JSON-DL snippet."
   ]
  },
  {
   "cell_type": "code",
   "execution_count": 7,
   "metadata": {
    "tags": []
   },
   "outputs": [],
   "source": [
    "json_example = {\n",
    "    \"title\": \"The anarchist cookbook\",\n",
    "    \"recipeInstructions\": \"<ol class=\\\"recipeSteps\\\"><li>Cook the linguine according to the packet instructions. </li><li>Meanwhile, carefully crack the eggs into a small bowl and beat them with a fork. Season with a little black pepper, then stir in the ricotta finely grate in most of the lemon zest. </li><li>When the pasta has 3 minutes left, add the peas. Reserve a little cooking water, then drain the linguine and peas, and return to the pan. </li><li>Stir in the egg mixture and spinach with a wooden spoon – they'll cook gently in the residual heat. Add a little pasta water to loosen, if needed. </li><li>Share between bowls and serve with a green salad.</li></ol>\",\n",
    "    \"ingredients\": [\"a lot of effort\", \"the right mindset\"]\n",
    "}\n",
    "\n",
    "recipe_instructions = json_example[\"recipeInstructions\"]\n",
    "example_soup = BeautifulSoup(recipe_instructions, 'html.parser')"
   ]
  },
  {
   "cell_type": "code",
   "execution_count": 8,
   "metadata": {
    "tags": []
   },
   "outputs": [
    {
     "name": "stdout",
     "output_type": "stream",
     "text": [
      "['Cook the linguine according to the packet instructions.', 'Meanwhile, carefully crack the eggs into a small bowl and beat them with a fork. Season with a little black pepper, then stir in the ricotta finely grate in most of the lemon zest.', 'When the pasta has 3 minutes left, add the peas. Reserve a little cooking water, then drain the linguine and peas, and return to the pan.', \"Stir in the egg mixture and spinach with a wooden spoon – they'll cook gently in the residual heat. Add a little pasta water to loosen, if needed.\", 'Share between bowls and serve with a green salad.']\n"
     ]
    }
   ],
   "source": [
    "#to get a nice and clean list of the instructions, step by step\n",
    "#we can use the find method to get the first \"ol\" element with attribute \"class..\" and then use find_all to get all list elements in there\n",
    "#then we can strip the list items to obtain the instructions\n",
    "list_items = example_soup.find('ol', class_='recipeSteps').find_all('li')\n",
    "instructions = [item.get_text(strip=True) for item in list_items]\n",
    "print(instructions)"
   ]
  },
  {
   "cell_type": "markdown",
   "metadata": {
    "id": "RYb6WtXYeMJ6"
   },
   "source": [
    "## Task 2.1\n",
    "Now it's your turn. Create a function that can scrape any recipe webpage from the same website (other websites will have different class tags). \n",
    "\n",
    "Make sure to:\n",
    "\n",
    "- return itemized content (e.g. ingredients) in a list. You may want to use a list comprehension here.\n",
    "- Not all items have been cleaned of their html markdown (see variables ```ingredients``` vs. ```instructions_unparsed```. Make sure to return a list with human readable content (i.e. by using the ```.text``` attribute).\n"
   ]
  },
  {
   "cell_type": "code",
   "execution_count": 24,
   "metadata": {
    "tags": []
   },
   "outputs": [
    {
     "name": "stdout",
     "output_type": "stream",
     "text": [
      "{'name': 'Vegetarian Carbonara – A Couple Cooks', 'ingredients': [{'@type': 'Article', '@id': 'https://www.acouplecooks.com/spring-vegetarian-spaghetti-carbonara/#article', 'isPartOf': {'@id': 'https://www.acouplecooks.com/spring-vegetarian-spaghetti-carbonara/'}, 'author': {'name': 'Sonja Overhiser', '@id': 'https://www.acouplecooks.com/#/schema/person/d3a3c9869553a70f725f007b4656b09b'}, 'headline': 'Vegetarian Carbonara', 'datePublished': '2018-04-04T08:00:29+00:00', 'dateModified': '2021-12-05T02:15:20+00:00', 'wordCount': 804, 'commentCount': 12, 'publisher': {'@id': 'https://www.acouplecooks.com/#organization'}, 'image': {'@id': 'https://www.acouplecooks.com/spring-vegetarian-spaghetti-carbonara/#primaryimage'}, 'thumbnailUrl': 'https://www.acouplecooks.com/wp-content/uploads/2016/04/Spring-Vegetarian-Carbonara-003.jpg', 'keywords': ['Carbonara', 'Cheese', 'Earth', 'Earth-Saving', 'Easy', 'Mediterranean', 'Mozzarella', 'Parmesan', 'Pasta', 'Peas', 'Quick', 'Spaghetti', 'Spinach', 'Spring', 'Vegetarian', 'Weeknight Meal'], 'articleSection': ['Dinner Recipes', 'Fast Dinner Ideas', 'Recipes'], 'inLanguage': 'en-US', 'potentialAction': [{'@type': 'CommentAction', 'name': 'Comment', 'target': ['https://www.acouplecooks.com/spring-vegetarian-spaghetti-carbonara/#respond']}]}, {'@type': 'WebPage', '@id': 'https://www.acouplecooks.com/spring-vegetarian-spaghetti-carbonara/', 'url': 'https://www.acouplecooks.com/spring-vegetarian-spaghetti-carbonara/', 'name': 'Vegetarian Carbonara – A Couple Cooks', 'isPartOf': {'@id': 'https://www.acouplecooks.com/#website'}, 'primaryImageOfPage': {'@id': 'https://www.acouplecooks.com/spring-vegetarian-spaghetti-carbonara/#primaryimage'}, 'image': {'@id': 'https://www.acouplecooks.com/spring-vegetarian-spaghetti-carbonara/#primaryimage'}, 'thumbnailUrl': 'https://www.acouplecooks.com/wp-content/uploads/2016/04/Spring-Vegetarian-Carbonara-003.jpg', 'datePublished': '2018-04-04T08:00:29+00:00', 'dateModified': '2021-12-05T02:15:20+00:00', 'description': 'This vegetarian carbonara is quick and delicious; an egg yolk is stirred into the pasta to create a sauce, and smoked mozarella is used instead of bacon.', 'breadcrumb': {'@id': 'https://www.acouplecooks.com/spring-vegetarian-spaghetti-carbonara/#breadcrumb'}, 'inLanguage': 'en-US', 'potentialAction': [{'@type': 'ReadAction', 'target': ['https://www.acouplecooks.com/spring-vegetarian-spaghetti-carbonara/']}]}, {'@type': 'ImageObject', 'inLanguage': 'en-US', '@id': 'https://www.acouplecooks.com/spring-vegetarian-spaghetti-carbonara/#primaryimage', 'url': 'https://www.acouplecooks.com/wp-content/uploads/2016/04/Spring-Vegetarian-Carbonara-003.jpg', 'contentUrl': 'https://www.acouplecooks.com/wp-content/uploads/2016/04/Spring-Vegetarian-Carbonara-003.jpg', 'width': 700, 'height': 875}, {'@type': 'BreadcrumbList', '@id': 'https://www.acouplecooks.com/spring-vegetarian-spaghetti-carbonara/#breadcrumb', 'itemListElement': [{'@type': 'ListItem', 'position': 1, 'name': 'Home', 'item': 'https://www.acouplecooks.com/'}, {'@type': 'ListItem', 'position': 2, 'name': 'Recipes', 'item': 'https://www.acouplecooks.com/category/recipes/'}, {'@type': 'ListItem', 'position': 3, 'name': 'Fast Dinner Ideas', 'item': 'https://www.acouplecooks.com/category/recipes/fast-dinner-ideas/'}, {'@type': 'ListItem', 'position': 4, 'name': 'Vegetarian Carbonara'}]}, {'@type': 'WebSite', '@id': 'https://www.acouplecooks.com/#website', 'url': 'https://www.acouplecooks.com/', 'name': 'A Couple Cooks', 'description': 'Recipes worth repeating.', 'publisher': {'@id': 'https://www.acouplecooks.com/#organization'}, 'potentialAction': [{'@type': 'SearchAction', 'target': {'@type': 'EntryPoint', 'urlTemplate': 'https://www.acouplecooks.com/?s={search_term_string}'}, 'query-input': 'required name=search_term_string'}], 'inLanguage': 'en-US'}, {'@type': 'Organization', '@id': 'https://www.acouplecooks.com/#organization', 'name': 'A Couple Cooks', 'url': 'https://www.acouplecooks.com/', 'logo': {'@type': 'ImageObject', 'inLanguage': 'en-US', '@id': 'https://www.acouplecooks.com/#/schema/logo/image/', 'url': 'https://www.acouplecooks.com/wp-content/uploads/2021/06/social.jpg', 'contentUrl': 'https://www.acouplecooks.com/wp-content/uploads/2021/06/social.jpg', 'width': 1200, 'height': 630, 'caption': 'A Couple Cooks'}, 'image': {'@id': 'https://www.acouplecooks.com/#/schema/logo/image/'}, 'sameAs': ['https://www.facebook.com/groups/193375798111474/', 'https://twitter.com/acouplecooks', 'https://www.instagram.com/acouplecooks/', 'https://www.pinterest.com/acouplecooks/', 'https://www.youtube.com/aCoupleCooksTV']}, {'@type': 'Person', '@id': 'https://www.acouplecooks.com/#/schema/person/d3a3c9869553a70f725f007b4656b09b', 'name': 'Sonja Overhiser', 'image': {'@type': 'ImageObject', 'inLanguage': 'en-US', '@id': 'https://www.acouplecooks.com/#/schema/person/image/', 'url': 'https://www.acouplecooks.com/wp-includes/images/blank.gif', 'contentUrl': 'https://www.acouplecooks.com/wp-includes/images/blank.gif', 'caption': 'Sonja Overhiser'}, 'sameAs': ['https://www.facebook.com/aCoupleCooks'], 'url': 'https://www.acouplecooks.com/author/skuhnau/'}, {'@context': 'https://schema.org/', '@type': 'Recipe', 'name': 'Vegetarian Carbonara', 'description': 'This vegetarian carbonara is quick and delicious; an egg yolk is stirred into the pasta to create a sauce, and smoked mozarella is used instead of bacon.', 'author': {'@type': 'Person', 'name': 'a Couple Cooks', 'url': 'https://www.acouplecooks.com/about/'}, 'keywords': 'vegetarian carbonara, vegetarian pasta recipe', 'image': ['https://www.acouplecooks.com/wp-content/uploads/2016/04/Spring-Vegetarian-Carbonara-001-225x225.jpg', 'https://www.acouplecooks.com/wp-content/uploads/2016/04/Spring-Vegetarian-Carbonara-001-260x195.jpg', 'https://www.acouplecooks.com/wp-content/uploads/2016/04/Spring-Vegetarian-Carbonara-001-320x180.jpg', 'https://www.acouplecooks.com/wp-content/uploads/2016/04/Spring-Vegetarian-Carbonara-001.jpg'], 'url': 'https://www.acouplecooks.com/spring-vegetarian-spaghetti-carbonara/', 'recipeIngredient': ['1 pound spaghetti noodles', '½ cup smoked mozzarella cheese', '½ cup grated Parmesan cheese, plus more for serving', '4 egg yolks', '1 cup frozen Earthbound Farm Organic peas', '8 cups Earthbound Farm Organic spinach', '3 tablespoons butter', 'Kosher salt', 'Fresh ground black pepper'], 'recipeInstructions': [{'@type': 'HowToStep', 'text': 'In a large pot, combine 6 quarts of water with 2 tablespoons kosher salt and bring it to a boil.', 'url': 'https://www.acouplecooks.com/spring-vegetarian-spaghetti-carbonara/#instruction-step-1'}, {'@type': 'HowToStep', 'text': 'Grate the Parmesan and mozzarella cheese. Carefully separate four egg yolks and set aside.', 'url': 'https://www.acouplecooks.com/spring-vegetarian-spaghetti-carbonara/#instruction-step-2'}, {'@type': 'HowToStep', 'text': 'Once boiling, add the pasta and cook until the pasta is just about al dente, about 7 minutes; then add peas and spinach and cook for 1 minute. Reserve 1 cup cooking water, and then drain the pasta and vegetables.', 'url': 'https://www.acouplecooks.com/spring-vegetarian-spaghetti-carbonara/#instruction-step-3'}, {'@type': 'HowToStep', 'text': 'In a skillet, melt the butter, then stir in the cheeses, ¼ cup pasta water, and ¼ teaspoon kosher salt. Stir in the pasta and vegetables until creamy over low heat, adding more pasta water if necessary (note that the mozzarella will stick together in some places).', 'url': 'https://www.acouplecooks.com/spring-vegetarian-spaghetti-carbonara/#instruction-step-4'}, {'@type': 'HowToStep', 'text': 'To serve, top each pasta serving with a whole egg yolk and additional Parmesan cheese, and stir the yolk into the pasta at the table (if you are uncomfortable serving egg yolks at the table, stir the egg yolks into the pasta in the skillet to heat them through). Serve immediately. (Note that the mozzarella cheese can become gummy the longer the pasta sits, so eat immediately if possible. Leftovers can be reheated in a skillet, but may not have the same creamy texture.)', 'url': 'https://www.acouplecooks.com/spring-vegetarian-spaghetti-carbonara/#instruction-step-5'}], 'prepTime': 'PT15M', 'cookTime': 'PT10M', 'totalTime': 'PT25M', 'recipeYield': '4', 'recipeCategory': 'Main Dish', 'cookingMethod': 'Stovetop', 'recipeCuisine': 'Italian', 'aggregateRating': {'@type': 'AggregateRating', 'reviewCount': '1', 'ratingValue': '5'}, 'datePublished': '2018-04-04', '@id': 'https://www.acouplecooks.com/spring-vegetarian-spaghetti-carbonara/#recipe', 'isPartOf': {'@id': 'https://www.acouplecooks.com/spring-vegetarian-spaghetti-carbonara/#article'}, 'mainEntityOfPage': 'https://www.acouplecooks.com/spring-vegetarian-spaghetti-carbonara/'}], 'instructions': ['In a large pot, combine 6 quarts of water with 2 tablespoons kosher salt and bring it to a boil.', 'Grate the Parmesan and mozzarella cheese. Carefully separate four egg yolks and set aside.', 'Once boiling, add the pasta and cook until the pasta is just about al dente, about 7 minutes; then add peas and spinach and cook for 1 minute. Reserve 1 cup cooking water, and then drain the pasta and vegetables.', 'In a skillet, melt the butter, then stir in the cheeses, ¼ cup pasta water, and ¼ teaspoon kosher salt. Stir in the pasta and vegetables until creamy over low heat, adding more pasta water if necessary (note that the mozzarella will stick together in some places).', 'To serve, top each pasta serving with a whole egg yolk and additional Parmesan cheese, and stir the yolk into the pasta at the table (if you are uncomfortable serving egg yolks at the table, stir the egg yolks into the pasta in the skillet to heat them through). Serve immediately. (Note that the mozzarella cheese can become gummy the longer the pasta sits, so eat immediately if possible. Leftovers can be reheated in a skillet, but may not have the same creamy texture.)']}\n"
     ]
    }
   ],
   "source": [
    "#Here you can see the solution for our example website\n",
    "\n",
    "URL = \"https://www.acouplecooks.com/spring-vegetarian-spaghetti-carbonara\"\n",
    "\n",
    "def parse_website(url):\n",
    "    # Create a CloudScraper object\n",
    "    scraper = cloudscraper.create_scraper()\n",
    "\n",
    "    # Use the CloudScraper object to fetch the HTML content\n",
    "    response = scraper.get(URL)\n",
    "\n",
    "    # Parse the HTML content with BeautifulSoup\n",
    "    soup = BeautifulSoup(response.text, 'html.parser')\n",
    "    \n",
    "    #Get the title\n",
    "    title_unparsed = soup.select_one(\"title\")\n",
    "    fn = title_unparsed.text\n",
    "    \n",
    "    json_ld_script = soup.find(\"script\", {\"class\": \"yoast-schema-graph\"})\n",
    "\n",
    "    # Extract the content of the script tag\n",
    "    script_content = json_ld_script.string\n",
    "\n",
    "    # Load the JSON data from the script content\n",
    "    data = json.loads(script_content)\n",
    "\n",
    "    # Access the \"recipeIngredient\" list\n",
    "    recipe_ingredients = data[\"@graph\"]\n",
    "    \n",
    "    ingredients = [ingredient for ingredient in recipe_ingredients]\n",
    "    \n",
    "    #Access the instructions\n",
    "    recipe_instructions= data[\"@graph\"][7][\"recipeInstructions\"]\n",
    "    #the instructions list contains dictionaries as elements, take a look at how the list is organized\n",
    "    instructions = [step[\"text\"] for step in recipe_instructions]\n",
    "\n",
    "    return {'name': fn,\n",
    "            'ingredients': ingredients,\n",
    "            'instructions': instructions,\n",
    "            }\n",
    "    \n",
    "recipe = parse_website(URL)\n",
    "print (recipe)\n",
    "        "
   ]
  },
  {
   "cell_type": "code",
   "execution_count": 21,
   "metadata": {
    "colab": {
     "base_uri": "https://localhost:8080/",
     "height": 54
    },
    "id": "UQu9ecLEeMJ6",
    "outputId": "a8aa0e14-a8fb-4279-cf32-8dca97ab3412"
   },
   "outputs": [
    {
     "name": "stdout",
     "output_type": "stream",
     "text": [
      "{'name': 'Vegetarian carbonara recipe | Jamie Oliver pasta recipes', 'ingredients': ['400 g dried linguine ', '4 large free-range eggs ', '2 tablespoons soft ricotta cheese  ', '1  lemon ', '100 g fresh or frozen peas  ', '100 g baby spinach  '], 'instructions': ['Cook the linguine according to the packet instructions.', 'Meanwhile, carefully crack the eggs into a small bowl and beat them with a fork. Season with a little black pepper, then stir in the ricotta finely grate in most of the lemon zest.', 'When the pasta has 3 minutes left, add the peas. Reserve a little cooking water, then drain the linguine and peas, and return to the pan.', \"Stir in the egg mixture and spinach with a wooden spoon – they'll cook gently in the residual heat. Add a little pasta water to loosen, if needed.\", 'Share between bowls and serve with a green salad.']}\n"
     ]
    }
   ],
   "source": [
    "# -*- coding: utf-8 -*-\n",
    "\n",
    "import cloudscraper\n",
    "import json\n",
    "from bs4 import BeautifulSoup\n",
    "\n",
    "# Pass in a URL containing hRecipe, such as\n",
    "# https://www.jamieoliver.com/recipes/pasta-recipes/veggie-carbonara/\n",
    "\n",
    "URL = \"https://www.jamieoliver.com/recipes/pasta-recipes/veggie-carbonara/\"\n",
    "\n",
    "# Parse out some of the pertinent information for a recipe.\n",
    "# See http://microformats.org/wiki/hrecipe.\n",
    "\n",
    "#Solution for jamie oliver\n",
    "def parse_website(url):\n",
    "    # Create a CloudScraper object\n",
    "    scraper = cloudscraper.create_scraper()\n",
    "\n",
    "    # Use the CloudScraper object to fetch the HTML content\n",
    "    response = scraper.get(url)\n",
    "\n",
    "    # Parse the HTML content with BeautifulSoup\n",
    "    soup = BeautifulSoup(response.text, 'html.parser')\n",
    "    \n",
    "    #Get the title\n",
    "    title_unparsed = soup.select_one(\"title\")\n",
    "    fn = title_unparsed.text\n",
    "    \n",
    "    json_ld_script = soup.find(\"script\", {'type':'application/ld+json'})\n",
    "\n",
    "    # Extract the content of the script tag\n",
    "    script_content = json_ld_script.string\n",
    "\n",
    "    # Load the JSON data from the script content\n",
    "    data = json.loads(script_content)\n",
    "\n",
    "    # Access the \"recipeIngredient\" list\n",
    "    recipe_ingredients = data[\"recipeIngredient\"]\n",
    "    \n",
    "    ingredients = [ingredient for ingredient in recipe_ingredients]\n",
    "    \n",
    "    #Access the instructions\n",
    "    recipe_instructions= data[\"recipeInstructions\"]\n",
    "    \n",
    "    list_items = example_soup.find('ol')\n",
    "    instructions = [item.get_text(strip=True) for item in list_items]\n",
    "    \n",
    "    #the instructions list contains dictionaries as elements, take a look at how the list is organized\n",
    "    # instructions = [step[\"text\"] for step in recipe_instructions]\n",
    "\n",
    "    return {\n",
    "            'name': fn,\n",
    "            'ingredients': ingredients,\n",
    "            'instructions': instructions,\n",
    "            }\n",
    "    \n",
    "recipe = parse_website(URL)\n",
    "print (recipe)"
   ]
  },
  {
   "cell_type": "markdown",
   "metadata": {
    "id": "ccURluAIeMJ8"
   },
   "source": [
    "But How can we get information not only from one website,  but from all? \n",
    "\n",
    "The answer: microformats.\n",
    "\n",
    "But rather than extracting with information manually from the schema.org or hRecipe microformats, we can use a package, ```scrape-schema-recipe``` \n",
    "\n",
    "Feel free to experiment with it. "
   ]
  },
  {
   "cell_type": "markdown",
   "metadata": {
    "id": "EBY-y_GreMJ8"
   },
   "source": [
    "### Task 2.2\n",
    "hRecipe is a microformat specifically created for recipes.\n",
    "Can you for example easily compare different dessert recipe ingredients? For inspiration you can look back at the exercises you did in Hands-on session 1 where you compared different sets of tweets."
   ]
  },
  {
   "cell_type": "code",
   "execution_count": 29,
   "metadata": {
    "tags": []
   },
   "outputs": [
    {
     "name": "stdout",
     "output_type": "stream",
     "text": [
      "Requirement already satisfied: scrape-schema-recipe in c:\\users\\radua\\appdata\\local\\programs\\python\\python312\\lib\\site-packages (0.2.2)\n",
      "Requirement already satisfied: setuptools>=39.2.0 in c:\\users\\radua\\appdata\\local\\programs\\python\\python312\\lib\\site-packages (from scrape-schema-recipe) (68.2.2)\n",
      "Requirement already satisfied: extruct in c:\\users\\radua\\appdata\\local\\programs\\python\\python312\\lib\\site-packages (from scrape-schema-recipe) (0.16.0)\n",
      "Requirement already satisfied: isodate>=0.5.1 in c:\\users\\radua\\appdata\\local\\programs\\python\\python312\\lib\\site-packages (from scrape-schema-recipe) (0.6.1)\n",
      "Requirement already satisfied: requests in c:\\users\\radua\\appdata\\local\\programs\\python\\python312\\lib\\site-packages (from scrape-schema-recipe) (2.31.0)\n",
      "Requirement already satisfied: six in c:\\users\\radua\\appdata\\local\\programs\\python\\python312\\lib\\site-packages (from isodate>=0.5.1->scrape-schema-recipe) (1.16.0)\n",
      "Requirement already satisfied: lxml in c:\\users\\radua\\appdata\\local\\programs\\python\\python312\\lib\\site-packages (from extruct->scrape-schema-recipe) (4.9.3)\n",
      "Requirement already satisfied: pyrdfa3 in c:\\users\\radua\\appdata\\local\\programs\\python\\python312\\lib\\site-packages (from extruct->scrape-schema-recipe) (3.5.3)\n",
      "Requirement already satisfied: mf2py in c:\\users\\radua\\appdata\\local\\programs\\python\\python312\\lib\\site-packages (from extruct->scrape-schema-recipe) (1.1.3)\n",
      "Requirement already satisfied: w3lib in c:\\users\\radua\\appdata\\local\\programs\\python\\python312\\lib\\site-packages (from extruct->scrape-schema-recipe) (2.1.2)\n",
      "Requirement already satisfied: html-text>=0.5.1 in c:\\users\\radua\\appdata\\local\\programs\\python\\python312\\lib\\site-packages (from extruct->scrape-schema-recipe) (0.5.2)\n",
      "Requirement already satisfied: jstyleson in c:\\users\\radua\\appdata\\local\\programs\\python\\python312\\lib\\site-packages (from extruct->scrape-schema-recipe) (0.0.2)\n",
      "Requirement already satisfied: rdflib>=6.0.0 in c:\\users\\radua\\appdata\\local\\programs\\python\\python312\\lib\\site-packages (from extruct->scrape-schema-recipe) (7.0.0)\n",
      "Requirement already satisfied: charset-normalizer<4,>=2 in c:\\users\\radua\\appdata\\local\\programs\\python\\python312\\lib\\site-packages (from requests->scrape-schema-recipe) (3.3.2)\n",
      "Requirement already satisfied: idna<4,>=2.5 in c:\\users\\radua\\appdata\\local\\programs\\python\\python312\\lib\\site-packages (from requests->scrape-schema-recipe) (3.4)\n",
      "Requirement already satisfied: urllib3<3,>=1.21.1 in c:\\users\\radua\\appdata\\local\\programs\\python\\python312\\lib\\site-packages (from requests->scrape-schema-recipe) (2.0.7)\n",
      "Requirement already satisfied: certifi>=2017.4.17 in c:\\users\\radua\\appdata\\local\\programs\\python\\python312\\lib\\site-packages (from requests->scrape-schema-recipe) (2023.7.22)\n",
      "Requirement already satisfied: pyparsing<4,>=2.1.0 in c:\\users\\radua\\appdata\\local\\programs\\python\\python312\\lib\\site-packages (from rdflib>=6.0.0->extruct->scrape-schema-recipe) (3.1.1)\n",
      "Requirement already satisfied: html5lib>=1.0.1 in c:\\users\\radua\\appdata\\local\\programs\\python\\python312\\lib\\site-packages (from mf2py->extruct->scrape-schema-recipe) (1.1)\n",
      "Requirement already satisfied: BeautifulSoup4>=4.6.0 in c:\\users\\radua\\appdata\\local\\programs\\python\\python312\\lib\\site-packages (from mf2py->extruct->scrape-schema-recipe) (4.12.2)\n",
      "Requirement already satisfied: soupsieve>1.2 in c:\\users\\radua\\appdata\\local\\programs\\python\\python312\\lib\\site-packages (from BeautifulSoup4>=4.6.0->mf2py->extruct->scrape-schema-recipe) (2.5)\n",
      "Requirement already satisfied: webencodings in c:\\users\\radua\\appdata\\local\\programs\\python\\python312\\lib\\site-packages (from html5lib>=1.0.1->mf2py->extruct->scrape-schema-recipe) (0.5.1)\n"
     ]
    },
    {
     "ename": "ModuleNotFoundError",
     "evalue": "No module named 'imp'",
     "output_type": "error",
     "traceback": [
      "\u001b[1;31m---------------------------------------------------------------------------\u001b[0m",
      "\u001b[1;31mModuleNotFoundError\u001b[0m                       Traceback (most recent call last)",
      "\u001b[1;32mc:\\Users\\radua\\VU_Ams\\MSc\\P2\\SW\\vu_social_web_course\\notebooks\\SW_Ass2_wo.ipynb Cell 28\u001b[0m line \u001b[0;36m2\n\u001b[0;32m      <a href='vscode-notebook-cell:/c%3A/Users/radua/VU_Ams/MSc/P2/SW/vu_social_web_course/notebooks/SW_Ass2_wo.ipynb#X36sZmlsZQ%3D%3D?line=0'>1</a>\u001b[0m get_ipython()\u001b[39m.\u001b[39msystem(\u001b[39m'\u001b[39m\u001b[39mpip install scrape-schema-recipe\u001b[39m\u001b[39m'\u001b[39m)\n\u001b[1;32m----> <a href='vscode-notebook-cell:/c%3A/Users/radua/VU_Ams/MSc/P2/SW/vu_social_web_course/notebooks/SW_Ass2_wo.ipynb#X36sZmlsZQ%3D%3D?line=1'>2</a>\u001b[0m \u001b[39mimport\u001b[39;00m \u001b[39mscrape_schema_recipe\u001b[39;00m\n\u001b[0;32m      <a href='vscode-notebook-cell:/c%3A/Users/radua/VU_Ams/MSc/P2/SW/vu_social_web_course/notebooks/SW_Ass2_wo.ipynb#X36sZmlsZQ%3D%3D?line=3'>4</a>\u001b[0m url \u001b[39m=\u001b[39m \u001b[39m'\u001b[39m\u001b[39mhttps://www.foodnetwork.com/recipes/alton-brown/honey-mustard-dressing-recipe-1939031\u001b[39m\u001b[39m'\u001b[39m\n\u001b[0;32m      <a href='vscode-notebook-cell:/c%3A/Users/radua/VU_Ams/MSc/P2/SW/vu_social_web_course/notebooks/SW_Ass2_wo.ipynb#X36sZmlsZQ%3D%3D?line=4'>5</a>\u001b[0m recipe_list \u001b[39m=\u001b[39m scrape_schema_recipe\u001b[39m.\u001b[39mscrape_url(url, python_objects\u001b[39m=\u001b[39m\u001b[39mTrue\u001b[39;00m)\n",
      "File \u001b[1;32mc:\\Users\\radua\\AppData\\Local\\Programs\\Python\\Python312\\Lib\\site-packages\\scrape_schema_recipe\\__init__.py:17\u001b[0m\n\u001b[0;32m      1\u001b[0m \u001b[39m#\u001b[39;00m\n\u001b[0;32m      2\u001b[0m \u001b[39m# Copyright 2018 Micah Cochran\u001b[39;00m\n\u001b[0;32m      3\u001b[0m \u001b[39m#\u001b[39;00m\n\u001b[1;32m   (...)\u001b[0m\n\u001b[0;32m     14\u001b[0m \u001b[39m# limitations under the License.\u001b[39;00m\n\u001b[0;32m     15\u001b[0m \u001b[39m#\u001b[39;00m\n\u001b[1;32m---> 17\u001b[0m \u001b[39mfrom\u001b[39;00m \u001b[39m.\u001b[39;00m\u001b[39mscrape\u001b[39;00m \u001b[39mimport\u001b[39;00m __version__, load, loads, scrape, scrape_url, SSRTypeError\n\u001b[0;32m     18\u001b[0m \u001b[39mfrom\u001b[39;00m \u001b[39m.\u001b[39;00m\u001b[39mexample_output\u001b[39;00m \u001b[39mimport\u001b[39;00m example_names, example_output\n",
      "File \u001b[1;32mc:\\Users\\radua\\AppData\\Local\\Programs\\Python\\Python312\\Lib\\site-packages\\scrape_schema_recipe\\scrape.py:27\u001b[0m\n\u001b[0;32m     24\u001b[0m \u001b[39mfrom\u001b[39;00m \u001b[39mtyping\u001b[39;00m \u001b[39mimport\u001b[39;00m Any, Callable, Dict, IO, List, Optional, Tuple, Union\n\u001b[0;32m     26\u001b[0m \u001b[39m# external libraries\u001b[39;00m\n\u001b[1;32m---> 27\u001b[0m \u001b[39mimport\u001b[39;00m \u001b[39mextruct\u001b[39;00m\n\u001b[0;32m     28\u001b[0m \u001b[39mimport\u001b[39;00m \u001b[39misodate\u001b[39;00m\n\u001b[0;32m     29\u001b[0m \u001b[39mimport\u001b[39;00m \u001b[39mrequests\u001b[39;00m\n",
      "File \u001b[1;32mc:\\Users\\radua\\AppData\\Local\\Programs\\Python\\Python312\\Lib\\site-packages\\extruct\\__init__.py:1\u001b[0m\n\u001b[1;32m----> 1\u001b[0m \u001b[39mfrom\u001b[39;00m \u001b[39m.\u001b[39;00m\u001b[39m_extruct\u001b[39;00m \u001b[39mimport\u001b[39;00m SYNTAXES, extract\n\u001b[0;32m      2\u001b[0m \u001b[39mfrom\u001b[39;00m \u001b[39m.\u001b[39;00m\u001b[39mjsonld\u001b[39;00m \u001b[39mimport\u001b[39;00m JsonLdExtractor\n\u001b[0;32m      3\u001b[0m \u001b[39mfrom\u001b[39;00m \u001b[39m.\u001b[39;00m\u001b[39mmicroformat\u001b[39;00m \u001b[39mimport\u001b[39;00m MicroformatExtractor\n",
      "File \u001b[1;32mc:\\Users\\radua\\AppData\\Local\\Programs\\Python\\Python312\\Lib\\site-packages\\extruct\\_extruct.py:13\u001b[0m\n\u001b[0;32m     11\u001b[0m \u001b[39mfrom\u001b[39;00m \u001b[39mextruct\u001b[39;00m\u001b[39m.\u001b[39;00m\u001b[39mmicroformat\u001b[39;00m \u001b[39mimport\u001b[39;00m MicroformatExtractor\n\u001b[0;32m     12\u001b[0m \u001b[39mfrom\u001b[39;00m \u001b[39mextruct\u001b[39;00m\u001b[39m.\u001b[39;00m\u001b[39mopengraph\u001b[39;00m \u001b[39mimport\u001b[39;00m OpenGraphExtractor\n\u001b[1;32m---> 13\u001b[0m \u001b[39mfrom\u001b[39;00m \u001b[39mextruct\u001b[39;00m\u001b[39m.\u001b[39;00m\u001b[39mrdfa\u001b[39;00m \u001b[39mimport\u001b[39;00m RDFaExtractor\n\u001b[0;32m     14\u001b[0m \u001b[39mfrom\u001b[39;00m \u001b[39mextruct\u001b[39;00m\u001b[39m.\u001b[39;00m\u001b[39muniform\u001b[39;00m \u001b[39mimport\u001b[39;00m _udublincore, _umicrodata_microformat, _uopengraph\n\u001b[0;32m     15\u001b[0m \u001b[39mfrom\u001b[39;00m \u001b[39mextruct\u001b[39;00m\u001b[39m.\u001b[39;00m\u001b[39mutils\u001b[39;00m \u001b[39mimport\u001b[39;00m parse_html, parse_xmldom_html\n",
      "File \u001b[1;32mc:\\Users\\radua\\AppData\\Local\\Programs\\Python\\Python312\\Lib\\site-packages\\extruct\\rdfa.py:16\u001b[0m\n\u001b[0;32m     13\u001b[0m rdflib_logger \u001b[39m=\u001b[39m logging\u001b[39m.\u001b[39mgetLogger(\u001b[39m\"\u001b[39m\u001b[39mrdflib\u001b[39m\u001b[39m\"\u001b[39m)\n\u001b[0;32m     14\u001b[0m rdflib_logger\u001b[39m.\u001b[39msetLevel(logging\u001b[39m.\u001b[39mERROR)\n\u001b[1;32m---> 16\u001b[0m \u001b[39mfrom\u001b[39;00m \u001b[39mpyRdfa\u001b[39;00m \u001b[39mimport\u001b[39;00m Options\n\u001b[0;32m     17\u001b[0m \u001b[39mfrom\u001b[39;00m \u001b[39mpyRdfa\u001b[39;00m \u001b[39mimport\u001b[39;00m pyRdfa \u001b[39mas\u001b[39;00m PyRdfa\n\u001b[0;32m     18\u001b[0m \u001b[39mfrom\u001b[39;00m \u001b[39mpyRdfa\u001b[39;00m\u001b[39m.\u001b[39;00m\u001b[39minitialcontext\u001b[39;00m \u001b[39mimport\u001b[39;00m initial_context\n",
      "File \u001b[1;32mc:\\Users\\radua\\AppData\\Local\\Programs\\Python\\Python312\\Lib\\site-packages\\pyRdfa\\__init__.py:295\u001b[0m\n\u001b[0;32m    291\u001b[0m err_unusual_char_in_URI             \u001b[39m=\u001b[39m \u001b[39m\"\u001b[39m\u001b[39mUnusual character in uri: \u001b[39m\u001b[39m%s\u001b[39;00m\u001b[39m; possible error?\u001b[39m\u001b[39m\"\u001b[39m\n\u001b[0;32m    293\u001b[0m \u001b[39m#############################################################################################\u001b[39;00m\n\u001b[1;32m--> 295\u001b[0m \u001b[39mfrom\u001b[39;00m \u001b[39m.\u001b[39;00m\u001b[39mstate\u001b[39;00m            \u001b[39mimport\u001b[39;00m ExecutionContext\n\u001b[0;32m    296\u001b[0m \u001b[39mfrom\u001b[39;00m \u001b[39m.\u001b[39;00m\u001b[39mparse\u001b[39;00m            \u001b[39mimport\u001b[39;00m parse_one_node\n\u001b[0;32m    297\u001b[0m \u001b[39mfrom\u001b[39;00m \u001b[39m.\u001b[39;00m\u001b[39moptions\u001b[39;00m          \u001b[39mimport\u001b[39;00m Options\n",
      "File \u001b[1;32mc:\\Users\\radua\\AppData\\Local\\Programs\\Python\\Python312\\Lib\\site-packages\\pyRdfa\\state.py:39\u001b[0m\n\u001b[0;32m     36\u001b[0m \t\u001b[39mfrom\u001b[39;00m \u001b[39mrdflib\u001b[39;00m\u001b[39m.\u001b[39;00m\u001b[39mRDF\u001b[39;00m\t\t\u001b[39mimport\u001b[39;00m RDFNS  \u001b[39mas\u001b[39;00m ns_rdf\n\u001b[0;32m     38\u001b[0m \u001b[39mfrom\u001b[39;00m \u001b[39m.\u001b[39;00m\u001b[39moptions\u001b[39;00m\t\u001b[39mimport\u001b[39;00m Options\n\u001b[1;32m---> 39\u001b[0m \u001b[39mfrom\u001b[39;00m \u001b[39m.\u001b[39;00m\u001b[39mutils\u001b[39;00m \t\u001b[39mimport\u001b[39;00m quote_URI\n\u001b[0;32m     40\u001b[0m \u001b[39mfrom\u001b[39;00m \u001b[39m.\u001b[39;00m\u001b[39mhost\u001b[39;00m \t\t\u001b[39mimport\u001b[39;00m HostLanguage, accept_xml_base, accept_xml_lang, beautifying_prefixes\n\u001b[0;32m     42\u001b[0m \u001b[39mfrom\u001b[39;00m \u001b[39m.\u001b[39;00m\u001b[39mtermorcurie\u001b[39;00m\t\u001b[39mimport\u001b[39;00m TermOrCurie\n",
      "File \u001b[1;32mc:\\Users\\radua\\AppData\\Local\\Programs\\Python\\Python312\\Lib\\site-packages\\pyRdfa\\utils.py:19\u001b[0m\n\u001b[0;32m      2\u001b[0m \u001b[39m\"\"\"\u001b[39;00m\n\u001b[0;32m      3\u001b[0m \u001b[39mVarious utilities for pyRdfa.\u001b[39;00m\n\u001b[0;32m      4\u001b[0m \n\u001b[1;32m   (...)\u001b[0m\n\u001b[0;32m     12\u001b[0m \n\u001b[0;32m     13\u001b[0m \u001b[39m\"\"\"\u001b[39;00m\n\u001b[0;32m     15\u001b[0m \u001b[39m\"\"\"\u001b[39;00m\n\u001b[0;32m     16\u001b[0m \u001b[39m$Id: utils.py,v 1.18 2016/12/08 10:13:34 ivan Exp $\u001b[39;00m\n\u001b[0;32m     17\u001b[0m \u001b[39m$Date: 2016/12/08 10:13:34 $\u001b[39;00m\n\u001b[0;32m     18\u001b[0m \u001b[39m\"\"\"\u001b[39;00m\n\u001b[1;32m---> 19\u001b[0m \u001b[39mimport\u001b[39;00m \u001b[39mos\u001b[39;00m\u001b[39m,\u001b[39m \u001b[39mos\u001b[39;00m\u001b[39m.\u001b[39;00m\u001b[39mpath\u001b[39;00m\u001b[39m,\u001b[39m \u001b[39msys\u001b[39;00m\u001b[39m,\u001b[39m \u001b[39mimp\u001b[39;00m\u001b[39m,\u001b[39m \u001b[39mdatetime\u001b[39;00m\u001b[39m,\u001b[39m \u001b[39msocket\u001b[39;00m\n\u001b[0;32m     21\u001b[0m \u001b[39m# Python 3 vs. 2 switch\u001b[39;00m\n\u001b[0;32m     22\u001b[0m \u001b[39mif\u001b[39;00m sys\u001b[39m.\u001b[39mversion_info[\u001b[39m0\u001b[39m] \u001b[39m>\u001b[39m\u001b[39m=\u001b[39m \u001b[39m3\u001b[39m :\n",
      "\u001b[1;31mModuleNotFoundError\u001b[0m: No module named 'imp'"
     ]
    }
   ],
   "source": [
    "!pip install scrape-schema-recipe\n",
    "import scrape_schema_recipe\n",
    "\n",
    "url = 'https://www.foodnetwork.com/recipes/alton-brown/honey-mustard-dressing-recipe-1939031'\n",
    "recipe_list = scrape_schema_recipe.scrape_url(url, python_objects=True)\n",
    "len(recipe_list)\n"
   ]
  },
  {
   "cell_type": "markdown",
   "metadata": {
    "id": "n-J8fiLbeMJ9"
   },
   "source": [
    "## Exercise 3"
   ]
  },
  {
   "cell_type": "markdown",
   "metadata": {
    "id": "7XBeqJHVeMJ9"
   },
   "source": [
    "Schema.org is one of the most widely used annotations formats. Schema.org is a multipurpose  template that has been created by a consortium consisting of Yahoo!, Google and Microsoft. It can describe entities, events, products etc. Check out the vocabulary specs on Schema.org."
   ]
  },
  {
   "cell_type": "markdown",
   "metadata": {
    "id": "fiw8JClyeMJ-"
   },
   "source": [
    "### Task 3\n",
    "\n",
    "Parsing schema.org microdata. To parse this data you need to install the rdflib-microdata package, which you have done in one of the previous steps.\n",
    "\n"
   ]
  },
  {
   "cell_type": "code",
   "execution_count": null,
   "metadata": {
    "colab": {
     "base_uri": "https://localhost:8080/",
     "height": 153
    },
    "id": "X2zr3fOOeMJ-",
    "outputId": "d123f981-d73f-470f-b5e9-8735819f894b"
   },
   "outputs": [],
   "source": [
    "from rdflib import Graph\n",
    "\n",
    "# Source: https://www.youtube.com/watch?v=sCU214rbRZ0\n",
    "# Pass in a URL containing Schema.org microformats\n",
    "URL = \"http://dbpedia.org/resource/Micheal_Jackson\"\n",
    "\n",
    "# Initialize a graph\n",
    "g = Graph()\n",
    "\n",
    "# Parse in an RDF file graph dbpedia\n",
    "result = g.parse(location=URL)\n",
    "\n",
    "# Loop through first 10 triples in the graph\n",
    "for index, (sub, pred, obj) in enumerate(g):\n",
    "    print(sub, pred, obj)\n",
    "    if index == 10:\n",
    "        break"
   ]
  },
  {
   "cell_type": "code",
   "execution_count": null,
   "metadata": {
    "colab": {
     "base_uri": "https://localhost:8080/",
     "height": 34
    },
    "id": "hrQ2EuY5JAn1",
    "outputId": "eba60ebb-7ac5-4451-c16e-3f68e66af7f3"
   },
   "outputs": [],
   "source": [
    "# Print the size of the Graph\n",
    "print(f'Graph has {len(g)} facts')"
   ]
  },
  {
   "cell_type": "code",
   "execution_count": null,
   "metadata": {
    "colab": {
     "base_uri": "https://localhost:8080/",
     "height": 323
    },
    "id": "IAO1JllwJMqO",
    "outputId": "08f5e32d-d1a6-4a30-878a-ce7b768a8811"
   },
   "outputs": [],
   "source": [
    "# Print out the entire Graph in the RDF Turtle format\n",
    "print(g.serialize(format='ttl'))"
   ]
  },
  {
   "cell_type": "markdown",
   "metadata": {
    "id": "dzbynasAeMKA"
   },
   "source": [
    "### Task 3.1 \n",
    "Compare the schema.org information about a band on last.fm to the Facebook Open Graph information about the same band from Facebook. What are the differences? Which format do you think supports better interoperability?"
   ]
  },
  {
   "cell_type": "markdown",
   "metadata": {
    "id": "Nocs4YDPeMKB"
   },
   "source": [
    "### Task 3.2\n",
    "Explore the various microformats at http://microformats.org/ and compare the output of the exercises with the output of http://microformats.org/. Think about possible microformats you want to support in your final assignment and read up on how to parse them."
   ]
  }
 ],
 "metadata": {
  "colab": {
   "collapsed_sections": [],
   "name": "Hands-on_2_microformats.ipynb",
   "provenance": [],
   "toc_visible": true
  },
  "kernelspec": {
   "display_name": "Python 3 (ipykernel)",
   "language": "python",
   "name": "python3"
  },
  "language_info": {
   "codemirror_mode": {
    "name": "ipython",
    "version": 3
   },
   "file_extension": ".py",
   "mimetype": "text/x-python",
   "name": "python",
   "nbconvert_exporter": "python",
   "pygments_lexer": "ipython3",
   "version": "3.12.0"
  }
 },
 "nbformat": 4,
 "nbformat_minor": 4
}
